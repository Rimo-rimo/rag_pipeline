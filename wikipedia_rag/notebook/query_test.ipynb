{
 "cells": [
  {
   "cell_type": "markdown",
   "metadata": {},
   "source": [
    "# Module"
   ]
  },
  {
   "cell_type": "code",
   "execution_count": 3,
   "metadata": {},
   "outputs": [],
   "source": [
    "# 일반 모듈\n",
    "import textwrap\n",
    "import openai\n",
    "import logging\n",
    "import sys\n",
    "import dotenv\n",
    "import time\n",
    "from tqdm import tqdm\n",
    "\n",
    "# llama_index 패키지\n",
    "from llama_index.core import VectorStoreIndex, SimpleDirectoryReader, Document\n",
    "from llama_index.vector_stores.milvus import MilvusVectorStore\n",
    "from llama_index.llms.openai import OpenAI\n",
    "from llama_index.embeddings.openai import OpenAIEmbedding\n",
    "from llama_index.core.node_parser import SentenceSplitter\n",
    "from llama_index.core import StorageContext\n",
    "from llama_index.embeddings.huggingface import HuggingFaceEmbedding\n",
    "from llama_index.core.node_parser import TokenTextSplitter\n",
    "\n",
    "from pymilvus import Collection\n",
    "from pymilvus import connections"
   ]
  },
  {
   "cell_type": "markdown",
   "metadata": {},
   "source": [
    "# Setting"
   ]
  },
  {
   "cell_type": "code",
   "execution_count": 4,
   "metadata": {},
   "outputs": [],
   "source": [
    "# 환경변수 가져오기\n",
    "dotenv.load_dotenv()\n",
    "embed_model = HuggingFaceEmbedding(model_name=\"BAAI/bge-m3\")"
   ]
  },
  {
   "cell_type": "markdown",
   "metadata": {},
   "source": [
    "### Collection Load if needed"
   ]
  },
  {
   "cell_type": "code",
   "execution_count": 5,
   "metadata": {},
   "outputs": [],
   "source": [
    "connections.connect(\n",
    "  alias=\"default\", \n",
    "  host='localhost', \n",
    "  port='19530'\n",
    ")\n",
    "\n",
    "connections.connect(collection_name=\"wiki_bgem3\")"
   ]
  },
  {
   "cell_type": "markdown",
   "metadata": {},
   "source": [
    "# Load VectorDB"
   ]
  },
  {
   "cell_type": "code",
   "execution_count": 4,
   "metadata": {},
   "outputs": [],
   "source": [
    "vector_store = MilvusVectorStore(\n",
    "    uri=\"http://localhost:19530\", collection_name = \"wiki_bgem3\")\n",
    "\n",
    "storage_context = StorageContext.from_defaults(vector_store=vector_store)\n",
    "\n",
    "index = VectorStoreIndex.from_vector_store(\n",
    "    vector_store, storage_context=storage_context, embed_model=embed_model\n",
    ")"
   ]
  },
  {
   "cell_type": "markdown",
   "metadata": {},
   "source": [
    "# VectorSearch"
   ]
  },
  {
   "cell_type": "code",
   "execution_count": 7,
   "metadata": {},
   "outputs": [],
   "source": [
    "search_engine = index.as_retriever(similarity_top_k=2)"
   ]
  },
  {
   "cell_type": "code",
   "execution_count": 8,
   "metadata": {},
   "outputs": [
    {
     "name": "stderr",
     "output_type": "stream",
     "text": [
      "100%|██████████| 100/100 [00:03<00:00, 27.82it/s]\n"
     ]
    }
   ],
   "source": [
    "re = []\n",
    "for i in tqdm(range(100)):\n",
    "    start_time = time.time()\n",
    "    nodes = search_engine.retrieve(\"워셔액을 채우고 싶어\")\n",
    "    end_time = time.time()\n",
    "    re.append(end_time - start_time)"
   ]
  },
  {
   "cell_type": "code",
   "execution_count": 9,
   "metadata": {},
   "outputs": [
    {
     "data": {
      "text/plain": [
       "0.03565921306610107"
      ]
     },
     "execution_count": 9,
     "metadata": {},
     "output_type": "execute_result"
    }
   ],
   "source": [
    "sum(re)/len(re)"
   ]
  },
  {
   "cell_type": "code",
   "execution_count": 10,
   "metadata": {},
   "outputs": [
    {
     "data": {
      "text/plain": [
       "100"
      ]
     },
     "execution_count": 10,
     "metadata": {},
     "output_type": "execute_result"
    }
   ],
   "source": [
    "len(re)"
   ]
  },
  {
   "cell_type": "markdown",
   "metadata": {},
   "source": [
    "# RAG"
   ]
  },
  {
   "cell_type": "code",
   "execution_count": 12,
   "metadata": {},
   "outputs": [],
   "source": [
    "rag_engine = index.as_query_engine(similarity_top_k=2, llm=llm)"
   ]
  },
  {
   "cell_type": "code",
   "execution_count": 13,
   "metadata": {},
   "outputs": [
    {
     "name": "stdout",
     "output_type": "stream",
     "text": [
      "와셔액을 채우려면 다음 단계를 따르십시오:\n",
      "\n",
      "1. 와셔액이 부족한 경우, 보충할 와셔액을 준비합니다.\n",
      "2. 후드를 열고 와셔액 탱크의 캡을 엽니다.\n",
      "3. 와셔액을 보충한 후, 캡을 잠급니다.\n",
      "\n",
      "여름철에는 일반 수돗물이나 시판되는 와셔액을 사용할 수 있지만, 겨울철에는 빙결을 방지하기 위해 겨울용 와셔액을 사용하는 것이 좋습니다.\n"
     ]
    }
   ],
   "source": [
    "response = rag_engine.query(\"워셔액을 채우고 싶어\")\n",
    "print(response.response)"
   ]
  },
  {
   "cell_type": "code",
   "execution_count": 14,
   "metadata": {},
   "outputs": [
    {
     "name": "stdout",
     "output_type": "stream",
     "text": [
      "Node ID: 0b35bedb-31f0-4bb2-8f47-268f153c0738\n",
      "Text: 편의 장치 5-102와셔액 분출 앞유리 2C_WasherSwitch 와셔액을 분출하려면 스위치를 운전자 방향으 로\n",
      "당기십시오. 와이퍼가 작동하면서 올라갈 때 와셔액을 분출합니다. 스위치를 당긴 채로 유지하면 와이퍼가 계속 작동하면서 올라갈\n",
      "때 마다 와셔액을 분출합니다. 당긴 스위치를 놓 으면 와이퍼가 약 4회 작동한 후 자동으로 원위 치됩니다. 와셔액 분출시 실내\n",
      "공기 순환  앞유리 와셔액이 분출될 때 냄새가 들어오는 것 을 막기 위해 외부 온도에 따라 실내 순환 모드및 에어컨이 자동으로\n",
      "작동합니다.  •실내 순환 모드 작동 중 내기/외기 선택 버튼 을 누르면 외기 순환 모드로 전환합니다.  •외기 순환 모드\n",
      "작동...\n",
      "Score:  0.598\n",
      "\n",
      "Node ID: fa45a48a-b366-46ca-98b1-c1ee2fb1e240\n",
      "Text: 정기 점검 9-18 ઱੄   •브레이크액을 보충한 후에 캡이 완전히 잠겼 는지 확인하고, 브레이크액이 흘러내리면 즉\n",
      "시 닦으십시오. 오일이 플라스틱 재질의 부 품을 훼손할 수 있습니다. •브레이크액이 차량의 도장 부분에 묻지 않도 록\n",
      "주의하십시오. 페인트가 손상될 수 있습 니다. •브레이크액을 서늘하고 그늘진 곳에 보관하 십시오. 공기 중에 오래 노출된\n",
      "브레이크액 은 품질이 보증되지 않으므로 사용하지 마십 시오. •브레이크액 탱크에 다른 성분의 액체(미네 랄 성분의 오일, 엔진\n",
      "오일 등)를 넣지 마십시 오. 브레이크 장치 부품이 손상될 수 있습니 다.   ӝ   차량의 제동 및 ABS/ESC 성능을\n",
      "최상으로 유 지...\n",
      "Score:  0.591\n",
      "\n"
     ]
    }
   ],
   "source": [
    "for node in response.source_nodes:\n",
    "    print(node)"
   ]
  },
  {
   "cell_type": "code",
   "execution_count": 9,
   "metadata": {},
   "outputs": [],
   "source": [
    "a = (\n",
    "    \"sdf\",\n",
    "    \"sdf\"\n",
    ")"
   ]
  },
  {
   "cell_type": "code",
   "execution_count": 10,
   "metadata": {},
   "outputs": [
    {
     "data": {
      "text/plain": [
       "tuple"
      ]
     },
     "execution_count": 10,
     "metadata": {},
     "output_type": "execute_result"
    }
   ],
   "source": [
    "type(a)"
   ]
  },
  {
   "cell_type": "code",
   "execution_count": 11,
   "metadata": {},
   "outputs": [
    {
     "data": {
      "text/plain": [
       "('sdf', 'sdf')"
      ]
     },
     "execution_count": 11,
     "metadata": {},
     "output_type": "execute_result"
    }
   ],
   "source": [
    "a"
   ]
  },
  {
   "cell_type": "code",
   "execution_count": null,
   "metadata": {},
   "outputs": [
    {
     "data": {
      "text/plain": [
       "<pymilvus.orm.connections.Connections at 0x7c61b2fa3f50>"
      ]
     },
     "execution_count": 8,
     "metadata": {},
     "output_type": "execute_result"
    }
   ],
   "source": [
    "connections."
   ]
  },
  {
   "cell_type": "code",
   "execution_count": null,
   "metadata": {},
   "outputs": [],
   "source": []
  },
  {
   "cell_type": "code",
   "execution_count": 1,
   "metadata": {},
   "outputs": [],
   "source": [
    "a = \"http://localhost:19530\""
   ]
  },
  {
   "cell_type": "code",
   "execution_count": 2,
   "metadata": {},
   "outputs": [
    {
     "data": {
      "text/plain": [
       "['localhost', '19530']"
      ]
     },
     "execution_count": 2,
     "metadata": {},
     "output_type": "execute_result"
    }
   ],
   "source": [
    "a.split(\"/\")[-1].split(\":\")"
   ]
  },
  {
   "cell_type": "code",
   "execution_count": 10,
   "metadata": {},
   "outputs": [],
   "source": [
    "a = Collection(name=\"wiki_bgem3\")"
   ]
  },
  {
   "cell_type": "code",
   "execution_count": 11,
   "metadata": {},
   "outputs": [
    {
     "data": {
      "text/plain": [
       "10430454"
      ]
     },
     "execution_count": 11,
     "metadata": {},
     "output_type": "execute_result"
    }
   ],
   "source": [
    "a.num_entities"
   ]
  },
  {
   "cell_type": "code",
   "execution_count": 12,
   "metadata": {},
   "outputs": [],
   "source": [
    "import os"
   ]
  },
  {
   "cell_type": "code",
   "execution_count": 14,
   "metadata": {},
   "outputs": [
    {
     "data": {
      "text/plain": [
       "8"
      ]
     },
     "execution_count": 14,
     "metadata": {},
     "output_type": "execute_result"
    }
   ],
   "source": [
    "len(os.listdir(\"/data/sharedoc/livinai\"))"
   ]
  },
  {
   "cell_type": "code",
   "execution_count": 15,
   "metadata": {},
   "outputs": [
    {
     "data": {
      "text/plain": [
       "['CBD방법론.pdf',\n",
       " '.bashrc',\n",
       " '.cache',\n",
       " '.bash_logout',\n",
       " '.config',\n",
       " '.profile',\n",
       " '연구논문',\n",
       " '프로젝트']"
      ]
     },
     "execution_count": 15,
     "metadata": {},
     "output_type": "execute_result"
    }
   ],
   "source": [
    "os.listdir(\"/data/sharedoc/livinai\")"
   ]
  },
  {
   "cell_type": "code",
   "execution_count": 16,
   "metadata": {},
   "outputs": [],
   "source": [
    "from glob import glob"
   ]
  },
  {
   "cell_type": "code",
   "execution_count": 17,
   "metadata": {},
   "outputs": [],
   "source": [
    "file_paths = [i for i in glob(f\"/data/sharedoc/livinai/**\", recursive=True) if os.path.isfile(i)]"
   ]
  },
  {
   "cell_type": "code",
   "execution_count": 18,
   "metadata": {},
   "outputs": [
    {
     "data": {
      "text/plain": [
       "['/data/sharedoc/livinai/CBD방법론.pdf',\n",
       " '/data/sharedoc/livinai/연구논문/2211.11300v3.pdf',\n",
       " '/data/sharedoc/livinai/연구논문/2410.12812v1.pdf',\n",
       " '/data/sharedoc/livinai/연구논문/2409.13373v1.pdf',\n",
       " '/data/sharedoc/livinai/연구논문/2405.13031v1.pdf',\n",
       " '/data/sharedoc/livinai/연구논문/2409.11378v1.pdf',\n",
       " '/data/sharedoc/livinai/연구논문/s41591-024-03097-1.pdf',\n",
       " '/data/sharedoc/livinai/연구논문/9795_Benchmarking_Predictive_C.pdf',\n",
       " '/data/sharedoc/livinai/연구논문/2108.05018.pdf',\n",
       " '/data/sharedoc/livinai/연구논문/2406.15319v1.pdf',\n",
       " '/data/sharedoc/livinai/연구논문/2407.12275v1.pdf',\n",
       " '/data/sharedoc/livinai/연구논문/2405.16731v1.pdf',\n",
       " '/data/sharedoc/livinai/연구논문/1904.08375.pdf',\n",
       " '/data/sharedoc/livinai/연구논문/2410.06628v1.pdf',\n",
       " '/data/sharedoc/livinai/연구논문/2410.07589v1.pdf',\n",
       " '/data/sharedoc/livinai/연구논문/2410.13070v1.pdf',\n",
       " '/data/sharedoc/livinai/연구논문/2410.15262v1.pdf',\n",
       " '/data/sharedoc/livinai/연구논문/2407.14482v1.pdf',\n",
       " '/data/sharedoc/livinai/연구논문/2408.02752v1.pdf',\n",
       " '/data/sharedoc/livinai/연구논문/2410.12788v1.pdf',\n",
       " '/data/sharedoc/livinai/연구논문/2407.21059v1.pdf',\n",
       " '/data/sharedoc/livinai/연구논문/2407.15831v1.pdf',\n",
       " '/data/sharedoc/livinai/연구논문/2407.14679v1.pdf',\n",
       " '/data/sharedoc/livinai/연구논문/2410.12628v1.pdf',\n",
       " '/data/sharedoc/livinai/연구논문/2407.12858v1.pdf',\n",
       " '/data/sharedoc/livinai/연구논문/2407.12784v1.pdf',\n",
       " '/data/sharedoc/livinai/연구논문/2408.16672v1.pdf',\n",
       " '/data/sharedoc/livinai/연구논문/2404.13208v1.pdf',\n",
       " '/data/sharedoc/livinai/프로젝트/세종빅데이터관제센터/20201203557-00_1606902219382_04. 세종 빅데이터 관제센터 시스템 기능 목록.xlsx',\n",
       " '/data/sharedoc/livinai/프로젝트/세종빅데이터관제센터/세종_소프트웨어구성도_20210219_v0.1.pptx',\n",
       " '/data/sharedoc/livinai/프로젝트/세종빅데이터관제센터/ADBC-PJM-방법론테일러링결과서-v0.75.xlsx',\n",
       " '/data/sharedoc/livinai/프로젝트/세종빅데이터관제센터/아키텍처 참고자료.pptx',\n",
       " '/data/sharedoc/livinai/프로젝트/세종빅데이터관제센터/아키텍처 자료.pptx',\n",
       " '/data/sharedoc/livinai/프로젝트/세종빅데이터관제센터/[정성적 제안서] 세종시 자율주행 빅데이터 관제센터 구축 및 운영.pdf',\n",
       " '/data/sharedoc/livinai/프로젝트/현대자동차/hyndai_MX5_HEV.pdf']"
      ]
     },
     "execution_count": 18,
     "metadata": {},
     "output_type": "execute_result"
    }
   ],
   "source": [
    "file_paths"
   ]
  },
  {
   "cell_type": "code",
   "execution_count": null,
   "metadata": {},
   "outputs": [],
   "source": []
  }
 ],
 "metadata": {
  "kernelspec": {
   "display_name": "auto_rag",
   "language": "python",
   "name": "python3"
  },
  "language_info": {
   "codemirror_mode": {
    "name": "ipython",
    "version": 3
   },
   "file_extension": ".py",
   "mimetype": "text/x-python",
   "name": "python",
   "nbconvert_exporter": "python",
   "pygments_lexer": "ipython3",
   "version": "3.11.7"
  }
 },
 "nbformat": 4,
 "nbformat_minor": 2
}
