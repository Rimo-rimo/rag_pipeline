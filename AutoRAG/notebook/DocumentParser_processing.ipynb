{
 "cells": [
  {
   "cell_type": "markdown",
   "metadata": {},
   "source": [
    "# Module"
   ]
  },
  {
   "cell_type": "code",
   "execution_count": 1,
   "metadata": {},
   "outputs": [],
   "source": [
    "import warnings\n",
    "warnings.filterwarnings(action='ignore')\n",
    "\n",
    "import json\n",
    "import os\n",
    "import sys\n",
    "import dotenv\n",
    "import nest_asyncio\n",
    "dotenv.load_dotenv()\n",
    "import requests\n",
    "import json\n",
    "from glob import glob\n",
    "import time\n",
    "import pandas as pd\n",
    "from tqdm import tqdm\n",
    "from urllib.parse import unquote\n",
    "from collections import defaultdict\n",
    "from bs4 import BeautifulSoup\n",
    "\n",
    "from pdf2image import convert_from_path\n",
    "import matplotlib.pyplot as plt\n",
    "import matplotlib.patches as patches\n",
    "from PIL import Image\n",
    "from PIL import Image, ImageDraw"
   ]
  },
  {
   "cell_type": "markdown",
   "metadata": {},
   "source": [
    "# HTML \n",
    "* 하나의 PDF로 부터 나온 html tag는, id값이 1씩 increase 하도록 후처리\n",
    "* 추후 해당 id를 활용해, json으로 부터 dounding_box와 page를 가져올 예정"
   ]
  },
  {
   "cell_type": "code",
   "execution_count": 45,
   "metadata": {},
   "outputs": [],
   "source": [
    "# html 파일을 읽어서, id 값을 수정하는 함수\n",
    "def change_html_tag_id(html_path, save_path):\n",
    "    html = open(html_path).read()\n",
    "    soup = BeautifulSoup(html, 'html.parser')\n",
    "    re = 0\n",
    "    for tag in soup.find_all():\n",
    "        if tag.get('id'):\n",
    "            tag['id'] = re\n",
    "            re += 1\n",
    "    with open(save_path, 'w') as f:    \n",
    "        f.write(str(soup))  \n"
   ]
  },
  {
   "cell_type": "code",
   "execution_count": 51,
   "metadata": {},
   "outputs": [],
   "source": [
    "html_paths = glob(\"../data/nursing/nursing_html/*\")\n",
    "for html_path in html_paths:\n",
    "    file_name = os.path.basename(html_path)\n",
    "    change_html_tag_id(html_path, f\"../data/nursing/nursing_html2/{file_name}\")"
   ]
  },
  {
   "cell_type": "markdown",
   "metadata": {},
   "source": [
    "# JSON\n",
    "* Document Parser로 부터 저장된 JSON 파일을 PDF 단위로 결합\n",
    "* 결합시, id는 0부터 시작하여 HTML의 파일과 동일하게 매칭"
   ]
  },
  {
   "cell_type": "code",
   "execution_count": 2,
   "metadata": {},
   "outputs": [],
   "source": [
    "def json_post_process(file_paths, save_folder_path):\n",
    "    file_names = list(set([os.path.basename(file_path).split(\".pdf\")[0] for file_path in file_paths]))\n",
    "    re = defaultdict(list)\n",
    "\n",
    "    # 파일 이름이 같은 것들을 묶어준다.\n",
    "    for file_name in file_names:\n",
    "        for file_path in file_paths:\n",
    "            if file_name in file_path:\n",
    "                re[file_name].append(file_path)\n",
    "    \n",
    "    # 정렬 해 준다.\n",
    "    for file_name in re:\n",
    "        re[file_name] = sorted(re[file_name])\n",
    "    \n",
    "    for file_name in re:\n",
    "        re_json = {\"elements\":[]}\n",
    "        for file_path in re[file_name]:\n",
    "            with open(file_path, \"r\") as f:\n",
    "                data = json.load(f)\n",
    "                re_json[\"elements\"].extend(data[\"elements\"])\n",
    "        id_ = 0\n",
    "        for r in re_json[\"elements\"]:\n",
    "            r[\"id\"] = id_\n",
    "            id_ += 1\n",
    "            for b in r[\"bounding_box\"]:\n",
    "                b[\"x\"] = b[\"x\"]/1362\n",
    "                b[\"y\"] = b[\"y\"]/1776\n",
    "        \n",
    "        with open(os.path.join(save_folder_path, file_name+\".json\"), 'w') as f:\n",
    "            json.dump(re_json, f, indent=4)"
   ]
  },
  {
   "cell_type": "code",
   "execution_count": 3,
   "metadata": {},
   "outputs": [],
   "source": [
    "json_post_process(glob(\"../data/nursing/nursing_downloads/*.json\"), \"../data/nursing/nursing_json\")"
   ]
  },
  {
   "cell_type": "markdown",
   "metadata": {},
   "source": [
    "# PDF to PNG\n",
    "* PDF 파일을 PNG 이미지로 변환\n",
    "* 형식 : 파일이름_page"
   ]
  },
  {
   "cell_type": "code",
   "execution_count": 13,
   "metadata": {},
   "outputs": [],
   "source": [
    "pdf_paths = glob(\"../data/nursing/*.pdf\")"
   ]
  },
  {
   "cell_type": "code",
   "execution_count": 14,
   "metadata": {},
   "outputs": [
    {
     "data": {
      "text/plain": [
       "['../data/nursing/22장 신경계장애 대상자간호-(1).pdf',\n",
       " '../data/nursing/18장 요로계 장애 대상자 간호.pdf',\n",
       " '../data/nursing/14장 호흡기장애 대상자 간호-(2).pdf',\n",
       " '../data/nursing/17장 혈액계 장애 대상자 간호.pdf',\n",
       " '../data/nursing/21장 근골격계 장애.pdf',\n",
       " '../data/nursing/20장 유방장애 대상자 간호.pdf',\n",
       " '../data/nursing/27장 화상간호.pdf',\n",
       " '../data/nursing/25장 청각과 평형장애 대상자 간호.pdf',\n",
       " '../data/nursing/30 판권.pdf',\n",
       " '../data/nursing/26장 피부장애 대상자 간호.pdf',\n",
       " '../data/nursing/16장 혈관장애 대상자 간호.pdf',\n",
       " '../data/nursing/19장 남성 생식기계 대상자 간호.pdf',\n",
       " '../data/nursing/14장 호흡기장애 대상자 간호-(1).pdf',\n",
       " '../data/nursing/22장 신경계장애 대상자간호-(2).pdf',\n",
       " '../data/nursing/00 도입부(하권).pdf',\n",
       " '../data/nursing/23장 내분비장애 대상자 간호.pdf',\n",
       " '../data/nursing/24장 시각장애 대상자 간호.pdf',\n",
       " '../data/nursing/15장 심장장애 대상자 간호-(2).pdf',\n",
       " '../data/nursing/15장 심장장애 대상자 간호-(1).pdf']"
      ]
     },
     "execution_count": 14,
     "metadata": {},
     "output_type": "execute_result"
    }
   ],
   "source": [
    "pdf_paths"
   ]
  },
  {
   "cell_type": "code",
   "execution_count": 16,
   "metadata": {},
   "outputs": [
    {
     "name": "stderr",
     "output_type": "stream",
     "text": [
      "100%|██████████| 19/19 [09:26<00:00, 29.82s/it]\n"
     ]
    }
   ],
   "source": [
    "# for pdf_path in tqdm(pdf_paths):\n",
    "#     images = convert_from_path(pdf_path, dpi=150)\n",
    "#     file_name = os.path.basename(pdf_path).split(\".pdf\")[0]\n",
    "    \n",
    "#     if not os.path.exists(f\"../data/nursing/nursing_images/{file_name}\"):\n",
    "#         os.makedirs(f\"../data/nursing/nursing_images/{file_name}\")\n",
    "\n",
    "#     for i, image in enumerate(images):\n",
    "#         image.save(f\"../data/nursing/nursing_images/{file_name}/{i}.png\")"
   ]
  },
  {
   "cell_type": "markdown",
   "metadata": {},
   "source": [
    "# Bounding Box"
   ]
  },
  {
   "cell_type": "code",
   "execution_count": 23,
   "metadata": {},
   "outputs": [],
   "source": [
    "title = \"23장 내분비장애 대상자 간호\"\n",
    "t = \"\"\"서맥, 고<br/>혈압, 고콜레스테롤혈증, 심장비대, 심부전(심장기능상<br/>실)이 나타나는지 관찰한다.</p><br/><p data-category=\"paragraph\" id=\"1288\" style=\"font-size:18px\">또한 눈 주위나 안면의 부종, 멍한 표정, 두꺼운 혀,<br/>근육활동저하 등의 신체증상을 관찰한다. 저체온증, 호<br/>흡이나 심박동수 및 혈압감소 등의 활력징후를 자세히<br/>기록한다. 갑상샘호르몬제는 공복에 투여한다.</p><br/><p data-category=\"paragraph\" id=\"1289\" style=\"font-size:18px\">당뇨병 대상자는 갑상샘저하증으로 인해 혈당치가 더<br/>불안정해지므로 주의 깊게 모니터한다. 또한 갑상샘장<br/>애의 중증 합병증을 확인한다(표 23-20).</p><p data-category=\"paragraph\" id=\"1290\" style=\"font-size:22px\">(1) 합병증 예방</p><br/><p data-category=\"paragraph\" id=\"1291\" style=\"font-size:18px\">갑상샘저하증은 신진대사율 감소와 무기력으로 움직<br/>이지 않아서 합병증이 초래되기 쉽다. 점액부종으로 심<br/>혈관계와 폐기능이 저하되어 운동과 활동에 제한을 받<br/>는다. 저산소증을 교정하기 위해 심호흡과 조기이상을<br/>권장한다. 또한 부동으로 인한 합병증을 예방하기 위해<br/>대상자가 활동에 참여하도록 격려한다. 로션과 크림을<br/>발라주어 피부건조를 완화하며 위생과 관리를 도와준<br/>다. 신체적·정신적 상태의 악화, 치료의 부작용, 점액부<br/>종의 합병증 등을 발견하기 위해 활력징후와 인지수준<br/>을 주의 깊게 관찰한다.</p><p data-category=\"paragraph\" id=\"1292\" style=\"font-size:20px\">(2) 보온</p><br/><p data-category=\"paragraph\" id=\"1293\" style=\"font-size:18px\">쉽게 오한과 추위를 느끼므로 편안하고 따뜻한 환경<br/>을 제공한다. 여분의 옷과 담요를 덮어주고 바람을 막<br/>아준다. 전기담요나 보온패드(heating pad)는 말초혈관<br/>이완, 체온상실, 혈관허탈을 일으킬 수 있기 때문에 피<br/>한다.\"\"\""
   ]
  },
  {
   "cell_type": "code",
   "execution_count": 24,
   "metadata": {},
   "outputs": [],
   "source": [
    "# html 형식 str 로 부터 tag id 추출\n",
    "def extract_tag_id(html_str):\n",
    "    soup = BeautifulSoup(html_str, 'html.parser')\n",
    "    re = []\n",
    "    for tag in soup.find_all():\n",
    "        if tag.get('id'):\n",
    "            re.append(tag.get('id'))\n",
    "    return re"
   ]
  },
  {
   "cell_type": "code",
   "execution_count": 25,
   "metadata": {},
   "outputs": [
    {
     "data": {
      "text/plain": [
       "['1288', '1289', '1290', '1291', '1292', '1293']"
      ]
     },
     "execution_count": 25,
     "metadata": {},
     "output_type": "execute_result"
    }
   ],
   "source": [
    "tag_ids = extract_tag_id(t)\n",
    "tag_ids"
   ]
  },
  {
   "cell_type": "code",
   "execution_count": 26,
   "metadata": {},
   "outputs": [],
   "source": [
    "with open(f\"../data/nursing/nursing_json/{title}.json\", \"r\") as f:\n",
    "    json_data = json.load(f)"
   ]
  },
  {
   "cell_type": "code",
   "execution_count": 27,
   "metadata": {},
   "outputs": [],
   "source": [
    "page_dict = defaultdict(list)\n",
    "for tag_id in tag_ids:\n",
    "    element = json_data[\"elements\"][int(tag_id)]\n",
    "    page_dict[element[\"page\"]].append(element[\"bounding_box\"])"
   ]
  },
  {
   "cell_type": "code",
   "execution_count": 28,
   "metadata": {},
   "outputs": [
    {
     "data": {
      "text/plain": [
       "['1288', '1289', '1290', '1291', '1292', '1293']"
      ]
     },
     "execution_count": 28,
     "metadata": {},
     "output_type": "execute_result"
    }
   ],
   "source": [
    "tag_ids"
   ]
  },
  {
   "cell_type": "code",
   "execution_count": 29,
   "metadata": {},
   "outputs": [
    {
     "data": {
      "text/plain": [
       "defaultdict(list,\n",
       "            {85: [[{'x': 0.513215859030837, 'y': 0.25844594594594594},\n",
       "               {'x': 0.869309838472834, 'y': 0.25844594594594594},\n",
       "               {'x': 0.869309838472834, 'y': 0.3333333333333333},\n",
       "               {'x': 0.513215859030837, 'y': 0.3333333333333333}],\n",
       "              [{'x': 0.5124816446402349, 'y': 0.33783783783783783},\n",
       "               {'x': 0.8707782672540382, 'y': 0.33783783783783783},\n",
       "               {'x': 0.8707782672540382, 'y': 0.3952702702702703},\n",
       "               {'x': 0.5124816446402349, 'y': 0.3952702702702703}],\n",
       "              [{'x': 0.5139500734214391, 'y': 0.4177927927927928},\n",
       "               {'x': 0.6255506607929515, 'y': 0.4177927927927928},\n",
       "               {'x': 0.6255506607929515, 'y': 0.4341216216216216},\n",
       "               {'x': 0.5139500734214391, 'y': 0.4341216216216216}],\n",
       "              [{'x': 0.5146842878120411, 'y': 0.4369369369369369},\n",
       "               {'x': 0.8715124816446402, 'y': 0.4369369369369369},\n",
       "               {'x': 0.8715124816446402, 'y': 0.6334459459459459},\n",
       "               {'x': 0.5146842878120411, 'y': 0.6334459459459459}],\n",
       "              [{'x': 0.5139500734214391, 'y': 0.6576576576576577},\n",
       "               {'x': 0.5741556534508077, 'y': 0.6576576576576577},\n",
       "               {'x': 0.5741556534508077, 'y': 0.6734234234234234},\n",
       "               {'x': 0.5139500734214391, 'y': 0.6734234234234234}],\n",
       "              [{'x': 0.5146842878120411, 'y': 0.6773648648648649},\n",
       "               {'x': 0.8722466960352423, 'y': 0.6773648648648649},\n",
       "               {'x': 0.8722466960352423, 'y': 0.793918918918919},\n",
       "               {'x': 0.5146842878120411, 'y': 0.793918918918919}]]})"
      ]
     },
     "execution_count": 29,
     "metadata": {},
     "output_type": "execute_result"
    }
   ],
   "source": [
    "page_dict"
   ]
  },
  {
   "cell_type": "code",
   "execution_count": 30,
   "metadata": {},
   "outputs": [],
   "source": [
    "# png 불러와서 바운딩 박스 그리고 시각화\n",
    "def draw_bounding_box(file_name, page_dict):\n",
    "    result = []\n",
    "    for page_ in page_dict:\n",
    "        image = Image.open(f\"../data/nursing/nursing_images/{file_name}/{page_-1}.png\")\n",
    "        w, h = image.size\n",
    "        draw = ImageDraw.Draw(image)\n",
    "        for bbox in page_dict[page_]:\n",
    "            x1 = bbox[0][\"x\"]*w\n",
    "            y1 = bbox[0][\"y\"]*h\n",
    "            x2 = bbox[1][\"x\"]*w\n",
    "            y2 = bbox[2][\"y\"]*h\n",
    "            draw.rectangle([x1, y1, x2, y2], outline=(255,0,0), width=2)\n",
    "        image.save(f\"./{file_name}_{page_-1}.png\")\n",
    "        print(f\"SAVE - {file_name}_{page_-1}.png\")"
   ]
  },
  {
   "cell_type": "code",
   "execution_count": 31,
   "metadata": {},
   "outputs": [
    {
     "name": "stdout",
     "output_type": "stream",
     "text": [
      "SAVE - 23장 내분비장애 대상자 간호_84.png\n"
     ]
    }
   ],
   "source": [
    "draw_bounding_box(title, page_dict)"
   ]
  },
  {
   "cell_type": "code",
   "execution_count": null,
   "metadata": {},
   "outputs": [],
   "source": []
  }
 ],
 "metadata": {
  "kernelspec": {
   "display_name": "rag_pipeline",
   "language": "python",
   "name": "python3"
  },
  "language_info": {
   "codemirror_mode": {
    "name": "ipython",
    "version": 3
   },
   "file_extension": ".py",
   "mimetype": "text/x-python",
   "name": "python",
   "nbconvert_exporter": "python",
   "pygments_lexer": "ipython3",
   "version": "3.11.7"
  }
 },
 "nbformat": 4,
 "nbformat_minor": 2
}
