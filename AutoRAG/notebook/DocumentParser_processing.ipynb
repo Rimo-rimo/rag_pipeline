{
 "cells": [
  {
   "cell_type": "markdown",
   "metadata": {},
   "source": [
    "# Module"
   ]
  },
  {
   "cell_type": "code",
   "execution_count": 24,
   "metadata": {},
   "outputs": [],
   "source": [
    "import warnings\n",
    "warnings.filterwarnings(action='ignore')\n",
    "\n",
    "import json\n",
    "import os\n",
    "import sys\n",
    "import dotenv\n",
    "import nest_asyncio\n",
    "dotenv.load_dotenv()\n",
    "import requests\n",
    "import json\n",
    "from glob import glob\n",
    "import time\n",
    "import pandas as pd\n",
    "from tqdm import tqdm\n",
    "from urllib.parse import unquote\n",
    "from collections import defaultdict\n",
    "from bs4 import BeautifulSoup\n",
    "\n",
    "from pdf2image import convert_from_path\n",
    "import matplotlib.pyplot as plt\n",
    "import matplotlib.patches as patches\n",
    "from PIL import Image\n",
    "from PIL import Image, ImageDraw"
   ]
  },
  {
   "cell_type": "markdown",
   "metadata": {},
   "source": [
    "# HTML \n",
    "* 하나의 PDF로 부터 나온 html tag는, id값이 1씩 increase 하도록 후처리\n",
    "* 추후 해당 id를 활용해, json으로 부터 dounding_box와 page를 가져올 예정"
   ]
  },
  {
   "cell_type": "code",
   "execution_count": 45,
   "metadata": {},
   "outputs": [],
   "source": [
    "# html 파일을 읽어서, id 값을 수정하는 함수\n",
    "def change_html_tag_id(html_path, save_path):\n",
    "    html = open(html_path).read()\n",
    "    soup = BeautifulSoup(html, 'html.parser')\n",
    "    re = 0\n",
    "    for tag in soup.find_all():\n",
    "        if tag.get('id'):\n",
    "            tag['id'] = re\n",
    "            re += 1\n",
    "    with open(save_path, 'w') as f:    \n",
    "        f.write(str(soup))  \n"
   ]
  },
  {
   "cell_type": "code",
   "execution_count": 51,
   "metadata": {},
   "outputs": [],
   "source": [
    "html_paths = glob(\"../data/nursing/nursing_html/*\")\n",
    "for html_path in html_paths:\n",
    "    file_name = os.path.basename(html_path)\n",
    "    change_html_tag_id(html_path, f\"../data/nursing/nursing_html2/{file_name}\")"
   ]
  },
  {
   "cell_type": "markdown",
   "metadata": {},
   "source": [
    "# JSON\n",
    "* Document Parser로 부터 저장된 JSON 파일을 PDF 단위로 결합\n",
    "* 결합시, id는 0부터 시작하여 HTML의 파일과 동일하게 매칭"
   ]
  },
  {
   "cell_type": "code",
   "execution_count": 2,
   "metadata": {},
   "outputs": [],
   "source": [
    "def json_post_process(file_paths, save_folder_path):\n",
    "    file_names = list(set([os.path.basename(file_path).split(\".pdf\")[0] for file_path in file_paths]))\n",
    "    re = defaultdict(list)\n",
    "\n",
    "    # 파일 이름이 같은 것들을 묶어준다.\n",
    "    for file_name in file_names:\n",
    "        for file_path in file_paths:\n",
    "            if file_name in file_path:\n",
    "                re[file_name].append(file_path)\n",
    "    \n",
    "    # 정렬 해 준다.\n",
    "    for file_name in re:\n",
    "        re[file_name] = sorted(re[file_name])\n",
    "    \n",
    "    for file_name in re:\n",
    "        re_json = {\"elements\":[]}\n",
    "        for file_path in re[file_name]:\n",
    "            with open(file_path, \"r\") as f:\n",
    "                data = json.load(f)\n",
    "                re_json[\"elements\"].extend(data[\"elements\"])\n",
    "        id_ = 0\n",
    "        for r in re_json[\"elements\"]:\n",
    "            r[\"id\"] = id_\n",
    "            id_ += 1\n",
    "            for b in r[\"bounding_box\"]:\n",
    "                b[\"x\"] = b[\"x\"]/1362\n",
    "                b[\"y\"] = b[\"y\"]/1776\n",
    "        \n",
    "        with open(os.path.join(save_folder_path, file_name+\".json\"), 'w') as f:\n",
    "            json.dump(re_json, f, indent=4)"
   ]
  },
  {
   "cell_type": "code",
   "execution_count": 3,
   "metadata": {},
   "outputs": [],
   "source": [
    "json_post_process(glob(\"../data/nursing/nursing_downloads/*.json\"), \"../data/nursing/nursing_json\")"
   ]
  },
  {
   "cell_type": "markdown",
   "metadata": {},
   "source": [
    "# PDF to PNG\n",
    "* PDF 파일을 PNG 이미지로 변환\n",
    "* 형식 : 파일이름_page"
   ]
  },
  {
   "cell_type": "code",
   "execution_count": 13,
   "metadata": {},
   "outputs": [],
   "source": [
    "pdf_paths = glob(\"../data/nursing/*.pdf\")"
   ]
  },
  {
   "cell_type": "code",
   "execution_count": 14,
   "metadata": {},
   "outputs": [
    {
     "data": {
      "text/plain": [
       "['../data/nursing/22장 신경계장애 대상자간호-(1).pdf',\n",
       " '../data/nursing/18장 요로계 장애 대상자 간호.pdf',\n",
       " '../data/nursing/14장 호흡기장애 대상자 간호-(2).pdf',\n",
       " '../data/nursing/17장 혈액계 장애 대상자 간호.pdf',\n",
       " '../data/nursing/21장 근골격계 장애.pdf',\n",
       " '../data/nursing/20장 유방장애 대상자 간호.pdf',\n",
       " '../data/nursing/27장 화상간호.pdf',\n",
       " '../data/nursing/25장 청각과 평형장애 대상자 간호.pdf',\n",
       " '../data/nursing/30 판권.pdf',\n",
       " '../data/nursing/26장 피부장애 대상자 간호.pdf',\n",
       " '../data/nursing/16장 혈관장애 대상자 간호.pdf',\n",
       " '../data/nursing/19장 남성 생식기계 대상자 간호.pdf',\n",
       " '../data/nursing/14장 호흡기장애 대상자 간호-(1).pdf',\n",
       " '../data/nursing/22장 신경계장애 대상자간호-(2).pdf',\n",
       " '../data/nursing/00 도입부(하권).pdf',\n",
       " '../data/nursing/23장 내분비장애 대상자 간호.pdf',\n",
       " '../data/nursing/24장 시각장애 대상자 간호.pdf',\n",
       " '../data/nursing/15장 심장장애 대상자 간호-(2).pdf',\n",
       " '../data/nursing/15장 심장장애 대상자 간호-(1).pdf']"
      ]
     },
     "execution_count": 14,
     "metadata": {},
     "output_type": "execute_result"
    }
   ],
   "source": [
    "pdf_paths"
   ]
  },
  {
   "cell_type": "code",
   "execution_count": 16,
   "metadata": {},
   "outputs": [
    {
     "name": "stderr",
     "output_type": "stream",
     "text": [
      "100%|██████████| 19/19 [09:26<00:00, 29.82s/it]\n"
     ]
    }
   ],
   "source": [
    "# for pdf_path in tqdm(pdf_paths):\n",
    "#     images = convert_from_path(pdf_path, dpi=150)\n",
    "#     file_name = os.path.basename(pdf_path).split(\".pdf\")[0]\n",
    "    \n",
    "#     if not os.path.exists(f\"../data/nursing/nursing_images/{file_name}\"):\n",
    "#         os.makedirs(f\"../data/nursing/nursing_images/{file_name}\")\n",
    "\n",
    "#     for i, image in enumerate(images):\n",
    "#         image.save(f\"../data/nursing/nursing_images/{file_name}/{i}.png\")"
   ]
  },
  {
   "cell_type": "markdown",
   "metadata": {},
   "source": [
    "# Bounding Box"
   ]
  },
  {
   "cell_type": "code",
   "execution_count": 28,
   "metadata": {},
   "outputs": [],
   "source": [
    "title = \"23장 내분비장애 대상자 간호\"\n",
    "t = \"\"\"외분비샘은 관을 통하<br/>거나 직접 장관이나 피부에 효소(enzyme)나 분비물을<br/>내보내는 반면, 내분비샘은 호르몬을 직접 혈류로 분비<br/>하는 체계로서, 해부학적으로 연결된 것이 아니라 기능<br/>적으로 상호연결된 샘(gland)의 혼합구조이다.</p><br/><p data-category=\"paragraph\" id=\"21\" style=\"font-size:20px\">내분비계는 샘과 샘조직, 표적기관 또는 수용체로 구</p><br/><p data-category=\"paragraph\" id=\"22\" style=\"font-size:20px\">성된다. 주요 내분비샘은 시상하부(hypothalamus), 뇌<br/>하수체(pituitary gland), 갑상샘(thyroid gland), 부갑상<br/>샘 (parathyroid gland), 부신(adrenal gland), 췌장(이<br/>자)의 랑게르한스섬, 생식샘(고환과 난소) 등이다(그림<br/>23-1).</p><br/><p data-category=\"paragraph\" id=\"23\" style=\"font-size:20px\">내분비샘에서 분비하는 호르몬은 표적기관에 작용하<br/>는 화학정보로서 기관의 기능을 자극하거나 억제한다.<br/>호르몬은 혈류를 따라 이동하여 표적세포의 수용체와</p><figure><img alt=\"시상 뇌하수체 (thalamus) (pituitary) 시상하부 (hypothalamus) 부갑상샘(갑상샘후면) (parathyroids) 갑상샘 시신경교차 (optic chiasph) (thyroid) 사용하는Trenjonrishopisis (nerve trunk) 선하수체 신경간 (adenohypophysis) 부신 누두돌기 (adrenals) (infundibular 열(cleft) 췌장(랑게르한스섬) process) (pancreas, islets of langerhans) 후엽 전엽 고환(남성) (posterior lobe) (anterior lobe) (testes) 난소(여성) (ovaries)\" data-coord=\"top-left:(199,1018); bottom-right:(1200,1580)\" id=\"24\" style=\"font-size:16px\"/></figure><p data-category=\"paragraph\" id=\"25\" style=\"font-size:16px\">그림 23-1 내분비샘</p><header id=\"26\" style=\"font-size:14px\">CHAPTER 23 내분비장애 대상자 간호 I 549</header><p data-category=\"paragraph\" id=\"27\" style=\"font-size:18px\">결합한다.</p><p data-category=\"paragraph\" id=\"28\" style=\"font-size:18px\">내분비계와 신경계 작용을 통해 성장과 발달, 항상성 유<br/>지, 외부환경 변화의 응급요구에 대한 반응과 적응 및 세<br/>포복제가 일어난다.\"\"\""
   ]
  },
  {
   "cell_type": "code",
   "execution_count": 40,
   "metadata": {},
   "outputs": [],
   "source": [
    "# html 형식 str 로 부터 tag id 추출\n",
    "def extract_tag_id(html_str):\n",
    "    soup = BeautifulSoup(html_str, 'html.parser')\n",
    "    re = []\n",
    "    for tag in soup.find_all():\n",
    "        if tag.get('id'):\n",
    "            re.append(int(tag.get('id')))\n",
    "    \n",
    "    if re[0] > 0:\n",
    "        re.append(re[0]-1)\n",
    "    return re"
   ]
  },
  {
   "cell_type": "code",
   "execution_count": 42,
   "metadata": {},
   "outputs": [
    {
     "data": {
      "text/plain": [
       "[21, 22, 23, 24, 25, 26, 27, 28, 20]"
      ]
     },
     "execution_count": 42,
     "metadata": {},
     "output_type": "execute_result"
    }
   ],
   "source": [
    "tag_ids = extract_tag_id(t)\n",
    "tag_ids"
   ]
  },
  {
   "cell_type": "code",
   "execution_count": 43,
   "metadata": {},
   "outputs": [],
   "source": [
    "with open(f\"../data/nursing/nursing_json/{title}.json\", \"r\") as f:\n",
    "    json_data = json.load(f)"
   ]
  },
  {
   "cell_type": "code",
   "execution_count": 44,
   "metadata": {},
   "outputs": [],
   "source": [
    "page_dict = defaultdict(list)\n",
    "for tag_id in tag_ids:\n",
    "    element = json_data[\"elements\"][int(tag_id)]\n",
    "    page_dict[element[\"page\"]].append(element[\"bounding_box\"])"
   ]
  },
  {
   "cell_type": "code",
   "execution_count": 45,
   "metadata": {},
   "outputs": [
    {
     "data": {
      "text/plain": [
       "defaultdict(list,\n",
       "            {3: [[{'x': 0.14023494860499267, 'y': 0.5180180180180181},\n",
       "               {'x': 0.48751835535976507, 'y': 0.5180180180180181},\n",
       "               {'x': 0.48751835535976507, 'y': 0.5349099099099099},\n",
       "               {'x': 0.14023494860499267, 'y': 0.5349099099099099}],\n",
       "              [{'x': 0.5124816446402349, 'y': 0.3778153153153153},\n",
       "               {'x': 0.8715124816446402, 'y': 0.3778153153153153},\n",
       "               {'x': 0.8715124816446402, 'y': 0.47297297297297297},\n",
       "               {'x': 0.5124816446402349, 'y': 0.47297297297297297}],\n",
       "              [{'x': 0.5139500734214391, 'y': 0.4774774774774775},\n",
       "               {'x': 0.8707782672540382, 'y': 0.4774774774774775},\n",
       "               {'x': 0.8707782672540382, 'y': 0.5349099099099099},\n",
       "               {'x': 0.5139500734214391, 'y': 0.5349099099099099}],\n",
       "              [{'x': 0.1461086637298091, 'y': 0.5731981981981982},\n",
       "               {'x': 0.8810572687224669, 'y': 0.5731981981981982},\n",
       "               {'x': 0.8810572687224669, 'y': 0.8896396396396397},\n",
       "               {'x': 0.1461086637298091, 'y': 0.8896396396396397}],\n",
       "              [{'x': 0.434654919236417, 'y': 0.9009009009009009},\n",
       "               {'x': 0.5675477239353891, 'y': 0.9009009009009009},\n",
       "               {'x': 0.5675477239353891, 'y': 0.9149774774774775},\n",
       "               {'x': 0.434654919236417, 'y': 0.9149774774774775}],\n",
       "              [{'x': 0.1277533039647577, 'y': 0.3778153153153153},\n",
       "               {'x': 0.48751835535976507, 'y': 0.3778153153153153},\n",
       "               {'x': 0.48751835535976507, 'y': 0.5146396396396397},\n",
       "               {'x': 0.1277533039647577, 'y': 0.5146396396396397}]],\n",
       "             4: [[{'x': 0.5073421439060205, 'y': 0.06418918918918919},\n",
       "               {'x': 0.8127753303964758, 'y': 0.06418918918918919},\n",
       "               {'x': 0.8127753303964758, 'y': 0.08108108108108109},\n",
       "               {'x': 0.5073421439060205, 'y': 0.08108108108108109}],\n",
       "              [{'x': 0.12848751835535976, 'y': 0.1188063063063063},\n",
       "               {'x': 0.19309838472834068, 'y': 0.1188063063063063},\n",
       "               {'x': 0.19309838472834068, 'y': 0.134009009009009},\n",
       "               {'x': 0.12848751835535976, 'y': 0.134009009009009}],\n",
       "              [{'x': 0.1277533039647577, 'y': 0.13851351351351351},\n",
       "               {'x': 0.48604992657856094, 'y': 0.13851351351351351},\n",
       "               {'x': 0.48604992657856094, 'y': 0.294481981981982},\n",
       "               {'x': 0.1277533039647577, 'y': 0.294481981981982}]]})"
      ]
     },
     "execution_count": 45,
     "metadata": {},
     "output_type": "execute_result"
    }
   ],
   "source": [
    "page_dict"
   ]
  },
  {
   "cell_type": "code",
   "execution_count": 46,
   "metadata": {},
   "outputs": [],
   "source": [
    "# png 불러와서 바운딩 박스 그리고 시각화\n",
    "def draw_bounding_box(file_name, page_dict):\n",
    "    result = []\n",
    "    for page_ in page_dict: \n",
    "        image = Image.open(f\"../data/nursing/nursing_images/{file_name}/{page_-1}.png\")\n",
    "        w, h = image.size\n",
    "        draw = ImageDraw.Draw(image)\n",
    "        for bbox in page_dict[page_]:\n",
    "            x1 = bbox[0][\"x\"]*w\n",
    "            y1 = bbox[0][\"y\"]*h\n",
    "            x2 = bbox[1][\"x\"]*w\n",
    "            y2 = bbox[2][\"y\"]*h\n",
    "            draw.rectangle([x1, y1, x2, y2], outline=(255,0,0), width=2)\n",
    "        image.save(f\"./{file_name}_{page_-1}.png\")\n",
    "        print(f\"SAVE - {file_name}_{page_-1}.png\")"
   ]
  },
  {
   "cell_type": "code",
   "execution_count": 47,
   "metadata": {},
   "outputs": [
    {
     "name": "stdout",
     "output_type": "stream",
     "text": [
      "SAVE - 23장 내분비장애 대상자 간호_2.png\n",
      "SAVE - 23장 내분비장애 대상자 간호_3.png\n"
     ]
    }
   ],
   "source": [
    "draw_bounding_box(title, page_dict)"
   ]
  },
  {
   "cell_type": "code",
   "execution_count": 48,
   "metadata": {},
   "outputs": [
    {
     "ename": "NameError",
     "evalue": "name 'image' is not defined",
     "output_type": "error",
     "traceback": [
      "\u001b[0;31m---------------------------------------------------------------------------\u001b[0m",
      "\u001b[0;31mNameError\u001b[0m                                 Traceback (most recent call last)",
      "Cell \u001b[0;32mIn[48], line 1\u001b[0m\n\u001b[0;32m----> 1\u001b[0m \u001b[43mimage\u001b[49m\n",
      "\u001b[0;31mNameError\u001b[0m: name 'image' is not defined"
     ]
    }
   ],
   "source": [
    "image"
   ]
  },
  {
   "cell_type": "code",
   "execution_count": 1,
   "metadata": {},
   "outputs": [],
   "source": [
    "from glob import glob\n",
    "file_paths = glob(\"/home/livin/rag_pipeline/AutoRAG/data/nursing/nursing_html2/*\")"
   ]
  },
  {
   "cell_type": "code",
   "execution_count": 5,
   "metadata": {},
   "outputs": [],
   "source": [
    "file_paths = str(file_paths).replace(\"'\", '\"')"
   ]
  },
  {
   "cell_type": "code",
   "execution_count": 7,
   "metadata": {},
   "outputs": [
    {
     "name": "stdout",
     "output_type": "stream",
     "text": [
      "[\"/home/livin/rag_pipeline/AutoRAG/data/nursing/nursing_html2/25장 청각과 평형장애 대상자 간호.html\", \"/home/livin/rag_pipeline/AutoRAG/data/nursing/nursing_html2/22장 신경계장애 대상자간호-(1).html\", \"/home/livin/rag_pipeline/AutoRAG/data/nursing/nursing_html2/14장 호흡기장애 대상자 간호-(2).html\", \"/home/livin/rag_pipeline/AutoRAG/data/nursing/nursing_html2/24장 시각장애 대상자 간호.html\", \"/home/livin/rag_pipeline/AutoRAG/data/nursing/nursing_html2/30 판권.html\", \"/home/livin/rag_pipeline/AutoRAG/data/nursing/nursing_html2/15장 심장장애 대상자 간호-(2).html\", \"/home/livin/rag_pipeline/AutoRAG/data/nursing/nursing_html2/18장 요로계 장애 대상자 간호.html\", \"/home/livin/rag_pipeline/AutoRAG/data/nursing/nursing_html2/00 도입부(하권).html\", \"/home/livin/rag_pipeline/AutoRAG/data/nursing/nursing_html2/21장 근골격계 장애.html\", \"/home/livin/rag_pipeline/AutoRAG/data/nursing/nursing_html2/16장 혈관장애 대상자 간호.html\", \"/home/livin/rag_pipeline/AutoRAG/data/nursing/nursing_html2/26장 피부장애 대상자 간호.html\", \"/home/livin/rag_pipeline/AutoRAG/data/nursing/nursing_html2/19장 남성 생식기계 대상자 간호.html\", \"/home/livin/rag_pipeline/AutoRAG/data/nursing/nursing_html2/23장 내분비장애 대상자 간호.html\", \"/home/livin/rag_pipeline/AutoRAG/data/nursing/nursing_html2/22장 신경계장애 대상자간호-(2).html\", \"/home/livin/rag_pipeline/AutoRAG/data/nursing/nursing_html2/15장 심장장애 대상자 간호-(1).html\", \"/home/livin/rag_pipeline/AutoRAG/data/nursing/nursing_html2/20장 유방장애 대상자 간호.html\", \"/home/livin/rag_pipeline/AutoRAG/data/nursing/nursing_html2/17장 혈액계 장애 대상자 간호.html\", \"/home/livin/rag_pipeline/AutoRAG/data/nursing/nursing_html2/27장 화상간호.html\", \"/home/livin/rag_pipeline/AutoRAG/data/nursing/nursing_html2/14장 호흡기장애 대상자 간호-(1).html\"]\n"
     ]
    }
   ],
   "source": [
    "print(file_paths)"
   ]
  },
  {
   "cell_type": "code",
   "execution_count": null,
   "metadata": {},
   "outputs": [],
   "source": []
  }
 ],
 "metadata": {
  "kernelspec": {
   "display_name": "auto_rag",
   "language": "python",
   "name": "python3"
  },
  "language_info": {
   "codemirror_mode": {
    "name": "ipython",
    "version": 3
   },
   "file_extension": ".py",
   "mimetype": "text/x-python",
   "name": "python",
   "nbconvert_exporter": "python",
   "pygments_lexer": "ipython3",
   "version": "3.11.7"
  }
 },
 "nbformat": 4,
 "nbformat_minor": 2
}
