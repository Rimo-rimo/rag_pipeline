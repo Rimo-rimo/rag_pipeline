{
 "cells": [
  {
   "cell_type": "markdown",
   "metadata": {},
   "source": [
    "# AutoRAG - DataCreation Pipeline"
   ]
  },
  {
   "cell_type": "markdown",
   "metadata": {},
   "source": [
    "# Module"
   ]
  },
  {
   "cell_type": "code",
   "execution_count": 1,
   "metadata": {},
   "outputs": [],
   "source": [
    "import warnings\n",
    "warnings.filterwarnings(action='ignore')\n",
    "import os\n",
    "import sys\n",
    "import dotenv\n",
    "import nest_asyncio\n",
    "dotenv.load_dotenv()\n",
    "# nest_asyncio 적용\n",
    "nest_asyncio.apply()\n",
    "\n",
    "import pandas as pd\n",
    "\n",
    "# AutoRAG\n",
    "from autorag.parser import Parser\n",
    "from autorag.chunker import Chunker\n",
    "from autorag.data.qa.schema import Raw, Corpus\n",
    "from autorag.data.qa.filter.dontknow import dontknow_filter_rule_based\n",
    "from autorag.data.qa.generation_gt.llama_index_gen_gt import make_basic_gen_gt,make_concise_gen_gt\n",
    "from autorag.data.qa.query.llama_gen_query import factoid_query_gen\n",
    "from autorag.data.qa.sample import random_single_hop\n",
    "\n",
    "# llamaindex\n",
    "from llama_index.llms.openai import OpenAI"
   ]
  },
  {
   "cell_type": "markdown",
   "metadata": {},
   "source": [
    "# RawData Parse"
   ]
  },
  {
   "cell_type": "code",
   "execution_count": 16,
   "metadata": {},
   "outputs": [],
   "source": [
    "# parser 정의\n",
    "parser = Parser(data_path_glob=\"/home/livin/rag_pipeline/AutoRAG/data/*.pdf\")"
   ]
  },
  {
   "cell_type": "code",
   "execution_count": 15,
   "metadata": {},
   "outputs": [
    {
     "data": {
      "text/html": [
       "<pre style=\"white-space:pre;overflow-x:auto;line-height:normal;font-family:Menlo,'DejaVu Sans Mono',consolas,'Courier New',monospace\"><span style=\"color: #7fbfbf; text-decoration-color: #7fbfbf\">[10/11/24 15:11:20] </span><span style=\"color: #000080; text-decoration-color: #000080\">INFO    </span> <span style=\"font-weight: bold\">[</span>parser.py:<span style=\"color: #008080; text-decoration-color: #008080; font-weight: bold\">33</span><span style=\"font-weight: bold\">]</span> &gt;&gt; Parsing Start<span style=\"color: #808000; text-decoration-color: #808000\">...</span>                                        <a href=\"file:///home/livin/anaconda3/envs/rag_pipeline/lib/python3.11/site-packages/autorag/parser.py\" target=\"_blank\"><span style=\"color: #7f7f7f; text-decoration-color: #7f7f7f\">parser.py</span></a><span style=\"color: #7f7f7f; text-decoration-color: #7f7f7f\">:</span><a href=\"file:///home/livin/anaconda3/envs/rag_pipeline/lib/python3.11/site-packages/autorag/parser.py#33\" target=\"_blank\"><span style=\"color: #7f7f7f; text-decoration-color: #7f7f7f\">33</span></a>\n",
       "</pre>\n"
      ],
      "text/plain": [
       "\u001b[2;36m[10/11/24 15:11:20]\u001b[0m\u001b[2;36m \u001b[0m\u001b[34mINFO    \u001b[0m \u001b[1m[\u001b[0mparser.py:\u001b[1;36m33\u001b[0m\u001b[1m]\u001b[0m >> Parsing Start\u001b[33m...\u001b[0m                                        \u001b]8;id=518716;file:///home/livin/anaconda3/envs/rag_pipeline/lib/python3.11/site-packages/autorag/parser.py\u001b\\\u001b[2mparser.py\u001b[0m\u001b]8;;\u001b\\\u001b[2m:\u001b[0m\u001b]8;id=594094;file:///home/livin/anaconda3/envs/rag_pipeline/lib/python3.11/site-packages/autorag/parser.py#33\u001b\\\u001b[2m33\u001b[0m\u001b]8;;\u001b\\\n"
      ]
     },
     "metadata": {},
     "output_type": "display_data"
    },
    {
     "ename": "TypeError",
     "evalue": "chunker_node.<locals>.wrapper() missing 1 required positional argument: 'parsed_result'",
     "output_type": "error",
     "traceback": [
      "\u001b[0;31m---------------------------------------------------------------------------\u001b[0m",
      "\u001b[0;31mTypeError\u001b[0m                                 Traceback (most recent call last)",
      "Cell \u001b[0;32mIn[17], line 1\u001b[0m\n\u001b[0;32m----> 1\u001b[0m \u001b[43mparser\u001b[49m\u001b[38;5;241;43m.\u001b[39;49m\u001b[43mstart_parsing\u001b[49m\u001b[43m(\u001b[49m\u001b[38;5;124;43m\"\u001b[39;49m\u001b[38;5;124;43m/home/livin/rag_pipeline/AutoRAG/configs/data_creation_settings.yaml\u001b[39;49m\u001b[38;5;124;43m\"\u001b[39;49m\u001b[43m)\u001b[49m\n",
      "File \u001b[0;32m~/anaconda3/envs/rag_pipeline/lib/python3.11/site-packages/autorag/parser.py:34\u001b[0m, in \u001b[0;36mParser.start_parsing\u001b[0;34m(self, yaml_path)\u001b[0m\n\u001b[1;32m     31\u001b[0m input_modules, input_params \u001b[38;5;241m=\u001b[39m get_param_combinations(modules)\n\u001b[1;32m     33\u001b[0m logger\u001b[38;5;241m.\u001b[39minfo(\u001b[38;5;124m\"\u001b[39m\u001b[38;5;124mParsing Start...\u001b[39m\u001b[38;5;124m\"\u001b[39m)\n\u001b[0;32m---> 34\u001b[0m \u001b[43mrun_parser\u001b[49m\u001b[43m(\u001b[49m\n\u001b[1;32m     35\u001b[0m \u001b[43m\t\u001b[49m\u001b[43mmodules\u001b[49m\u001b[38;5;241;43m=\u001b[39;49m\u001b[43minput_modules\u001b[49m\u001b[43m,\u001b[49m\n\u001b[1;32m     36\u001b[0m \u001b[43m\t\u001b[49m\u001b[43mmodule_params\u001b[49m\u001b[38;5;241;43m=\u001b[39;49m\u001b[43minput_params\u001b[49m\u001b[43m,\u001b[49m\n\u001b[1;32m     37\u001b[0m \u001b[43m\t\u001b[49m\u001b[43mdata_path_glob\u001b[49m\u001b[38;5;241;43m=\u001b[39;49m\u001b[38;5;28;43mself\u001b[39;49m\u001b[38;5;241;43m.\u001b[39;49m\u001b[43mdata_path_glob\u001b[49m\u001b[43m,\u001b[49m\n\u001b[1;32m     38\u001b[0m \u001b[43m\t\u001b[49m\u001b[43mtrial_path\u001b[49m\u001b[38;5;241;43m=\u001b[39;49m\u001b[43mos\u001b[49m\u001b[38;5;241;43m.\u001b[39;49m\u001b[43mpath\u001b[49m\u001b[38;5;241;43m.\u001b[39;49m\u001b[43mjoin\u001b[49m\u001b[43m(\u001b[49m\u001b[38;5;28;43mself\u001b[39;49m\u001b[38;5;241;43m.\u001b[39;49m\u001b[43mproject_dir\u001b[49m\u001b[43m,\u001b[49m\u001b[43m \u001b[49m\u001b[43mtrial_name\u001b[49m\u001b[43m)\u001b[49m\u001b[43m,\u001b[49m\n\u001b[1;32m     39\u001b[0m \u001b[43m\u001b[49m\u001b[43m)\u001b[49m\n\u001b[1;32m     40\u001b[0m logger\u001b[38;5;241m.\u001b[39minfo(\u001b[38;5;124m\"\u001b[39m\u001b[38;5;124mParsing Done!\u001b[39m\u001b[38;5;124m\"\u001b[39m)\n",
      "File \u001b[0;32m~/anaconda3/envs/rag_pipeline/lib/python3.11/site-packages/autorag/data/parse/run.py:14\u001b[0m, in \u001b[0;36mrun_parser\u001b[0;34m(modules, module_params, data_path_glob, trial_path)\u001b[0m\n\u001b[1;32m      8\u001b[0m \u001b[38;5;28;01mdef\u001b[39;00m \u001b[38;5;21mrun_parser\u001b[39m(\n\u001b[1;32m      9\u001b[0m \tmodules: List[Callable],\n\u001b[1;32m     10\u001b[0m \tmodule_params: List[Dict],\n\u001b[1;32m     11\u001b[0m \tdata_path_glob: \u001b[38;5;28mstr\u001b[39m,\n\u001b[1;32m     12\u001b[0m \ttrial_path: \u001b[38;5;28mstr\u001b[39m,\n\u001b[1;32m     13\u001b[0m ):\n\u001b[0;32m---> 14\u001b[0m \tresults, execution_times \u001b[38;5;241m=\u001b[39m \u001b[38;5;28;43mzip\u001b[39;49m\u001b[43m(\u001b[49m\n\u001b[1;32m     15\u001b[0m \u001b[43m\t\t\u001b[49m\u001b[38;5;241;43m*\u001b[39;49m\u001b[38;5;28;43mmap\u001b[39;49m\u001b[43m(\u001b[49m\n\u001b[1;32m     16\u001b[0m \u001b[43m\t\t\t\u001b[49m\u001b[38;5;28;43;01mlambda\u001b[39;49;00m\u001b[43m \u001b[49m\u001b[43mx\u001b[49m\u001b[43m:\u001b[49m\u001b[43m \u001b[49m\u001b[43mmeasure_speed\u001b[49m\u001b[43m(\u001b[49m\u001b[43mx\u001b[49m\u001b[43m[\u001b[49m\u001b[38;5;241;43m0\u001b[39;49m\u001b[43m]\u001b[49m\u001b[43m,\u001b[49m\u001b[43m \u001b[49m\u001b[43mdata_path_glob\u001b[49m\u001b[38;5;241;43m=\u001b[39;49m\u001b[43mdata_path_glob\u001b[49m\u001b[43m,\u001b[49m\u001b[43m \u001b[49m\u001b[38;5;241;43m*\u001b[39;49m\u001b[38;5;241;43m*\u001b[39;49m\u001b[43mx\u001b[49m\u001b[43m[\u001b[49m\u001b[38;5;241;43m1\u001b[39;49m\u001b[43m]\u001b[49m\u001b[43m)\u001b[49m\u001b[43m,\u001b[49m\n\u001b[1;32m     17\u001b[0m \u001b[43m\t\t\t\u001b[49m\u001b[38;5;28;43mzip\u001b[39;49m\u001b[43m(\u001b[49m\u001b[43mmodules\u001b[49m\u001b[43m,\u001b[49m\u001b[43m \u001b[49m\u001b[43mmodule_params\u001b[49m\u001b[43m)\u001b[49m\u001b[43m,\u001b[49m\n\u001b[1;32m     18\u001b[0m \u001b[43m\t\t\u001b[49m\u001b[43m)\u001b[49m\n\u001b[1;32m     19\u001b[0m \u001b[43m\t\u001b[49m\u001b[43m)\u001b[49m\n\u001b[1;32m     20\u001b[0m \taverage_times \u001b[38;5;241m=\u001b[39m \u001b[38;5;28mlist\u001b[39m(\u001b[38;5;28mmap\u001b[39m(\u001b[38;5;28;01mlambda\u001b[39;00m x: x \u001b[38;5;241m/\u001b[39m \u001b[38;5;28mlen\u001b[39m(results[\u001b[38;5;241m0\u001b[39m]), execution_times))\n\u001b[1;32m     22\u001b[0m \t\u001b[38;5;66;03m# save results to parquet files\u001b[39;00m\n",
      "File \u001b[0;32m~/anaconda3/envs/rag_pipeline/lib/python3.11/site-packages/autorag/data/parse/run.py:16\u001b[0m, in \u001b[0;36mrun_parser.<locals>.<lambda>\u001b[0;34m(x)\u001b[0m\n\u001b[1;32m      8\u001b[0m \u001b[38;5;28;01mdef\u001b[39;00m \u001b[38;5;21mrun_parser\u001b[39m(\n\u001b[1;32m      9\u001b[0m \tmodules: List[Callable],\n\u001b[1;32m     10\u001b[0m \tmodule_params: List[Dict],\n\u001b[1;32m     11\u001b[0m \tdata_path_glob: \u001b[38;5;28mstr\u001b[39m,\n\u001b[1;32m     12\u001b[0m \ttrial_path: \u001b[38;5;28mstr\u001b[39m,\n\u001b[1;32m     13\u001b[0m ):\n\u001b[1;32m     14\u001b[0m \tresults, execution_times \u001b[38;5;241m=\u001b[39m \u001b[38;5;28mzip\u001b[39m(\n\u001b[1;32m     15\u001b[0m \t\t\u001b[38;5;241m*\u001b[39m\u001b[38;5;28mmap\u001b[39m(\n\u001b[0;32m---> 16\u001b[0m \t\t\t\u001b[38;5;28;01mlambda\u001b[39;00m x: \u001b[43mmeasure_speed\u001b[49m\u001b[43m(\u001b[49m\u001b[43mx\u001b[49m\u001b[43m[\u001b[49m\u001b[38;5;241;43m0\u001b[39;49m\u001b[43m]\u001b[49m\u001b[43m,\u001b[49m\u001b[43m \u001b[49m\u001b[43mdata_path_glob\u001b[49m\u001b[38;5;241;43m=\u001b[39;49m\u001b[43mdata_path_glob\u001b[49m\u001b[43m,\u001b[49m\u001b[43m \u001b[49m\u001b[38;5;241;43m*\u001b[39;49m\u001b[38;5;241;43m*\u001b[39;49m\u001b[43mx\u001b[49m\u001b[43m[\u001b[49m\u001b[38;5;241;43m1\u001b[39;49m\u001b[43m]\u001b[49m\u001b[43m)\u001b[49m,\n\u001b[1;32m     17\u001b[0m \t\t\t\u001b[38;5;28mzip\u001b[39m(modules, module_params),\n\u001b[1;32m     18\u001b[0m \t\t)\n\u001b[1;32m     19\u001b[0m \t)\n\u001b[1;32m     20\u001b[0m \taverage_times \u001b[38;5;241m=\u001b[39m \u001b[38;5;28mlist\u001b[39m(\u001b[38;5;28mmap\u001b[39m(\u001b[38;5;28;01mlambda\u001b[39;00m x: x \u001b[38;5;241m/\u001b[39m \u001b[38;5;28mlen\u001b[39m(results[\u001b[38;5;241m0\u001b[39m]), execution_times))\n\u001b[1;32m     22\u001b[0m \t\u001b[38;5;66;03m# save results to parquet files\u001b[39;00m\n",
      "File \u001b[0;32m~/anaconda3/envs/rag_pipeline/lib/python3.11/site-packages/autorag/strategy.py:14\u001b[0m, in \u001b[0;36mmeasure_speed\u001b[0;34m(func, *args, **kwargs)\u001b[0m\n\u001b[1;32m     10\u001b[0m \u001b[38;5;250m\u001b[39m\u001b[38;5;124;03m\"\"\"\u001b[39;00m\n\u001b[1;32m     11\u001b[0m \u001b[38;5;124;03mMethod for measuring execution speed of the function.\u001b[39;00m\n\u001b[1;32m     12\u001b[0m \u001b[38;5;124;03m\"\"\"\u001b[39;00m\n\u001b[1;32m     13\u001b[0m start_time \u001b[38;5;241m=\u001b[39m time\u001b[38;5;241m.\u001b[39mtime()\n\u001b[0;32m---> 14\u001b[0m result \u001b[38;5;241m=\u001b[39m \u001b[43mfunc\u001b[49m\u001b[43m(\u001b[49m\u001b[38;5;241;43m*\u001b[39;49m\u001b[43margs\u001b[49m\u001b[43m,\u001b[49m\u001b[43m \u001b[49m\u001b[38;5;241;43m*\u001b[39;49m\u001b[38;5;241;43m*\u001b[39;49m\u001b[43mkwargs\u001b[49m\u001b[43m)\u001b[49m\n\u001b[1;32m     15\u001b[0m end_time \u001b[38;5;241m=\u001b[39m time\u001b[38;5;241m.\u001b[39mtime()\n\u001b[1;32m     16\u001b[0m \u001b[38;5;28;01mreturn\u001b[39;00m result, end_time \u001b[38;5;241m-\u001b[39m start_time\n",
      "File \u001b[0;32m~/anaconda3/envs/rag_pipeline/lib/python3.11/site-packages/autorag/utils/util.py:68\u001b[0m, in \u001b[0;36mresult_to_dataframe.<locals>.decorator_result_to_dataframe.<locals>.wrapper\u001b[0;34m(*args, **kwargs)\u001b[0m\n\u001b[1;32m     66\u001b[0m \u001b[38;5;129m@functools\u001b[39m\u001b[38;5;241m.\u001b[39mwraps(func)\n\u001b[1;32m     67\u001b[0m \u001b[38;5;28;01mdef\u001b[39;00m \u001b[38;5;21mwrapper\u001b[39m(\u001b[38;5;241m*\u001b[39margs, \u001b[38;5;241m*\u001b[39m\u001b[38;5;241m*\u001b[39mkwargs) \u001b[38;5;241m-\u001b[39m\u001b[38;5;241m>\u001b[39m pd\u001b[38;5;241m.\u001b[39mDataFrame:\n\u001b[0;32m---> 68\u001b[0m \tresults \u001b[38;5;241m=\u001b[39m \u001b[43mfunc\u001b[49m\u001b[43m(\u001b[49m\u001b[38;5;241;43m*\u001b[39;49m\u001b[43margs\u001b[49m\u001b[43m,\u001b[49m\u001b[43m \u001b[49m\u001b[38;5;241;43m*\u001b[39;49m\u001b[38;5;241;43m*\u001b[39;49m\u001b[43mkwargs\u001b[49m\u001b[43m)\u001b[49m\n\u001b[1;32m     69\u001b[0m \t\u001b[38;5;28;01mif\u001b[39;00m \u001b[38;5;28mlen\u001b[39m(column_names) \u001b[38;5;241m==\u001b[39m \u001b[38;5;241m1\u001b[39m:\n\u001b[1;32m     70\u001b[0m \t\tdf_input \u001b[38;5;241m=\u001b[39m {column_names[\u001b[38;5;241m0\u001b[39m]: results}\n",
      "\u001b[0;31mTypeError\u001b[0m: chunker_node.<locals>.wrapper() missing 1 required positional argument: 'parsed_result'"
     ]
    }
   ],
   "source": [
    "parser.start_parsing(\"/home/livin/rag_pipeline/AutoRAG/configs/data_creation_settings.yaml\")"
   ]
  },
  {
   "cell_type": "code",
   "execution_count": 17,
   "metadata": {},
   "outputs": [],
   "source": [
    "# Parse 결과 확인\n",
    "df = pd.read_parquet(\"../result/parse/hyundai_upstage/0.parquet\")\n",
    "df"
   ]
  },
  {
   "cell_type": "markdown",
   "metadata": {},
   "source": [
    "# Chunking"
   ]
  },
  {
   "cell_type": "code",
   "execution_count": 23,
   "metadata": {},
   "outputs": [
    {
     "data": {
      "text/html": [
       "<pre style=\"white-space:pre;overflow-x:auto;line-height:normal;font-family:Menlo,'DejaVu Sans Mono',consolas,'Courier New',monospace\"><span style=\"color: #7fbfbf; text-decoration-color: #7fbfbf\">[10/07/24 10:24:53] </span><span style=\"color: #000080; text-decoration-color: #000080\">INFO    </span> <span style=\"font-weight: bold\">[</span>chunker.py:<span style=\"color: #008080; text-decoration-color: #008080; font-weight: bold\">48</span><span style=\"font-weight: bold\">]</span> &gt;&gt; Chunking Start<span style=\"color: #808000; text-decoration-color: #808000\">...</span>                                     <a href=\"file:///home/livin/anaconda3/envs/rag_pipeline/lib/python3.11/site-packages/autorag/chunker.py\" target=\"_blank\"><span style=\"color: #7f7f7f; text-decoration-color: #7f7f7f\">chunker.py</span></a><span style=\"color: #7f7f7f; text-decoration-color: #7f7f7f\">:</span><a href=\"file:///home/livin/anaconda3/envs/rag_pipeline/lib/python3.11/site-packages/autorag/chunker.py#48\" target=\"_blank\"><span style=\"color: #7f7f7f; text-decoration-color: #7f7f7f\">48</span></a>\n",
       "</pre>\n"
      ],
      "text/plain": [
       "\u001b[2;36m[10/07/24 10:24:53]\u001b[0m\u001b[2;36m \u001b[0m\u001b[34mINFO    \u001b[0m \u001b[1m[\u001b[0mchunker.py:\u001b[1;36m48\u001b[0m\u001b[1m]\u001b[0m >> Chunking Start\u001b[33m...\u001b[0m                                     \u001b]8;id=55257;file:///home/livin/anaconda3/envs/rag_pipeline/lib/python3.11/site-packages/autorag/chunker.py\u001b\\\u001b[2mchunker.py\u001b[0m\u001b]8;;\u001b\\\u001b[2m:\u001b[0m\u001b]8;id=564516;file:///home/livin/anaconda3/envs/rag_pipeline/lib/python3.11/site-packages/autorag/chunker.py#48\u001b\\\u001b[2m48\u001b[0m\u001b]8;;\u001b\\\n"
      ]
     },
     "metadata": {},
     "output_type": "display_data"
    },
    {
     "data": {
      "text/html": [
       "<pre style=\"white-space:pre;overflow-x:auto;line-height:normal;font-family:Menlo,'DejaVu Sans Mono',consolas,'Courier New',monospace\"><span style=\"color: #7fbfbf; text-decoration-color: #7fbfbf\">                    </span><span style=\"color: #000080; text-decoration-color: #000080\">INFO    </span> <span style=\"font-weight: bold\">[</span>base.py:<span style=\"color: #008080; text-decoration-color: #008080; font-weight: bold\">22</span><span style=\"font-weight: bold\">]</span> &gt;&gt; Running chunker - llama_index_chunk module<span style=\"color: #808000; text-decoration-color: #808000\">...</span>               <a href=\"file:///home/livin/anaconda3/envs/rag_pipeline/lib/python3.11/site-packages/autorag/data/chunk/base.py\" target=\"_blank\"><span style=\"color: #7f7f7f; text-decoration-color: #7f7f7f\">base.py</span></a><span style=\"color: #7f7f7f; text-decoration-color: #7f7f7f\">:</span><a href=\"file:///home/livin/anaconda3/envs/rag_pipeline/lib/python3.11/site-packages/autorag/data/chunk/base.py#22\" target=\"_blank\"><span style=\"color: #7f7f7f; text-decoration-color: #7f7f7f\">22</span></a>\n",
       "</pre>\n"
      ],
      "text/plain": [
       "\u001b[2;36m                   \u001b[0m\u001b[2;36m \u001b[0m\u001b[34mINFO    \u001b[0m \u001b[1m[\u001b[0mbase.py:\u001b[1;36m22\u001b[0m\u001b[1m]\u001b[0m >> Running chunker - llama_index_chunk module\u001b[33m...\u001b[0m               \u001b]8;id=182080;file:///home/livin/anaconda3/envs/rag_pipeline/lib/python3.11/site-packages/autorag/data/chunk/base.py\u001b\\\u001b[2mbase.py\u001b[0m\u001b]8;;\u001b\\\u001b[2m:\u001b[0m\u001b]8;id=112054;file:///home/livin/anaconda3/envs/rag_pipeline/lib/python3.11/site-packages/autorag/data/chunk/base.py#22\u001b\\\u001b[2m22\u001b[0m\u001b]8;;\u001b\\\n"
      ]
     },
     "metadata": {},
     "output_type": "display_data"
    },
    {
     "data": {
      "text/html": [
       "<pre style=\"white-space:pre;overflow-x:auto;line-height:normal;font-family:Menlo,'DejaVu Sans Mono',consolas,'Courier New',monospace\"><span style=\"color: #7fbfbf; text-decoration-color: #7fbfbf\">[10/07/24 10:24:56] </span><span style=\"color: #000080; text-decoration-color: #000080\">INFO    </span> <span style=\"font-weight: bold\">[</span>chunker.py:<span style=\"color: #008080; text-decoration-color: #008080; font-weight: bold\">55</span><span style=\"font-weight: bold\">]</span> &gt;&gt; Chunking Done!                                        <a href=\"file:///home/livin/anaconda3/envs/rag_pipeline/lib/python3.11/site-packages/autorag/chunker.py\" target=\"_blank\"><span style=\"color: #7f7f7f; text-decoration-color: #7f7f7f\">chunker.py</span></a><span style=\"color: #7f7f7f; text-decoration-color: #7f7f7f\">:</span><a href=\"file:///home/livin/anaconda3/envs/rag_pipeline/lib/python3.11/site-packages/autorag/chunker.py#55\" target=\"_blank\"><span style=\"color: #7f7f7f; text-decoration-color: #7f7f7f\">55</span></a>\n",
       "</pre>\n"
      ],
      "text/plain": [
       "\u001b[2;36m[10/07/24 10:24:56]\u001b[0m\u001b[2;36m \u001b[0m\u001b[34mINFO    \u001b[0m \u001b[1m[\u001b[0mchunker.py:\u001b[1;36m55\u001b[0m\u001b[1m]\u001b[0m >> Chunking Done!                                        \u001b]8;id=540228;file:///home/livin/anaconda3/envs/rag_pipeline/lib/python3.11/site-packages/autorag/chunker.py\u001b\\\u001b[2mchunker.py\u001b[0m\u001b]8;;\u001b\\\u001b[2m:\u001b[0m\u001b]8;id=263503;file:///home/livin/anaconda3/envs/rag_pipeline/lib/python3.11/site-packages/autorag/chunker.py#55\u001b\\\u001b[2m55\u001b[0m\u001b]8;;\u001b\\\n"
      ]
     },
     "metadata": {},
     "output_type": "display_data"
    }
   ],
   "source": [
    "chunker = Chunker.from_parquet(parsed_data_path=\"../result/parse/hyundai_upstage/0.parquet\", project_dir=\"../result/chunk\")\n",
    "chunker.start_chunking(\"../settings.yaml\")"
   ]
  },
  {
   "cell_type": "code",
   "execution_count": 25,
   "metadata": {},
   "outputs": [
    {
     "data": {
      "text/html": [
       "<div>\n",
       "<style scoped>\n",
       "    .dataframe tbody tr th:only-of-type {\n",
       "        vertical-align: middle;\n",
       "    }\n",
       "\n",
       "    .dataframe tbody tr th {\n",
       "        vertical-align: top;\n",
       "    }\n",
       "\n",
       "    .dataframe thead th {\n",
       "        text-align: right;\n",
       "    }\n",
       "</style>\n",
       "<table border=\"1\" class=\"dataframe\">\n",
       "  <thead>\n",
       "    <tr style=\"text-align: right;\">\n",
       "      <th></th>\n",
       "      <th>doc_id</th>\n",
       "      <th>contents</th>\n",
       "      <th>path</th>\n",
       "      <th>start_end_idx</th>\n",
       "      <th>metadata</th>\n",
       "    </tr>\n",
       "  </thead>\n",
       "  <tbody>\n",
       "    <tr>\n",
       "      <th>0</th>\n",
       "      <td>af0d9d7f-a1ca-40a9-9c16-67676f0bc620</td>\n",
       "      <td>파일 제목: hyndai.pdf\\n 내용: &lt;h1 id='0' style='font...</td>\n",
       "      <td>/home/livin/rag_pipeline/AutoRAG/data/hyndai.pdf</td>\n",
       "      <td>[0, 1841]</td>\n",
       "      <td>{'last_modified_datetime': '2024-09-06', 'next...</td>\n",
       "    </tr>\n",
       "    <tr>\n",
       "      <th>1</th>\n",
       "      <td>d982d5c6-41fb-4d96-ad9a-76929fe018b5</td>\n",
       "      <td>파일 제목: hyndai.pdf\\n 내용: 포 함 하 여 설 명&lt;br&gt;하 고 있 습...</td>\n",
       "      <td>/home/livin/rag_pipeline/AutoRAG/data/hyndai.pdf</td>\n",
       "      <td>[1458, 3172]</td>\n",
       "      <td>{'last_modified_datetime': '2024-09-06', 'next...</td>\n",
       "    </tr>\n",
       "    <tr>\n",
       "      <th>2</th>\n",
       "      <td>ba009f64-4655-4b0c-b958-684390d73789</td>\n",
       "      <td>파일 제목: hyndai.pdf\\n 내용: . 한 국 교 통 안 전 공 단 자 동 ...</td>\n",
       "      <td>/home/livin/rag_pipeline/AutoRAG/data/hyndai.pdf</td>\n",
       "      <td>[2909, 4374]</td>\n",
       "      <td>{'last_modified_datetime': '2024-09-06', 'next...</td>\n",
       "    </tr>\n",
       "    <tr>\n",
       "      <th>3</th>\n",
       "      <td>f5a378aa-92f4-4be1-a972-4871077582ed</td>\n",
       "      <td>파일 제목: hyndai.pdf\\n 내용: 러 스 터&lt;/td&gt;&lt;td&gt;4&lt;/td&gt;&lt;/...</td>\n",
       "      <td>/home/livin/rag_pipeline/AutoRAG/data/hyndai.pdf</td>\n",
       "      <td>[4067, 7508]</td>\n",
       "      <td>{'last_modified_datetime': '2024-09-06', 'next...</td>\n",
       "    </tr>\n",
       "    <tr>\n",
       "      <th>4</th>\n",
       "      <td>0a474ba9-d0d5-45d7-a713-dc6e6e367014</td>\n",
       "      <td>파일 제목: hyndai.pdf\\n 내용: 이용한 비상 제동이 필요한 경우 .......</td>\n",
       "      <td>/home/livin/rag_pipeline/AutoRAG/data/hyndai.pdf</td>\n",
       "      <td>[7117, 8718]</td>\n",
       "      <td>{'last_modified_datetime': '2024-09-06', 'next...</td>\n",
       "    </tr>\n",
       "    <tr>\n",
       "      <th>...</th>\n",
       "      <td>...</td>\n",
       "      <td>...</td>\n",
       "      <td>...</td>\n",
       "      <td>...</td>\n",
       "      <td>...</td>\n",
       "    </tr>\n",
       "    <tr>\n",
       "      <th>834</th>\n",
       "      <td>1ee41678-458e-4f7b-a148-ac3a925ddd11</td>\n",
       "      <td>파일 제목: hyndai.pdf\\n 내용: 차량으로 견인 시 8-20&lt;br&gt;선루프 ...</td>\n",
       "      <td>/home/livin/rag_pipeline/AutoRAG/data/hyndai.pdf</td>\n",
       "      <td>[1105764, 1106878]</td>\n",
       "      <td>{'last_modified_datetime': '2024-09-06', 'next...</td>\n",
       "    </tr>\n",
       "    <tr>\n",
       "      <th>835</th>\n",
       "      <td>49cf11d4-a9c3-4cd9-b775-24a117bd4702</td>\n",
       "      <td>파일 제목: hyndai.pdf\\n 내용: 및 용량 1-14&lt;br&gt;교차로/건널목에서...</td>\n",
       "      <td>/home/livin/rag_pipeline/AutoRAG/data/hyndai.pdf</td>\n",
       "      <td>[1106656, 1107960]</td>\n",
       "      <td>{'last_modified_datetime': '2024-09-06', 'next...</td>\n",
       "    </tr>\n",
       "    <tr>\n",
       "      <th>836</th>\n",
       "      <td>9cdec7bf-44f4-46c9-b67f-21d987d2087d</td>\n",
       "      <td>파일 제목: hyndai.pdf\\n 내용: 고전압 모터 커텍터(엔진룸) 0-18&lt;b...</td>\n",
       "      <td>/home/livin/rag_pipeline/AutoRAG/data/hyndai.pdf</td>\n",
       "      <td>[1107759, 1108852]</td>\n",
       "      <td>{'last_modified_datetime': '2024-09-06', 'next...</td>\n",
       "    </tr>\n",
       "    <tr>\n",
       "      <th>837</th>\n",
       "      <td>ed053d51-2334-45a7-b738-9c80d2403657</td>\n",
       "      <td>파일 제목: hyndai.pdf\\n 내용: 하이빔 보조 작동 5-95&lt;br&gt;드라이브...</td>\n",
       "      <td>/home/livin/rag_pipeline/AutoRAG/data/hyndai.pdf</td>\n",
       "      <td>[1108613, 1109837]</td>\n",
       "      <td>{'last_modified_datetime': '2024-09-06', 'next...</td>\n",
       "    </tr>\n",
       "    <tr>\n",
       "      <th>838</th>\n",
       "      <td>4b84d26e-a384-4372-beb1-f37eeed6773f</td>\n",
       "      <td>파일 제목: hyndai.pdf\\n 내용: 이상 및 제한 사항&lt;br&gt;7-118&lt;br...</td>\n",
       "      <td>/home/livin/rag_pipeline/AutoRAG/data/hyndai.pdf</td>\n",
       "      <td>[1109627, 1110023]</td>\n",
       "      <td>{'last_modified_datetime': '2024-09-06', 'next...</td>\n",
       "    </tr>\n",
       "  </tbody>\n",
       "</table>\n",
       "<p>839 rows × 5 columns</p>\n",
       "</div>"
      ],
      "text/plain": [
       "                                   doc_id  \\\n",
       "0    af0d9d7f-a1ca-40a9-9c16-67676f0bc620   \n",
       "1    d982d5c6-41fb-4d96-ad9a-76929fe018b5   \n",
       "2    ba009f64-4655-4b0c-b958-684390d73789   \n",
       "3    f5a378aa-92f4-4be1-a972-4871077582ed   \n",
       "4    0a474ba9-d0d5-45d7-a713-dc6e6e367014   \n",
       "..                                    ...   \n",
       "834  1ee41678-458e-4f7b-a148-ac3a925ddd11   \n",
       "835  49cf11d4-a9c3-4cd9-b775-24a117bd4702   \n",
       "836  9cdec7bf-44f4-46c9-b67f-21d987d2087d   \n",
       "837  ed053d51-2334-45a7-b738-9c80d2403657   \n",
       "838  4b84d26e-a384-4372-beb1-f37eeed6773f   \n",
       "\n",
       "                                              contents  \\\n",
       "0    파일 제목: hyndai.pdf\\n 내용: <h1 id='0' style='font...   \n",
       "1    파일 제목: hyndai.pdf\\n 내용: 포 함 하 여 설 명<br>하 고 있 습...   \n",
       "2    파일 제목: hyndai.pdf\\n 내용: . 한 국 교 통 안 전 공 단 자 동 ...   \n",
       "3    파일 제목: hyndai.pdf\\n 내용: 러 스 터</td><td>4</td></...   \n",
       "4    파일 제목: hyndai.pdf\\n 내용: 이용한 비상 제동이 필요한 경우 .......   \n",
       "..                                                 ...   \n",
       "834  파일 제목: hyndai.pdf\\n 내용: 차량으로 견인 시 8-20<br>선루프 ...   \n",
       "835  파일 제목: hyndai.pdf\\n 내용: 및 용량 1-14<br>교차로/건널목에서...   \n",
       "836  파일 제목: hyndai.pdf\\n 내용: 고전압 모터 커텍터(엔진룸) 0-18<b...   \n",
       "837  파일 제목: hyndai.pdf\\n 내용: 하이빔 보조 작동 5-95<br>드라이브...   \n",
       "838  파일 제목: hyndai.pdf\\n 내용: 이상 및 제한 사항<br>7-118<br...   \n",
       "\n",
       "                                                 path       start_end_idx  \\\n",
       "0    /home/livin/rag_pipeline/AutoRAG/data/hyndai.pdf           [0, 1841]   \n",
       "1    /home/livin/rag_pipeline/AutoRAG/data/hyndai.pdf        [1458, 3172]   \n",
       "2    /home/livin/rag_pipeline/AutoRAG/data/hyndai.pdf        [2909, 4374]   \n",
       "3    /home/livin/rag_pipeline/AutoRAG/data/hyndai.pdf        [4067, 7508]   \n",
       "4    /home/livin/rag_pipeline/AutoRAG/data/hyndai.pdf        [7117, 8718]   \n",
       "..                                                ...                 ...   \n",
       "834  /home/livin/rag_pipeline/AutoRAG/data/hyndai.pdf  [1105764, 1106878]   \n",
       "835  /home/livin/rag_pipeline/AutoRAG/data/hyndai.pdf  [1106656, 1107960]   \n",
       "836  /home/livin/rag_pipeline/AutoRAG/data/hyndai.pdf  [1107759, 1108852]   \n",
       "837  /home/livin/rag_pipeline/AutoRAG/data/hyndai.pdf  [1108613, 1109837]   \n",
       "838  /home/livin/rag_pipeline/AutoRAG/data/hyndai.pdf  [1109627, 1110023]   \n",
       "\n",
       "                                              metadata  \n",
       "0    {'last_modified_datetime': '2024-09-06', 'next...  \n",
       "1    {'last_modified_datetime': '2024-09-06', 'next...  \n",
       "2    {'last_modified_datetime': '2024-09-06', 'next...  \n",
       "3    {'last_modified_datetime': '2024-09-06', 'next...  \n",
       "4    {'last_modified_datetime': '2024-09-06', 'next...  \n",
       "..                                                 ...  \n",
       "834  {'last_modified_datetime': '2024-09-06', 'next...  \n",
       "835  {'last_modified_datetime': '2024-09-06', 'next...  \n",
       "836  {'last_modified_datetime': '2024-09-06', 'next...  \n",
       "837  {'last_modified_datetime': '2024-09-06', 'next...  \n",
       "838  {'last_modified_datetime': '2024-09-06', 'next...  \n",
       "\n",
       "[839 rows x 5 columns]"
      ]
     },
     "execution_count": 25,
     "metadata": {},
     "output_type": "execute_result"
    }
   ],
   "source": [
    "# Chunk 결과 확인\n",
    "corpus_df = pd.read_parquet(\"../result/chunk/hyundai_upstage/0.parquet\")\n",
    "corpus_df"
   ]
  },
  {
   "cell_type": "markdown",
   "metadata": {},
   "source": [
    "# QA Creation"
   ]
  },
  {
   "cell_type": "code",
   "execution_count": 2,
   "metadata": {},
   "outputs": [],
   "source": [
    "# load RAW data\n",
    "raw_df = pd.read_parquet(\"../results/chunk/nursing/2_nursing_chunk/0.parquet\")\n",
    "raw_instance = Raw(raw_df)\n",
    "\n",
    "# load Corpus data\n",
    "corpus_df = pd.read_parquet(\"../results/chunk/nursing/2_nursing_chunk/0.parquet\")\n",
    "corpus_instance = Corpus(corpus_df, raw_instance)"
   ]
  },
  {
   "cell_type": "code",
   "execution_count": 5,
   "metadata": {},
   "outputs": [
    {
     "data": {
      "text/html": [
       "<pre style=\"white-space:pre;overflow-x:auto;line-height:normal;font-family:Menlo,'DejaVu Sans Mono',consolas,'Courier New',monospace\"><span style=\"color: #7fbfbf; text-decoration-color: #7fbfbf\">[10/16/24 13:59:42] </span><span style=\"color: #000080; text-decoration-color: #000080\">INFO    </span> <span style=\"font-weight: bold\">[</span>_client.py:<span style=\"color: #008080; text-decoration-color: #008080; font-weight: bold\">1786</span><span style=\"font-weight: bold\">]</span> &gt;&gt; HTTP Request: <span style=\"color: #808000; text-decoration-color: #808000; font-weight: bold\">POST</span>                                <a href=\"file:///home/livin/anaconda3/envs/rag_pipeline/lib/python3.11/site-packages/httpx/_client.py\" target=\"_blank\"><span style=\"color: #7f7f7f; text-decoration-color: #7f7f7f\">_client.py</span></a><span style=\"color: #7f7f7f; text-decoration-color: #7f7f7f\">:</span><a href=\"file:///home/livin/anaconda3/envs/rag_pipeline/lib/python3.11/site-packages/httpx/_client.py#1786\" target=\"_blank\"><span style=\"color: #7f7f7f; text-decoration-color: #7f7f7f\">1786</span></a>\n",
       "<span style=\"color: #7fbfbf; text-decoration-color: #7fbfbf\">                    </span>         <span style=\"color: #0000ff; text-decoration-color: #0000ff; text-decoration: underline\">https://api.openai.com/v1/chat/completions</span> <span style=\"color: #008000; text-decoration-color: #008000\">\"HTTP/1.1 200 OK\"</span>           <span style=\"color: #7f7f7f; text-decoration-color: #7f7f7f\">               </span>\n",
       "</pre>\n"
      ],
      "text/plain": [
       "\u001b[2;36m[10/16/24 13:59:42]\u001b[0m\u001b[2;36m \u001b[0m\u001b[34mINFO    \u001b[0m \u001b[1m[\u001b[0m_client.py:\u001b[1;36m1786\u001b[0m\u001b[1m]\u001b[0m >> HTTP Request: \u001b[1;33mPOST\u001b[0m                                \u001b]8;id=543288;file:///home/livin/anaconda3/envs/rag_pipeline/lib/python3.11/site-packages/httpx/_client.py\u001b\\\u001b[2m_client.py\u001b[0m\u001b]8;;\u001b\\\u001b[2m:\u001b[0m\u001b]8;id=85629;file:///home/livin/anaconda3/envs/rag_pipeline/lib/python3.11/site-packages/httpx/_client.py#1786\u001b\\\u001b[2m1786\u001b[0m\u001b]8;;\u001b\\\n",
       "\u001b[2;36m                    \u001b[0m         \u001b[4;94mhttps://api.openai.com/v1/chat/completions\u001b[0m \u001b[32m\"HTTP/1.1 200 OK\"\u001b[0m           \u001b[2m               \u001b[0m\n"
      ]
     },
     "metadata": {},
     "output_type": "display_data"
    },
    {
     "data": {
      "text/html": [
       "<pre style=\"white-space:pre;overflow-x:auto;line-height:normal;font-family:Menlo,'DejaVu Sans Mono',consolas,'Courier New',monospace\"><span style=\"color: #7fbfbf; text-decoration-color: #7fbfbf\">                    </span><span style=\"color: #000080; text-decoration-color: #000080\">INFO    </span> <span style=\"font-weight: bold\">[</span>_client.py:<span style=\"color: #008080; text-decoration-color: #008080; font-weight: bold\">1786</span><span style=\"font-weight: bold\">]</span> &gt;&gt; HTTP Request: <span style=\"color: #808000; text-decoration-color: #808000; font-weight: bold\">POST</span>                                <a href=\"file:///home/livin/anaconda3/envs/rag_pipeline/lib/python3.11/site-packages/httpx/_client.py\" target=\"_blank\"><span style=\"color: #7f7f7f; text-decoration-color: #7f7f7f\">_client.py</span></a><span style=\"color: #7f7f7f; text-decoration-color: #7f7f7f\">:</span><a href=\"file:///home/livin/anaconda3/envs/rag_pipeline/lib/python3.11/site-packages/httpx/_client.py#1786\" target=\"_blank\"><span style=\"color: #7f7f7f; text-decoration-color: #7f7f7f\">1786</span></a>\n",
       "<span style=\"color: #7fbfbf; text-decoration-color: #7fbfbf\">                    </span>         <span style=\"color: #0000ff; text-decoration-color: #0000ff; text-decoration: underline\">https://api.openai.com/v1/chat/completions</span> <span style=\"color: #008000; text-decoration-color: #008000\">\"HTTP/1.1 200 OK\"</span>           <span style=\"color: #7f7f7f; text-decoration-color: #7f7f7f\">               </span>\n",
       "</pre>\n"
      ],
      "text/plain": [
       "\u001b[2;36m                   \u001b[0m\u001b[2;36m \u001b[0m\u001b[34mINFO    \u001b[0m \u001b[1m[\u001b[0m_client.py:\u001b[1;36m1786\u001b[0m\u001b[1m]\u001b[0m >> HTTP Request: \u001b[1;33mPOST\u001b[0m                                \u001b]8;id=682331;file:///home/livin/anaconda3/envs/rag_pipeline/lib/python3.11/site-packages/httpx/_client.py\u001b\\\u001b[2m_client.py\u001b[0m\u001b]8;;\u001b\\\u001b[2m:\u001b[0m\u001b]8;id=402999;file:///home/livin/anaconda3/envs/rag_pipeline/lib/python3.11/site-packages/httpx/_client.py#1786\u001b\\\u001b[2m1786\u001b[0m\u001b]8;;\u001b\\\n",
       "\u001b[2;36m                    \u001b[0m         \u001b[4;94mhttps://api.openai.com/v1/chat/completions\u001b[0m \u001b[32m\"HTTP/1.1 200 OK\"\u001b[0m           \u001b[2m               \u001b[0m\n"
      ]
     },
     "metadata": {},
     "output_type": "display_data"
    },
    {
     "data": {
      "text/html": [
       "<pre style=\"white-space:pre;overflow-x:auto;line-height:normal;font-family:Menlo,'DejaVu Sans Mono',consolas,'Courier New',monospace\"><span style=\"color: #7fbfbf; text-decoration-color: #7fbfbf\">                    </span><span style=\"color: #000080; text-decoration-color: #000080\">INFO    </span> <span style=\"font-weight: bold\">[</span>_client.py:<span style=\"color: #008080; text-decoration-color: #008080; font-weight: bold\">1786</span><span style=\"font-weight: bold\">]</span> &gt;&gt; HTTP Request: <span style=\"color: #808000; text-decoration-color: #808000; font-weight: bold\">POST</span>                                <a href=\"file:///home/livin/anaconda3/envs/rag_pipeline/lib/python3.11/site-packages/httpx/_client.py\" target=\"_blank\"><span style=\"color: #7f7f7f; text-decoration-color: #7f7f7f\">_client.py</span></a><span style=\"color: #7f7f7f; text-decoration-color: #7f7f7f\">:</span><a href=\"file:///home/livin/anaconda3/envs/rag_pipeline/lib/python3.11/site-packages/httpx/_client.py#1786\" target=\"_blank\"><span style=\"color: #7f7f7f; text-decoration-color: #7f7f7f\">1786</span></a>\n",
       "<span style=\"color: #7fbfbf; text-decoration-color: #7fbfbf\">                    </span>         <span style=\"color: #0000ff; text-decoration-color: #0000ff; text-decoration: underline\">https://api.openai.com/v1/chat/completions</span> <span style=\"color: #008000; text-decoration-color: #008000\">\"HTTP/1.1 200 OK\"</span>           <span style=\"color: #7f7f7f; text-decoration-color: #7f7f7f\">               </span>\n",
       "</pre>\n"
      ],
      "text/plain": [
       "\u001b[2;36m                   \u001b[0m\u001b[2;36m \u001b[0m\u001b[34mINFO    \u001b[0m \u001b[1m[\u001b[0m_client.py:\u001b[1;36m1786\u001b[0m\u001b[1m]\u001b[0m >> HTTP Request: \u001b[1;33mPOST\u001b[0m                                \u001b]8;id=660565;file:///home/livin/anaconda3/envs/rag_pipeline/lib/python3.11/site-packages/httpx/_client.py\u001b\\\u001b[2m_client.py\u001b[0m\u001b]8;;\u001b\\\u001b[2m:\u001b[0m\u001b]8;id=520306;file:///home/livin/anaconda3/envs/rag_pipeline/lib/python3.11/site-packages/httpx/_client.py#1786\u001b\\\u001b[2m1786\u001b[0m\u001b]8;;\u001b\\\n",
       "\u001b[2;36m                    \u001b[0m         \u001b[4;94mhttps://api.openai.com/v1/chat/completions\u001b[0m \u001b[32m\"HTTP/1.1 200 OK\"\u001b[0m           \u001b[2m               \u001b[0m\n"
      ]
     },
     "metadata": {},
     "output_type": "display_data"
    },
    {
     "data": {
      "text/html": [
       "<pre style=\"white-space:pre;overflow-x:auto;line-height:normal;font-family:Menlo,'DejaVu Sans Mono',consolas,'Courier New',monospace\"><span style=\"color: #7fbfbf; text-decoration-color: #7fbfbf\">                    </span><span style=\"color: #000080; text-decoration-color: #000080\">INFO    </span> <span style=\"font-weight: bold\">[</span>_client.py:<span style=\"color: #008080; text-decoration-color: #008080; font-weight: bold\">1786</span><span style=\"font-weight: bold\">]</span> &gt;&gt; HTTP Request: <span style=\"color: #808000; text-decoration-color: #808000; font-weight: bold\">POST</span>                                <a href=\"file:///home/livin/anaconda3/envs/rag_pipeline/lib/python3.11/site-packages/httpx/_client.py\" target=\"_blank\"><span style=\"color: #7f7f7f; text-decoration-color: #7f7f7f\">_client.py</span></a><span style=\"color: #7f7f7f; text-decoration-color: #7f7f7f\">:</span><a href=\"file:///home/livin/anaconda3/envs/rag_pipeline/lib/python3.11/site-packages/httpx/_client.py#1786\" target=\"_blank\"><span style=\"color: #7f7f7f; text-decoration-color: #7f7f7f\">1786</span></a>\n",
       "<span style=\"color: #7fbfbf; text-decoration-color: #7fbfbf\">                    </span>         <span style=\"color: #0000ff; text-decoration-color: #0000ff; text-decoration: underline\">https://api.openai.com/v1/chat/completions</span> <span style=\"color: #008000; text-decoration-color: #008000\">\"HTTP/1.1 200 OK\"</span>           <span style=\"color: #7f7f7f; text-decoration-color: #7f7f7f\">               </span>\n",
       "</pre>\n"
      ],
      "text/plain": [
       "\u001b[2;36m                   \u001b[0m\u001b[2;36m \u001b[0m\u001b[34mINFO    \u001b[0m \u001b[1m[\u001b[0m_client.py:\u001b[1;36m1786\u001b[0m\u001b[1m]\u001b[0m >> HTTP Request: \u001b[1;33mPOST\u001b[0m                                \u001b]8;id=577176;file:///home/livin/anaconda3/envs/rag_pipeline/lib/python3.11/site-packages/httpx/_client.py\u001b\\\u001b[2m_client.py\u001b[0m\u001b]8;;\u001b\\\u001b[2m:\u001b[0m\u001b]8;id=664436;file:///home/livin/anaconda3/envs/rag_pipeline/lib/python3.11/site-packages/httpx/_client.py#1786\u001b\\\u001b[2m1786\u001b[0m\u001b]8;;\u001b\\\n",
       "\u001b[2;36m                    \u001b[0m         \u001b[4;94mhttps://api.openai.com/v1/chat/completions\u001b[0m \u001b[32m\"HTTP/1.1 200 OK\"\u001b[0m           \u001b[2m               \u001b[0m\n"
      ]
     },
     "metadata": {},
     "output_type": "display_data"
    },
    {
     "data": {
      "text/html": [
       "<pre style=\"white-space:pre;overflow-x:auto;line-height:normal;font-family:Menlo,'DejaVu Sans Mono',consolas,'Courier New',monospace\"><span style=\"color: #7fbfbf; text-decoration-color: #7fbfbf\">                    </span><span style=\"color: #000080; text-decoration-color: #000080\">INFO    </span> <span style=\"font-weight: bold\">[</span>_client.py:<span style=\"color: #008080; text-decoration-color: #008080; font-weight: bold\">1786</span><span style=\"font-weight: bold\">]</span> &gt;&gt; HTTP Request: <span style=\"color: #808000; text-decoration-color: #808000; font-weight: bold\">POST</span>                                <a href=\"file:///home/livin/anaconda3/envs/rag_pipeline/lib/python3.11/site-packages/httpx/_client.py\" target=\"_blank\"><span style=\"color: #7f7f7f; text-decoration-color: #7f7f7f\">_client.py</span></a><span style=\"color: #7f7f7f; text-decoration-color: #7f7f7f\">:</span><a href=\"file:///home/livin/anaconda3/envs/rag_pipeline/lib/python3.11/site-packages/httpx/_client.py#1786\" target=\"_blank\"><span style=\"color: #7f7f7f; text-decoration-color: #7f7f7f\">1786</span></a>\n",
       "<span style=\"color: #7fbfbf; text-decoration-color: #7fbfbf\">                    </span>         <span style=\"color: #0000ff; text-decoration-color: #0000ff; text-decoration: underline\">https://api.openai.com/v1/chat/completions</span> <span style=\"color: #008000; text-decoration-color: #008000\">\"HTTP/1.1 200 OK\"</span>           <span style=\"color: #7f7f7f; text-decoration-color: #7f7f7f\">               </span>\n",
       "</pre>\n"
      ],
      "text/plain": [
       "\u001b[2;36m                   \u001b[0m\u001b[2;36m \u001b[0m\u001b[34mINFO    \u001b[0m \u001b[1m[\u001b[0m_client.py:\u001b[1;36m1786\u001b[0m\u001b[1m]\u001b[0m >> HTTP Request: \u001b[1;33mPOST\u001b[0m                                \u001b]8;id=308328;file:///home/livin/anaconda3/envs/rag_pipeline/lib/python3.11/site-packages/httpx/_client.py\u001b\\\u001b[2m_client.py\u001b[0m\u001b]8;;\u001b\\\u001b[2m:\u001b[0m\u001b]8;id=601770;file:///home/livin/anaconda3/envs/rag_pipeline/lib/python3.11/site-packages/httpx/_client.py#1786\u001b\\\u001b[2m1786\u001b[0m\u001b]8;;\u001b\\\n",
       "\u001b[2;36m                    \u001b[0m         \u001b[4;94mhttps://api.openai.com/v1/chat/completions\u001b[0m \u001b[32m\"HTTP/1.1 200 OK\"\u001b[0m           \u001b[2m               \u001b[0m\n"
      ]
     },
     "metadata": {},
     "output_type": "display_data"
    },
    {
     "data": {
      "text/html": [
       "<pre style=\"white-space:pre;overflow-x:auto;line-height:normal;font-family:Menlo,'DejaVu Sans Mono',consolas,'Courier New',monospace\"><span style=\"color: #7fbfbf; text-decoration-color: #7fbfbf\">                    </span><span style=\"color: #000080; text-decoration-color: #000080\">INFO    </span> <span style=\"font-weight: bold\">[</span>_client.py:<span style=\"color: #008080; text-decoration-color: #008080; font-weight: bold\">1786</span><span style=\"font-weight: bold\">]</span> &gt;&gt; HTTP Request: <span style=\"color: #808000; text-decoration-color: #808000; font-weight: bold\">POST</span>                                <a href=\"file:///home/livin/anaconda3/envs/rag_pipeline/lib/python3.11/site-packages/httpx/_client.py\" target=\"_blank\"><span style=\"color: #7f7f7f; text-decoration-color: #7f7f7f\">_client.py</span></a><span style=\"color: #7f7f7f; text-decoration-color: #7f7f7f\">:</span><a href=\"file:///home/livin/anaconda3/envs/rag_pipeline/lib/python3.11/site-packages/httpx/_client.py#1786\" target=\"_blank\"><span style=\"color: #7f7f7f; text-decoration-color: #7f7f7f\">1786</span></a>\n",
       "<span style=\"color: #7fbfbf; text-decoration-color: #7fbfbf\">                    </span>         <span style=\"color: #0000ff; text-decoration-color: #0000ff; text-decoration: underline\">https://api.openai.com/v1/chat/completions</span> <span style=\"color: #008000; text-decoration-color: #008000\">\"HTTP/1.1 200 OK\"</span>           <span style=\"color: #7f7f7f; text-decoration-color: #7f7f7f\">               </span>\n",
       "</pre>\n"
      ],
      "text/plain": [
       "\u001b[2;36m                   \u001b[0m\u001b[2;36m \u001b[0m\u001b[34mINFO    \u001b[0m \u001b[1m[\u001b[0m_client.py:\u001b[1;36m1786\u001b[0m\u001b[1m]\u001b[0m >> HTTP Request: \u001b[1;33mPOST\u001b[0m                                \u001b]8;id=785939;file:///home/livin/anaconda3/envs/rag_pipeline/lib/python3.11/site-packages/httpx/_client.py\u001b\\\u001b[2m_client.py\u001b[0m\u001b]8;;\u001b\\\u001b[2m:\u001b[0m\u001b]8;id=248712;file:///home/livin/anaconda3/envs/rag_pipeline/lib/python3.11/site-packages/httpx/_client.py#1786\u001b\\\u001b[2m1786\u001b[0m\u001b]8;;\u001b\\\n",
       "\u001b[2;36m                    \u001b[0m         \u001b[4;94mhttps://api.openai.com/v1/chat/completions\u001b[0m \u001b[32m\"HTTP/1.1 200 OK\"\u001b[0m           \u001b[2m               \u001b[0m\n"
      ]
     },
     "metadata": {},
     "output_type": "display_data"
    },
    {
     "data": {
      "text/html": [
       "<pre style=\"white-space:pre;overflow-x:auto;line-height:normal;font-family:Menlo,'DejaVu Sans Mono',consolas,'Courier New',monospace\"><span style=\"color: #7fbfbf; text-decoration-color: #7fbfbf\">                    </span><span style=\"color: #000080; text-decoration-color: #000080\">INFO    </span> <span style=\"font-weight: bold\">[</span>_client.py:<span style=\"color: #008080; text-decoration-color: #008080; font-weight: bold\">1786</span><span style=\"font-weight: bold\">]</span> &gt;&gt; HTTP Request: <span style=\"color: #808000; text-decoration-color: #808000; font-weight: bold\">POST</span>                                <a href=\"file:///home/livin/anaconda3/envs/rag_pipeline/lib/python3.11/site-packages/httpx/_client.py\" target=\"_blank\"><span style=\"color: #7f7f7f; text-decoration-color: #7f7f7f\">_client.py</span></a><span style=\"color: #7f7f7f; text-decoration-color: #7f7f7f\">:</span><a href=\"file:///home/livin/anaconda3/envs/rag_pipeline/lib/python3.11/site-packages/httpx/_client.py#1786\" target=\"_blank\"><span style=\"color: #7f7f7f; text-decoration-color: #7f7f7f\">1786</span></a>\n",
       "<span style=\"color: #7fbfbf; text-decoration-color: #7fbfbf\">                    </span>         <span style=\"color: #0000ff; text-decoration-color: #0000ff; text-decoration: underline\">https://api.openai.com/v1/chat/completions</span> <span style=\"color: #008000; text-decoration-color: #008000\">\"HTTP/1.1 200 OK\"</span>           <span style=\"color: #7f7f7f; text-decoration-color: #7f7f7f\">               </span>\n",
       "</pre>\n"
      ],
      "text/plain": [
       "\u001b[2;36m                   \u001b[0m\u001b[2;36m \u001b[0m\u001b[34mINFO    \u001b[0m \u001b[1m[\u001b[0m_client.py:\u001b[1;36m1786\u001b[0m\u001b[1m]\u001b[0m >> HTTP Request: \u001b[1;33mPOST\u001b[0m                                \u001b]8;id=272885;file:///home/livin/anaconda3/envs/rag_pipeline/lib/python3.11/site-packages/httpx/_client.py\u001b\\\u001b[2m_client.py\u001b[0m\u001b]8;;\u001b\\\u001b[2m:\u001b[0m\u001b]8;id=105302;file:///home/livin/anaconda3/envs/rag_pipeline/lib/python3.11/site-packages/httpx/_client.py#1786\u001b\\\u001b[2m1786\u001b[0m\u001b]8;;\u001b\\\n",
       "\u001b[2;36m                    \u001b[0m         \u001b[4;94mhttps://api.openai.com/v1/chat/completions\u001b[0m \u001b[32m\"HTTP/1.1 200 OK\"\u001b[0m           \u001b[2m               \u001b[0m\n"
      ]
     },
     "metadata": {},
     "output_type": "display_data"
    },
    {
     "data": {
      "text/html": [
       "<pre style=\"white-space:pre;overflow-x:auto;line-height:normal;font-family:Menlo,'DejaVu Sans Mono',consolas,'Courier New',monospace\"><span style=\"color: #7fbfbf; text-decoration-color: #7fbfbf\">                    </span><span style=\"color: #000080; text-decoration-color: #000080\">INFO    </span> <span style=\"font-weight: bold\">[</span>_client.py:<span style=\"color: #008080; text-decoration-color: #008080; font-weight: bold\">1786</span><span style=\"font-weight: bold\">]</span> &gt;&gt; HTTP Request: <span style=\"color: #808000; text-decoration-color: #808000; font-weight: bold\">POST</span>                                <a href=\"file:///home/livin/anaconda3/envs/rag_pipeline/lib/python3.11/site-packages/httpx/_client.py\" target=\"_blank\"><span style=\"color: #7f7f7f; text-decoration-color: #7f7f7f\">_client.py</span></a><span style=\"color: #7f7f7f; text-decoration-color: #7f7f7f\">:</span><a href=\"file:///home/livin/anaconda3/envs/rag_pipeline/lib/python3.11/site-packages/httpx/_client.py#1786\" target=\"_blank\"><span style=\"color: #7f7f7f; text-decoration-color: #7f7f7f\">1786</span></a>\n",
       "<span style=\"color: #7fbfbf; text-decoration-color: #7fbfbf\">                    </span>         <span style=\"color: #0000ff; text-decoration-color: #0000ff; text-decoration: underline\">https://api.openai.com/v1/chat/completions</span> <span style=\"color: #008000; text-decoration-color: #008000\">\"HTTP/1.1 200 OK\"</span>           <span style=\"color: #7f7f7f; text-decoration-color: #7f7f7f\">               </span>\n",
       "</pre>\n"
      ],
      "text/plain": [
       "\u001b[2;36m                   \u001b[0m\u001b[2;36m \u001b[0m\u001b[34mINFO    \u001b[0m \u001b[1m[\u001b[0m_client.py:\u001b[1;36m1786\u001b[0m\u001b[1m]\u001b[0m >> HTTP Request: \u001b[1;33mPOST\u001b[0m                                \u001b]8;id=597971;file:///home/livin/anaconda3/envs/rag_pipeline/lib/python3.11/site-packages/httpx/_client.py\u001b\\\u001b[2m_client.py\u001b[0m\u001b]8;;\u001b\\\u001b[2m:\u001b[0m\u001b]8;id=791737;file:///home/livin/anaconda3/envs/rag_pipeline/lib/python3.11/site-packages/httpx/_client.py#1786\u001b\\\u001b[2m1786\u001b[0m\u001b]8;;\u001b\\\n",
       "\u001b[2;36m                    \u001b[0m         \u001b[4;94mhttps://api.openai.com/v1/chat/completions\u001b[0m \u001b[32m\"HTTP/1.1 200 OK\"\u001b[0m           \u001b[2m               \u001b[0m\n"
      ]
     },
     "metadata": {},
     "output_type": "display_data"
    },
    {
     "data": {
      "text/html": [
       "<pre style=\"white-space:pre;overflow-x:auto;line-height:normal;font-family:Menlo,'DejaVu Sans Mono',consolas,'Courier New',monospace\"><span style=\"color: #7fbfbf; text-decoration-color: #7fbfbf\">                    </span><span style=\"color: #000080; text-decoration-color: #000080\">INFO    </span> <span style=\"font-weight: bold\">[</span>_client.py:<span style=\"color: #008080; text-decoration-color: #008080; font-weight: bold\">1786</span><span style=\"font-weight: bold\">]</span> &gt;&gt; HTTP Request: <span style=\"color: #808000; text-decoration-color: #808000; font-weight: bold\">POST</span>                                <a href=\"file:///home/livin/anaconda3/envs/rag_pipeline/lib/python3.11/site-packages/httpx/_client.py\" target=\"_blank\"><span style=\"color: #7f7f7f; text-decoration-color: #7f7f7f\">_client.py</span></a><span style=\"color: #7f7f7f; text-decoration-color: #7f7f7f\">:</span><a href=\"file:///home/livin/anaconda3/envs/rag_pipeline/lib/python3.11/site-packages/httpx/_client.py#1786\" target=\"_blank\"><span style=\"color: #7f7f7f; text-decoration-color: #7f7f7f\">1786</span></a>\n",
       "<span style=\"color: #7fbfbf; text-decoration-color: #7fbfbf\">                    </span>         <span style=\"color: #0000ff; text-decoration-color: #0000ff; text-decoration: underline\">https://api.openai.com/v1/chat/completions</span> <span style=\"color: #008000; text-decoration-color: #008000\">\"HTTP/1.1 200 OK\"</span>           <span style=\"color: #7f7f7f; text-decoration-color: #7f7f7f\">               </span>\n",
       "</pre>\n"
      ],
      "text/plain": [
       "\u001b[2;36m                   \u001b[0m\u001b[2;36m \u001b[0m\u001b[34mINFO    \u001b[0m \u001b[1m[\u001b[0m_client.py:\u001b[1;36m1786\u001b[0m\u001b[1m]\u001b[0m >> HTTP Request: \u001b[1;33mPOST\u001b[0m                                \u001b]8;id=617980;file:///home/livin/anaconda3/envs/rag_pipeline/lib/python3.11/site-packages/httpx/_client.py\u001b\\\u001b[2m_client.py\u001b[0m\u001b]8;;\u001b\\\u001b[2m:\u001b[0m\u001b]8;id=891560;file:///home/livin/anaconda3/envs/rag_pipeline/lib/python3.11/site-packages/httpx/_client.py#1786\u001b\\\u001b[2m1786\u001b[0m\u001b]8;;\u001b\\\n",
       "\u001b[2;36m                    \u001b[0m         \u001b[4;94mhttps://api.openai.com/v1/chat/completions\u001b[0m \u001b[32m\"HTTP/1.1 200 OK\"\u001b[0m           \u001b[2m               \u001b[0m\n"
      ]
     },
     "metadata": {},
     "output_type": "display_data"
    },
    {
     "data": {
      "text/html": [
       "<pre style=\"white-space:pre;overflow-x:auto;line-height:normal;font-family:Menlo,'DejaVu Sans Mono',consolas,'Courier New',monospace\"><span style=\"color: #7fbfbf; text-decoration-color: #7fbfbf\">                    </span><span style=\"color: #000080; text-decoration-color: #000080\">INFO    </span> <span style=\"font-weight: bold\">[</span>_client.py:<span style=\"color: #008080; text-decoration-color: #008080; font-weight: bold\">1786</span><span style=\"font-weight: bold\">]</span> &gt;&gt; HTTP Request: <span style=\"color: #808000; text-decoration-color: #808000; font-weight: bold\">POST</span>                                <a href=\"file:///home/livin/anaconda3/envs/rag_pipeline/lib/python3.11/site-packages/httpx/_client.py\" target=\"_blank\"><span style=\"color: #7f7f7f; text-decoration-color: #7f7f7f\">_client.py</span></a><span style=\"color: #7f7f7f; text-decoration-color: #7f7f7f\">:</span><a href=\"file:///home/livin/anaconda3/envs/rag_pipeline/lib/python3.11/site-packages/httpx/_client.py#1786\" target=\"_blank\"><span style=\"color: #7f7f7f; text-decoration-color: #7f7f7f\">1786</span></a>\n",
       "<span style=\"color: #7fbfbf; text-decoration-color: #7fbfbf\">                    </span>         <span style=\"color: #0000ff; text-decoration-color: #0000ff; text-decoration: underline\">https://api.openai.com/v1/chat/completions</span> <span style=\"color: #008000; text-decoration-color: #008000\">\"HTTP/1.1 200 OK\"</span>           <span style=\"color: #7f7f7f; text-decoration-color: #7f7f7f\">               </span>\n",
       "</pre>\n"
      ],
      "text/plain": [
       "\u001b[2;36m                   \u001b[0m\u001b[2;36m \u001b[0m\u001b[34mINFO    \u001b[0m \u001b[1m[\u001b[0m_client.py:\u001b[1;36m1786\u001b[0m\u001b[1m]\u001b[0m >> HTTP Request: \u001b[1;33mPOST\u001b[0m                                \u001b]8;id=8050;file:///home/livin/anaconda3/envs/rag_pipeline/lib/python3.11/site-packages/httpx/_client.py\u001b\\\u001b[2m_client.py\u001b[0m\u001b]8;;\u001b\\\u001b[2m:\u001b[0m\u001b]8;id=700782;file:///home/livin/anaconda3/envs/rag_pipeline/lib/python3.11/site-packages/httpx/_client.py#1786\u001b\\\u001b[2m1786\u001b[0m\u001b]8;;\u001b\\\n",
       "\u001b[2;36m                    \u001b[0m         \u001b[4;94mhttps://api.openai.com/v1/chat/completions\u001b[0m \u001b[32m\"HTTP/1.1 200 OK\"\u001b[0m           \u001b[2m               \u001b[0m\n"
      ]
     },
     "metadata": {},
     "output_type": "display_data"
    },
    {
     "data": {
      "text/html": [
       "<pre style=\"white-space:pre;overflow-x:auto;line-height:normal;font-family:Menlo,'DejaVu Sans Mono',consolas,'Courier New',monospace\"><span style=\"color: #7fbfbf; text-decoration-color: #7fbfbf\">                    </span><span style=\"color: #000080; text-decoration-color: #000080\">INFO    </span> <span style=\"font-weight: bold\">[</span>_client.py:<span style=\"color: #008080; text-decoration-color: #008080; font-weight: bold\">1786</span><span style=\"font-weight: bold\">]</span> &gt;&gt; HTTP Request: <span style=\"color: #808000; text-decoration-color: #808000; font-weight: bold\">POST</span>                                <a href=\"file:///home/livin/anaconda3/envs/rag_pipeline/lib/python3.11/site-packages/httpx/_client.py\" target=\"_blank\"><span style=\"color: #7f7f7f; text-decoration-color: #7f7f7f\">_client.py</span></a><span style=\"color: #7f7f7f; text-decoration-color: #7f7f7f\">:</span><a href=\"file:///home/livin/anaconda3/envs/rag_pipeline/lib/python3.11/site-packages/httpx/_client.py#1786\" target=\"_blank\"><span style=\"color: #7f7f7f; text-decoration-color: #7f7f7f\">1786</span></a>\n",
       "<span style=\"color: #7fbfbf; text-decoration-color: #7fbfbf\">                    </span>         <span style=\"color: #0000ff; text-decoration-color: #0000ff; text-decoration: underline\">https://api.openai.com/v1/chat/completions</span> <span style=\"color: #008000; text-decoration-color: #008000\">\"HTTP/1.1 200 OK\"</span>           <span style=\"color: #7f7f7f; text-decoration-color: #7f7f7f\">               </span>\n",
       "</pre>\n"
      ],
      "text/plain": [
       "\u001b[2;36m                   \u001b[0m\u001b[2;36m \u001b[0m\u001b[34mINFO    \u001b[0m \u001b[1m[\u001b[0m_client.py:\u001b[1;36m1786\u001b[0m\u001b[1m]\u001b[0m >> HTTP Request: \u001b[1;33mPOST\u001b[0m                                \u001b]8;id=469473;file:///home/livin/anaconda3/envs/rag_pipeline/lib/python3.11/site-packages/httpx/_client.py\u001b\\\u001b[2m_client.py\u001b[0m\u001b]8;;\u001b\\\u001b[2m:\u001b[0m\u001b]8;id=684250;file:///home/livin/anaconda3/envs/rag_pipeline/lib/python3.11/site-packages/httpx/_client.py#1786\u001b\\\u001b[2m1786\u001b[0m\u001b]8;;\u001b\\\n",
       "\u001b[2;36m                    \u001b[0m         \u001b[4;94mhttps://api.openai.com/v1/chat/completions\u001b[0m \u001b[32m\"HTTP/1.1 200 OK\"\u001b[0m           \u001b[2m               \u001b[0m\n"
      ]
     },
     "metadata": {},
     "output_type": "display_data"
    },
    {
     "data": {
      "text/html": [
       "<pre style=\"white-space:pre;overflow-x:auto;line-height:normal;font-family:Menlo,'DejaVu Sans Mono',consolas,'Courier New',monospace\"><span style=\"color: #7fbfbf; text-decoration-color: #7fbfbf\">[10/16/24 13:59:43] </span><span style=\"color: #000080; text-decoration-color: #000080\">INFO    </span> <span style=\"font-weight: bold\">[</span>_client.py:<span style=\"color: #008080; text-decoration-color: #008080; font-weight: bold\">1786</span><span style=\"font-weight: bold\">]</span> &gt;&gt; HTTP Request: <span style=\"color: #808000; text-decoration-color: #808000; font-weight: bold\">POST</span>                                <a href=\"file:///home/livin/anaconda3/envs/rag_pipeline/lib/python3.11/site-packages/httpx/_client.py\" target=\"_blank\"><span style=\"color: #7f7f7f; text-decoration-color: #7f7f7f\">_client.py</span></a><span style=\"color: #7f7f7f; text-decoration-color: #7f7f7f\">:</span><a href=\"file:///home/livin/anaconda3/envs/rag_pipeline/lib/python3.11/site-packages/httpx/_client.py#1786\" target=\"_blank\"><span style=\"color: #7f7f7f; text-decoration-color: #7f7f7f\">1786</span></a>\n",
       "<span style=\"color: #7fbfbf; text-decoration-color: #7fbfbf\">                    </span>         <span style=\"color: #0000ff; text-decoration-color: #0000ff; text-decoration: underline\">https://api.openai.com/v1/chat/completions</span> <span style=\"color: #008000; text-decoration-color: #008000\">\"HTTP/1.1 200 OK\"</span>           <span style=\"color: #7f7f7f; text-decoration-color: #7f7f7f\">               </span>\n",
       "</pre>\n"
      ],
      "text/plain": [
       "\u001b[2;36m[10/16/24 13:59:43]\u001b[0m\u001b[2;36m \u001b[0m\u001b[34mINFO    \u001b[0m \u001b[1m[\u001b[0m_client.py:\u001b[1;36m1786\u001b[0m\u001b[1m]\u001b[0m >> HTTP Request: \u001b[1;33mPOST\u001b[0m                                \u001b]8;id=186991;file:///home/livin/anaconda3/envs/rag_pipeline/lib/python3.11/site-packages/httpx/_client.py\u001b\\\u001b[2m_client.py\u001b[0m\u001b]8;;\u001b\\\u001b[2m:\u001b[0m\u001b]8;id=807792;file:///home/livin/anaconda3/envs/rag_pipeline/lib/python3.11/site-packages/httpx/_client.py#1786\u001b\\\u001b[2m1786\u001b[0m\u001b]8;;\u001b\\\n",
       "\u001b[2;36m                    \u001b[0m         \u001b[4;94mhttps://api.openai.com/v1/chat/completions\u001b[0m \u001b[32m\"HTTP/1.1 200 OK\"\u001b[0m           \u001b[2m               \u001b[0m\n"
      ]
     },
     "metadata": {},
     "output_type": "display_data"
    },
    {
     "data": {
      "text/html": [
       "<pre style=\"white-space:pre;overflow-x:auto;line-height:normal;font-family:Menlo,'DejaVu Sans Mono',consolas,'Courier New',monospace\"><span style=\"color: #7fbfbf; text-decoration-color: #7fbfbf\">                    </span><span style=\"color: #000080; text-decoration-color: #000080\">INFO    </span> <span style=\"font-weight: bold\">[</span>_client.py:<span style=\"color: #008080; text-decoration-color: #008080; font-weight: bold\">1786</span><span style=\"font-weight: bold\">]</span> &gt;&gt; HTTP Request: <span style=\"color: #808000; text-decoration-color: #808000; font-weight: bold\">POST</span>                                <a href=\"file:///home/livin/anaconda3/envs/rag_pipeline/lib/python3.11/site-packages/httpx/_client.py\" target=\"_blank\"><span style=\"color: #7f7f7f; text-decoration-color: #7f7f7f\">_client.py</span></a><span style=\"color: #7f7f7f; text-decoration-color: #7f7f7f\">:</span><a href=\"file:///home/livin/anaconda3/envs/rag_pipeline/lib/python3.11/site-packages/httpx/_client.py#1786\" target=\"_blank\"><span style=\"color: #7f7f7f; text-decoration-color: #7f7f7f\">1786</span></a>\n",
       "<span style=\"color: #7fbfbf; text-decoration-color: #7fbfbf\">                    </span>         <span style=\"color: #0000ff; text-decoration-color: #0000ff; text-decoration: underline\">https://api.openai.com/v1/chat/completions</span> <span style=\"color: #008000; text-decoration-color: #008000\">\"HTTP/1.1 200 OK\"</span>           <span style=\"color: #7f7f7f; text-decoration-color: #7f7f7f\">               </span>\n",
       "</pre>\n"
      ],
      "text/plain": [
       "\u001b[2;36m                   \u001b[0m\u001b[2;36m \u001b[0m\u001b[34mINFO    \u001b[0m \u001b[1m[\u001b[0m_client.py:\u001b[1;36m1786\u001b[0m\u001b[1m]\u001b[0m >> HTTP Request: \u001b[1;33mPOST\u001b[0m                                \u001b]8;id=907734;file:///home/livin/anaconda3/envs/rag_pipeline/lib/python3.11/site-packages/httpx/_client.py\u001b\\\u001b[2m_client.py\u001b[0m\u001b]8;;\u001b\\\u001b[2m:\u001b[0m\u001b]8;id=609430;file:///home/livin/anaconda3/envs/rag_pipeline/lib/python3.11/site-packages/httpx/_client.py#1786\u001b\\\u001b[2m1786\u001b[0m\u001b]8;;\u001b\\\n",
       "\u001b[2;36m                    \u001b[0m         \u001b[4;94mhttps://api.openai.com/v1/chat/completions\u001b[0m \u001b[32m\"HTTP/1.1 200 OK\"\u001b[0m           \u001b[2m               \u001b[0m\n"
      ]
     },
     "metadata": {},
     "output_type": "display_data"
    },
    {
     "data": {
      "text/html": [
       "<pre style=\"white-space:pre;overflow-x:auto;line-height:normal;font-family:Menlo,'DejaVu Sans Mono',consolas,'Courier New',monospace\"><span style=\"color: #7fbfbf; text-decoration-color: #7fbfbf\">                    </span><span style=\"color: #000080; text-decoration-color: #000080\">INFO    </span> <span style=\"font-weight: bold\">[</span>_client.py:<span style=\"color: #008080; text-decoration-color: #008080; font-weight: bold\">1786</span><span style=\"font-weight: bold\">]</span> &gt;&gt; HTTP Request: <span style=\"color: #808000; text-decoration-color: #808000; font-weight: bold\">POST</span>                                <a href=\"file:///home/livin/anaconda3/envs/rag_pipeline/lib/python3.11/site-packages/httpx/_client.py\" target=\"_blank\"><span style=\"color: #7f7f7f; text-decoration-color: #7f7f7f\">_client.py</span></a><span style=\"color: #7f7f7f; text-decoration-color: #7f7f7f\">:</span><a href=\"file:///home/livin/anaconda3/envs/rag_pipeline/lib/python3.11/site-packages/httpx/_client.py#1786\" target=\"_blank\"><span style=\"color: #7f7f7f; text-decoration-color: #7f7f7f\">1786</span></a>\n",
       "<span style=\"color: #7fbfbf; text-decoration-color: #7fbfbf\">                    </span>         <span style=\"color: #0000ff; text-decoration-color: #0000ff; text-decoration: underline\">https://api.openai.com/v1/chat/completions</span> <span style=\"color: #008000; text-decoration-color: #008000\">\"HTTP/1.1 200 OK\"</span>           <span style=\"color: #7f7f7f; text-decoration-color: #7f7f7f\">               </span>\n",
       "</pre>\n"
      ],
      "text/plain": [
       "\u001b[2;36m                   \u001b[0m\u001b[2;36m \u001b[0m\u001b[34mINFO    \u001b[0m \u001b[1m[\u001b[0m_client.py:\u001b[1;36m1786\u001b[0m\u001b[1m]\u001b[0m >> HTTP Request: \u001b[1;33mPOST\u001b[0m                                \u001b]8;id=122610;file:///home/livin/anaconda3/envs/rag_pipeline/lib/python3.11/site-packages/httpx/_client.py\u001b\\\u001b[2m_client.py\u001b[0m\u001b]8;;\u001b\\\u001b[2m:\u001b[0m\u001b]8;id=713347;file:///home/livin/anaconda3/envs/rag_pipeline/lib/python3.11/site-packages/httpx/_client.py#1786\u001b\\\u001b[2m1786\u001b[0m\u001b]8;;\u001b\\\n",
       "\u001b[2;36m                    \u001b[0m         \u001b[4;94mhttps://api.openai.com/v1/chat/completions\u001b[0m \u001b[32m\"HTTP/1.1 200 OK\"\u001b[0m           \u001b[2m               \u001b[0m\n"
      ]
     },
     "metadata": {},
     "output_type": "display_data"
    },
    {
     "data": {
      "text/html": [
       "<pre style=\"white-space:pre;overflow-x:auto;line-height:normal;font-family:Menlo,'DejaVu Sans Mono',consolas,'Courier New',monospace\"><span style=\"color: #7fbfbf; text-decoration-color: #7fbfbf\">                    </span><span style=\"color: #000080; text-decoration-color: #000080\">INFO    </span> <span style=\"font-weight: bold\">[</span>_client.py:<span style=\"color: #008080; text-decoration-color: #008080; font-weight: bold\">1786</span><span style=\"font-weight: bold\">]</span> &gt;&gt; HTTP Request: <span style=\"color: #808000; text-decoration-color: #808000; font-weight: bold\">POST</span>                                <a href=\"file:///home/livin/anaconda3/envs/rag_pipeline/lib/python3.11/site-packages/httpx/_client.py\" target=\"_blank\"><span style=\"color: #7f7f7f; text-decoration-color: #7f7f7f\">_client.py</span></a><span style=\"color: #7f7f7f; text-decoration-color: #7f7f7f\">:</span><a href=\"file:///home/livin/anaconda3/envs/rag_pipeline/lib/python3.11/site-packages/httpx/_client.py#1786\" target=\"_blank\"><span style=\"color: #7f7f7f; text-decoration-color: #7f7f7f\">1786</span></a>\n",
       "<span style=\"color: #7fbfbf; text-decoration-color: #7fbfbf\">                    </span>         <span style=\"color: #0000ff; text-decoration-color: #0000ff; text-decoration: underline\">https://api.openai.com/v1/chat/completions</span> <span style=\"color: #008000; text-decoration-color: #008000\">\"HTTP/1.1 200 OK\"</span>           <span style=\"color: #7f7f7f; text-decoration-color: #7f7f7f\">               </span>\n",
       "</pre>\n"
      ],
      "text/plain": [
       "\u001b[2;36m                   \u001b[0m\u001b[2;36m \u001b[0m\u001b[34mINFO    \u001b[0m \u001b[1m[\u001b[0m_client.py:\u001b[1;36m1786\u001b[0m\u001b[1m]\u001b[0m >> HTTP Request: \u001b[1;33mPOST\u001b[0m                                \u001b]8;id=923919;file:///home/livin/anaconda3/envs/rag_pipeline/lib/python3.11/site-packages/httpx/_client.py\u001b\\\u001b[2m_client.py\u001b[0m\u001b]8;;\u001b\\\u001b[2m:\u001b[0m\u001b]8;id=289699;file:///home/livin/anaconda3/envs/rag_pipeline/lib/python3.11/site-packages/httpx/_client.py#1786\u001b\\\u001b[2m1786\u001b[0m\u001b]8;;\u001b\\\n",
       "\u001b[2;36m                    \u001b[0m         \u001b[4;94mhttps://api.openai.com/v1/chat/completions\u001b[0m \u001b[32m\"HTTP/1.1 200 OK\"\u001b[0m           \u001b[2m               \u001b[0m\n"
      ]
     },
     "metadata": {},
     "output_type": "display_data"
    },
    {
     "data": {
      "text/html": [
       "<pre style=\"white-space:pre;overflow-x:auto;line-height:normal;font-family:Menlo,'DejaVu Sans Mono',consolas,'Courier New',monospace\"><span style=\"color: #7fbfbf; text-decoration-color: #7fbfbf\">                    </span><span style=\"color: #000080; text-decoration-color: #000080\">INFO    </span> <span style=\"font-weight: bold\">[</span>_client.py:<span style=\"color: #008080; text-decoration-color: #008080; font-weight: bold\">1786</span><span style=\"font-weight: bold\">]</span> &gt;&gt; HTTP Request: <span style=\"color: #808000; text-decoration-color: #808000; font-weight: bold\">POST</span>                                <a href=\"file:///home/livin/anaconda3/envs/rag_pipeline/lib/python3.11/site-packages/httpx/_client.py\" target=\"_blank\"><span style=\"color: #7f7f7f; text-decoration-color: #7f7f7f\">_client.py</span></a><span style=\"color: #7f7f7f; text-decoration-color: #7f7f7f\">:</span><a href=\"file:///home/livin/anaconda3/envs/rag_pipeline/lib/python3.11/site-packages/httpx/_client.py#1786\" target=\"_blank\"><span style=\"color: #7f7f7f; text-decoration-color: #7f7f7f\">1786</span></a>\n",
       "<span style=\"color: #7fbfbf; text-decoration-color: #7fbfbf\">                    </span>         <span style=\"color: #0000ff; text-decoration-color: #0000ff; text-decoration: underline\">https://api.openai.com/v1/chat/completions</span> <span style=\"color: #008000; text-decoration-color: #008000\">\"HTTP/1.1 200 OK\"</span>           <span style=\"color: #7f7f7f; text-decoration-color: #7f7f7f\">               </span>\n",
       "</pre>\n"
      ],
      "text/plain": [
       "\u001b[2;36m                   \u001b[0m\u001b[2;36m \u001b[0m\u001b[34mINFO    \u001b[0m \u001b[1m[\u001b[0m_client.py:\u001b[1;36m1786\u001b[0m\u001b[1m]\u001b[0m >> HTTP Request: \u001b[1;33mPOST\u001b[0m                                \u001b]8;id=845181;file:///home/livin/anaconda3/envs/rag_pipeline/lib/python3.11/site-packages/httpx/_client.py\u001b\\\u001b[2m_client.py\u001b[0m\u001b]8;;\u001b\\\u001b[2m:\u001b[0m\u001b]8;id=236697;file:///home/livin/anaconda3/envs/rag_pipeline/lib/python3.11/site-packages/httpx/_client.py#1786\u001b\\\u001b[2m1786\u001b[0m\u001b]8;;\u001b\\\n",
       "\u001b[2;36m                    \u001b[0m         \u001b[4;94mhttps://api.openai.com/v1/chat/completions\u001b[0m \u001b[32m\"HTTP/1.1 200 OK\"\u001b[0m           \u001b[2m               \u001b[0m\n"
      ]
     },
     "metadata": {},
     "output_type": "display_data"
    },
    {
     "data": {
      "text/html": [
       "<pre style=\"white-space:pre;overflow-x:auto;line-height:normal;font-family:Menlo,'DejaVu Sans Mono',consolas,'Courier New',monospace\"><span style=\"color: #7fbfbf; text-decoration-color: #7fbfbf\">                    </span><span style=\"color: #000080; text-decoration-color: #000080\">INFO    </span> <span style=\"font-weight: bold\">[</span>_client.py:<span style=\"color: #008080; text-decoration-color: #008080; font-weight: bold\">1786</span><span style=\"font-weight: bold\">]</span> &gt;&gt; HTTP Request: <span style=\"color: #808000; text-decoration-color: #808000; font-weight: bold\">POST</span>                                <a href=\"file:///home/livin/anaconda3/envs/rag_pipeline/lib/python3.11/site-packages/httpx/_client.py\" target=\"_blank\"><span style=\"color: #7f7f7f; text-decoration-color: #7f7f7f\">_client.py</span></a><span style=\"color: #7f7f7f; text-decoration-color: #7f7f7f\">:</span><a href=\"file:///home/livin/anaconda3/envs/rag_pipeline/lib/python3.11/site-packages/httpx/_client.py#1786\" target=\"_blank\"><span style=\"color: #7f7f7f; text-decoration-color: #7f7f7f\">1786</span></a>\n",
       "<span style=\"color: #7fbfbf; text-decoration-color: #7fbfbf\">                    </span>         <span style=\"color: #0000ff; text-decoration-color: #0000ff; text-decoration: underline\">https://api.openai.com/v1/chat/completions</span> <span style=\"color: #008000; text-decoration-color: #008000\">\"HTTP/1.1 200 OK\"</span>           <span style=\"color: #7f7f7f; text-decoration-color: #7f7f7f\">               </span>\n",
       "</pre>\n"
      ],
      "text/plain": [
       "\u001b[2;36m                   \u001b[0m\u001b[2;36m \u001b[0m\u001b[34mINFO    \u001b[0m \u001b[1m[\u001b[0m_client.py:\u001b[1;36m1786\u001b[0m\u001b[1m]\u001b[0m >> HTTP Request: \u001b[1;33mPOST\u001b[0m                                \u001b]8;id=860092;file:///home/livin/anaconda3/envs/rag_pipeline/lib/python3.11/site-packages/httpx/_client.py\u001b\\\u001b[2m_client.py\u001b[0m\u001b]8;;\u001b\\\u001b[2m:\u001b[0m\u001b]8;id=105167;file:///home/livin/anaconda3/envs/rag_pipeline/lib/python3.11/site-packages/httpx/_client.py#1786\u001b\\\u001b[2m1786\u001b[0m\u001b]8;;\u001b\\\n",
       "\u001b[2;36m                    \u001b[0m         \u001b[4;94mhttps://api.openai.com/v1/chat/completions\u001b[0m \u001b[32m\"HTTP/1.1 200 OK\"\u001b[0m           \u001b[2m               \u001b[0m\n"
      ]
     },
     "metadata": {},
     "output_type": "display_data"
    },
    {
     "data": {
      "text/html": [
       "<pre style=\"white-space:pre;overflow-x:auto;line-height:normal;font-family:Menlo,'DejaVu Sans Mono',consolas,'Courier New',monospace\"><span style=\"color: #7fbfbf; text-decoration-color: #7fbfbf\">                    </span><span style=\"color: #000080; text-decoration-color: #000080\">INFO    </span> <span style=\"font-weight: bold\">[</span>_client.py:<span style=\"color: #008080; text-decoration-color: #008080; font-weight: bold\">1786</span><span style=\"font-weight: bold\">]</span> &gt;&gt; HTTP Request: <span style=\"color: #808000; text-decoration-color: #808000; font-weight: bold\">POST</span>                                <a href=\"file:///home/livin/anaconda3/envs/rag_pipeline/lib/python3.11/site-packages/httpx/_client.py\" target=\"_blank\"><span style=\"color: #7f7f7f; text-decoration-color: #7f7f7f\">_client.py</span></a><span style=\"color: #7f7f7f; text-decoration-color: #7f7f7f\">:</span><a href=\"file:///home/livin/anaconda3/envs/rag_pipeline/lib/python3.11/site-packages/httpx/_client.py#1786\" target=\"_blank\"><span style=\"color: #7f7f7f; text-decoration-color: #7f7f7f\">1786</span></a>\n",
       "<span style=\"color: #7fbfbf; text-decoration-color: #7fbfbf\">                    </span>         <span style=\"color: #0000ff; text-decoration-color: #0000ff; text-decoration: underline\">https://api.openai.com/v1/chat/completions</span> <span style=\"color: #008000; text-decoration-color: #008000\">\"HTTP/1.1 200 OK\"</span>           <span style=\"color: #7f7f7f; text-decoration-color: #7f7f7f\">               </span>\n",
       "</pre>\n"
      ],
      "text/plain": [
       "\u001b[2;36m                   \u001b[0m\u001b[2;36m \u001b[0m\u001b[34mINFO    \u001b[0m \u001b[1m[\u001b[0m_client.py:\u001b[1;36m1786\u001b[0m\u001b[1m]\u001b[0m >> HTTP Request: \u001b[1;33mPOST\u001b[0m                                \u001b]8;id=233986;file:///home/livin/anaconda3/envs/rag_pipeline/lib/python3.11/site-packages/httpx/_client.py\u001b\\\u001b[2m_client.py\u001b[0m\u001b]8;;\u001b\\\u001b[2m:\u001b[0m\u001b]8;id=190487;file:///home/livin/anaconda3/envs/rag_pipeline/lib/python3.11/site-packages/httpx/_client.py#1786\u001b\\\u001b[2m1786\u001b[0m\u001b]8;;\u001b\\\n",
       "\u001b[2;36m                    \u001b[0m         \u001b[4;94mhttps://api.openai.com/v1/chat/completions\u001b[0m \u001b[32m\"HTTP/1.1 200 OK\"\u001b[0m           \u001b[2m               \u001b[0m\n"
      ]
     },
     "metadata": {},
     "output_type": "display_data"
    },
    {
     "data": {
      "text/html": [
       "<pre style=\"white-space:pre;overflow-x:auto;line-height:normal;font-family:Menlo,'DejaVu Sans Mono',consolas,'Courier New',monospace\"><span style=\"color: #7fbfbf; text-decoration-color: #7fbfbf\">                    </span><span style=\"color: #000080; text-decoration-color: #000080\">INFO    </span> <span style=\"font-weight: bold\">[</span>_client.py:<span style=\"color: #008080; text-decoration-color: #008080; font-weight: bold\">1786</span><span style=\"font-weight: bold\">]</span> &gt;&gt; HTTP Request: <span style=\"color: #808000; text-decoration-color: #808000; font-weight: bold\">POST</span>                                <a href=\"file:///home/livin/anaconda3/envs/rag_pipeline/lib/python3.11/site-packages/httpx/_client.py\" target=\"_blank\"><span style=\"color: #7f7f7f; text-decoration-color: #7f7f7f\">_client.py</span></a><span style=\"color: #7f7f7f; text-decoration-color: #7f7f7f\">:</span><a href=\"file:///home/livin/anaconda3/envs/rag_pipeline/lib/python3.11/site-packages/httpx/_client.py#1786\" target=\"_blank\"><span style=\"color: #7f7f7f; text-decoration-color: #7f7f7f\">1786</span></a>\n",
       "<span style=\"color: #7fbfbf; text-decoration-color: #7fbfbf\">                    </span>         <span style=\"color: #0000ff; text-decoration-color: #0000ff; text-decoration: underline\">https://api.openai.com/v1/chat/completions</span> <span style=\"color: #008000; text-decoration-color: #008000\">\"HTTP/1.1 200 OK\"</span>           <span style=\"color: #7f7f7f; text-decoration-color: #7f7f7f\">               </span>\n",
       "</pre>\n"
      ],
      "text/plain": [
       "\u001b[2;36m                   \u001b[0m\u001b[2;36m \u001b[0m\u001b[34mINFO    \u001b[0m \u001b[1m[\u001b[0m_client.py:\u001b[1;36m1786\u001b[0m\u001b[1m]\u001b[0m >> HTTP Request: \u001b[1;33mPOST\u001b[0m                                \u001b]8;id=186927;file:///home/livin/anaconda3/envs/rag_pipeline/lib/python3.11/site-packages/httpx/_client.py\u001b\\\u001b[2m_client.py\u001b[0m\u001b]8;;\u001b\\\u001b[2m:\u001b[0m\u001b]8;id=618444;file:///home/livin/anaconda3/envs/rag_pipeline/lib/python3.11/site-packages/httpx/_client.py#1786\u001b\\\u001b[2m1786\u001b[0m\u001b]8;;\u001b\\\n",
       "\u001b[2;36m                    \u001b[0m         \u001b[4;94mhttps://api.openai.com/v1/chat/completions\u001b[0m \u001b[32m\"HTTP/1.1 200 OK\"\u001b[0m           \u001b[2m               \u001b[0m\n"
      ]
     },
     "metadata": {},
     "output_type": "display_data"
    },
    {
     "data": {
      "text/html": [
       "<pre style=\"white-space:pre;overflow-x:auto;line-height:normal;font-family:Menlo,'DejaVu Sans Mono',consolas,'Courier New',monospace\"><span style=\"color: #7fbfbf; text-decoration-color: #7fbfbf\">[10/16/24 13:59:45] </span><span style=\"color: #000080; text-decoration-color: #000080\">INFO    </span> <span style=\"font-weight: bold\">[</span>_client.py:<span style=\"color: #008080; text-decoration-color: #008080; font-weight: bold\">1786</span><span style=\"font-weight: bold\">]</span> &gt;&gt; HTTP Request: <span style=\"color: #808000; text-decoration-color: #808000; font-weight: bold\">POST</span>                                <a href=\"file:///home/livin/anaconda3/envs/rag_pipeline/lib/python3.11/site-packages/httpx/_client.py\" target=\"_blank\"><span style=\"color: #7f7f7f; text-decoration-color: #7f7f7f\">_client.py</span></a><span style=\"color: #7f7f7f; text-decoration-color: #7f7f7f\">:</span><a href=\"file:///home/livin/anaconda3/envs/rag_pipeline/lib/python3.11/site-packages/httpx/_client.py#1786\" target=\"_blank\"><span style=\"color: #7f7f7f; text-decoration-color: #7f7f7f\">1786</span></a>\n",
       "<span style=\"color: #7fbfbf; text-decoration-color: #7fbfbf\">                    </span>         <span style=\"color: #0000ff; text-decoration-color: #0000ff; text-decoration: underline\">https://api.openai.com/v1/chat/completions</span> <span style=\"color: #008000; text-decoration-color: #008000\">\"HTTP/1.1 200 OK\"</span>           <span style=\"color: #7f7f7f; text-decoration-color: #7f7f7f\">               </span>\n",
       "</pre>\n"
      ],
      "text/plain": [
       "\u001b[2;36m[10/16/24 13:59:45]\u001b[0m\u001b[2;36m \u001b[0m\u001b[34mINFO    \u001b[0m \u001b[1m[\u001b[0m_client.py:\u001b[1;36m1786\u001b[0m\u001b[1m]\u001b[0m >> HTTP Request: \u001b[1;33mPOST\u001b[0m                                \u001b]8;id=109473;file:///home/livin/anaconda3/envs/rag_pipeline/lib/python3.11/site-packages/httpx/_client.py\u001b\\\u001b[2m_client.py\u001b[0m\u001b]8;;\u001b\\\u001b[2m:\u001b[0m\u001b]8;id=80033;file:///home/livin/anaconda3/envs/rag_pipeline/lib/python3.11/site-packages/httpx/_client.py#1786\u001b\\\u001b[2m1786\u001b[0m\u001b]8;;\u001b\\\n",
       "\u001b[2;36m                    \u001b[0m         \u001b[4;94mhttps://api.openai.com/v1/chat/completions\u001b[0m \u001b[32m\"HTTP/1.1 200 OK\"\u001b[0m           \u001b[2m               \u001b[0m\n"
      ]
     },
     "metadata": {},
     "output_type": "display_data"
    },
    {
     "data": {
      "text/html": [
       "<pre style=\"white-space:pre;overflow-x:auto;line-height:normal;font-family:Menlo,'DejaVu Sans Mono',consolas,'Courier New',monospace\"><span style=\"color: #7fbfbf; text-decoration-color: #7fbfbf\">[10/16/24 13:59:46] </span><span style=\"color: #000080; text-decoration-color: #000080\">INFO    </span> <span style=\"font-weight: bold\">[</span>_client.py:<span style=\"color: #008080; text-decoration-color: #008080; font-weight: bold\">1786</span><span style=\"font-weight: bold\">]</span> &gt;&gt; HTTP Request: <span style=\"color: #808000; text-decoration-color: #808000; font-weight: bold\">POST</span>                                <a href=\"file:///home/livin/anaconda3/envs/rag_pipeline/lib/python3.11/site-packages/httpx/_client.py\" target=\"_blank\"><span style=\"color: #7f7f7f; text-decoration-color: #7f7f7f\">_client.py</span></a><span style=\"color: #7f7f7f; text-decoration-color: #7f7f7f\">:</span><a href=\"file:///home/livin/anaconda3/envs/rag_pipeline/lib/python3.11/site-packages/httpx/_client.py#1786\" target=\"_blank\"><span style=\"color: #7f7f7f; text-decoration-color: #7f7f7f\">1786</span></a>\n",
       "<span style=\"color: #7fbfbf; text-decoration-color: #7fbfbf\">                    </span>         <span style=\"color: #0000ff; text-decoration-color: #0000ff; text-decoration: underline\">https://api.openai.com/v1/chat/completions</span> <span style=\"color: #008000; text-decoration-color: #008000\">\"HTTP/1.1 200 OK\"</span>           <span style=\"color: #7f7f7f; text-decoration-color: #7f7f7f\">               </span>\n",
       "</pre>\n"
      ],
      "text/plain": [
       "\u001b[2;36m[10/16/24 13:59:46]\u001b[0m\u001b[2;36m \u001b[0m\u001b[34mINFO    \u001b[0m \u001b[1m[\u001b[0m_client.py:\u001b[1;36m1786\u001b[0m\u001b[1m]\u001b[0m >> HTTP Request: \u001b[1;33mPOST\u001b[0m                                \u001b]8;id=807671;file:///home/livin/anaconda3/envs/rag_pipeline/lib/python3.11/site-packages/httpx/_client.py\u001b\\\u001b[2m_client.py\u001b[0m\u001b]8;;\u001b\\\u001b[2m:\u001b[0m\u001b]8;id=561561;file:///home/livin/anaconda3/envs/rag_pipeline/lib/python3.11/site-packages/httpx/_client.py#1786\u001b\\\u001b[2m1786\u001b[0m\u001b]8;;\u001b\\\n",
       "\u001b[2;36m                    \u001b[0m         \u001b[4;94mhttps://api.openai.com/v1/chat/completions\u001b[0m \u001b[32m\"HTTP/1.1 200 OK\"\u001b[0m           \u001b[2m               \u001b[0m\n"
      ]
     },
     "metadata": {},
     "output_type": "display_data"
    },
    {
     "data": {
      "text/html": [
       "<pre style=\"white-space:pre;overflow-x:auto;line-height:normal;font-family:Menlo,'DejaVu Sans Mono',consolas,'Courier New',monospace\"><span style=\"color: #7fbfbf; text-decoration-color: #7fbfbf\">                    </span><span style=\"color: #000080; text-decoration-color: #000080\">INFO    </span> <span style=\"font-weight: bold\">[</span>_client.py:<span style=\"color: #008080; text-decoration-color: #008080; font-weight: bold\">1786</span><span style=\"font-weight: bold\">]</span> &gt;&gt; HTTP Request: <span style=\"color: #808000; text-decoration-color: #808000; font-weight: bold\">POST</span>                                <a href=\"file:///home/livin/anaconda3/envs/rag_pipeline/lib/python3.11/site-packages/httpx/_client.py\" target=\"_blank\"><span style=\"color: #7f7f7f; text-decoration-color: #7f7f7f\">_client.py</span></a><span style=\"color: #7f7f7f; text-decoration-color: #7f7f7f\">:</span><a href=\"file:///home/livin/anaconda3/envs/rag_pipeline/lib/python3.11/site-packages/httpx/_client.py#1786\" target=\"_blank\"><span style=\"color: #7f7f7f; text-decoration-color: #7f7f7f\">1786</span></a>\n",
       "<span style=\"color: #7fbfbf; text-decoration-color: #7fbfbf\">                    </span>         <span style=\"color: #0000ff; text-decoration-color: #0000ff; text-decoration: underline\">https://api.openai.com/v1/chat/completions</span> <span style=\"color: #008000; text-decoration-color: #008000\">\"HTTP/1.1 200 OK\"</span>           <span style=\"color: #7f7f7f; text-decoration-color: #7f7f7f\">               </span>\n",
       "</pre>\n"
      ],
      "text/plain": [
       "\u001b[2;36m                   \u001b[0m\u001b[2;36m \u001b[0m\u001b[34mINFO    \u001b[0m \u001b[1m[\u001b[0m_client.py:\u001b[1;36m1786\u001b[0m\u001b[1m]\u001b[0m >> HTTP Request: \u001b[1;33mPOST\u001b[0m                                \u001b]8;id=803115;file:///home/livin/anaconda3/envs/rag_pipeline/lib/python3.11/site-packages/httpx/_client.py\u001b\\\u001b[2m_client.py\u001b[0m\u001b]8;;\u001b\\\u001b[2m:\u001b[0m\u001b]8;id=73476;file:///home/livin/anaconda3/envs/rag_pipeline/lib/python3.11/site-packages/httpx/_client.py#1786\u001b\\\u001b[2m1786\u001b[0m\u001b]8;;\u001b\\\n",
       "\u001b[2;36m                    \u001b[0m         \u001b[4;94mhttps://api.openai.com/v1/chat/completions\u001b[0m \u001b[32m\"HTTP/1.1 200 OK\"\u001b[0m           \u001b[2m               \u001b[0m\n"
      ]
     },
     "metadata": {},
     "output_type": "display_data"
    },
    {
     "data": {
      "text/html": [
       "<pre style=\"white-space:pre;overflow-x:auto;line-height:normal;font-family:Menlo,'DejaVu Sans Mono',consolas,'Courier New',monospace\"><span style=\"color: #7fbfbf; text-decoration-color: #7fbfbf\">                    </span><span style=\"color: #000080; text-decoration-color: #000080\">INFO    </span> <span style=\"font-weight: bold\">[</span>_client.py:<span style=\"color: #008080; text-decoration-color: #008080; font-weight: bold\">1786</span><span style=\"font-weight: bold\">]</span> &gt;&gt; HTTP Request: <span style=\"color: #808000; text-decoration-color: #808000; font-weight: bold\">POST</span>                                <a href=\"file:///home/livin/anaconda3/envs/rag_pipeline/lib/python3.11/site-packages/httpx/_client.py\" target=\"_blank\"><span style=\"color: #7f7f7f; text-decoration-color: #7f7f7f\">_client.py</span></a><span style=\"color: #7f7f7f; text-decoration-color: #7f7f7f\">:</span><a href=\"file:///home/livin/anaconda3/envs/rag_pipeline/lib/python3.11/site-packages/httpx/_client.py#1786\" target=\"_blank\"><span style=\"color: #7f7f7f; text-decoration-color: #7f7f7f\">1786</span></a>\n",
       "<span style=\"color: #7fbfbf; text-decoration-color: #7fbfbf\">                    </span>         <span style=\"color: #0000ff; text-decoration-color: #0000ff; text-decoration: underline\">https://api.openai.com/v1/chat/completions</span> <span style=\"color: #008000; text-decoration-color: #008000\">\"HTTP/1.1 200 OK\"</span>           <span style=\"color: #7f7f7f; text-decoration-color: #7f7f7f\">               </span>\n",
       "</pre>\n"
      ],
      "text/plain": [
       "\u001b[2;36m                   \u001b[0m\u001b[2;36m \u001b[0m\u001b[34mINFO    \u001b[0m \u001b[1m[\u001b[0m_client.py:\u001b[1;36m1786\u001b[0m\u001b[1m]\u001b[0m >> HTTP Request: \u001b[1;33mPOST\u001b[0m                                \u001b]8;id=915918;file:///home/livin/anaconda3/envs/rag_pipeline/lib/python3.11/site-packages/httpx/_client.py\u001b\\\u001b[2m_client.py\u001b[0m\u001b]8;;\u001b\\\u001b[2m:\u001b[0m\u001b]8;id=825669;file:///home/livin/anaconda3/envs/rag_pipeline/lib/python3.11/site-packages/httpx/_client.py#1786\u001b\\\u001b[2m1786\u001b[0m\u001b]8;;\u001b\\\n",
       "\u001b[2;36m                    \u001b[0m         \u001b[4;94mhttps://api.openai.com/v1/chat/completions\u001b[0m \u001b[32m\"HTTP/1.1 200 OK\"\u001b[0m           \u001b[2m               \u001b[0m\n"
      ]
     },
     "metadata": {},
     "output_type": "display_data"
    },
    {
     "data": {
      "text/html": [
       "<pre style=\"white-space:pre;overflow-x:auto;line-height:normal;font-family:Menlo,'DejaVu Sans Mono',consolas,'Courier New',monospace\"><span style=\"color: #7fbfbf; text-decoration-color: #7fbfbf\">[10/16/24 13:59:47] </span><span style=\"color: #000080; text-decoration-color: #000080\">INFO    </span> <span style=\"font-weight: bold\">[</span>_client.py:<span style=\"color: #008080; text-decoration-color: #008080; font-weight: bold\">1786</span><span style=\"font-weight: bold\">]</span> &gt;&gt; HTTP Request: <span style=\"color: #808000; text-decoration-color: #808000; font-weight: bold\">POST</span>                                <a href=\"file:///home/livin/anaconda3/envs/rag_pipeline/lib/python3.11/site-packages/httpx/_client.py\" target=\"_blank\"><span style=\"color: #7f7f7f; text-decoration-color: #7f7f7f\">_client.py</span></a><span style=\"color: #7f7f7f; text-decoration-color: #7f7f7f\">:</span><a href=\"file:///home/livin/anaconda3/envs/rag_pipeline/lib/python3.11/site-packages/httpx/_client.py#1786\" target=\"_blank\"><span style=\"color: #7f7f7f; text-decoration-color: #7f7f7f\">1786</span></a>\n",
       "<span style=\"color: #7fbfbf; text-decoration-color: #7fbfbf\">                    </span>         <span style=\"color: #0000ff; text-decoration-color: #0000ff; text-decoration: underline\">https://api.openai.com/v1/chat/completions</span> <span style=\"color: #008000; text-decoration-color: #008000\">\"HTTP/1.1 200 OK\"</span>           <span style=\"color: #7f7f7f; text-decoration-color: #7f7f7f\">               </span>\n",
       "</pre>\n"
      ],
      "text/plain": [
       "\u001b[2;36m[10/16/24 13:59:47]\u001b[0m\u001b[2;36m \u001b[0m\u001b[34mINFO    \u001b[0m \u001b[1m[\u001b[0m_client.py:\u001b[1;36m1786\u001b[0m\u001b[1m]\u001b[0m >> HTTP Request: \u001b[1;33mPOST\u001b[0m                                \u001b]8;id=230442;file:///home/livin/anaconda3/envs/rag_pipeline/lib/python3.11/site-packages/httpx/_client.py\u001b\\\u001b[2m_client.py\u001b[0m\u001b]8;;\u001b\\\u001b[2m:\u001b[0m\u001b]8;id=712016;file:///home/livin/anaconda3/envs/rag_pipeline/lib/python3.11/site-packages/httpx/_client.py#1786\u001b\\\u001b[2m1786\u001b[0m\u001b]8;;\u001b\\\n",
       "\u001b[2;36m                    \u001b[0m         \u001b[4;94mhttps://api.openai.com/v1/chat/completions\u001b[0m \u001b[32m\"HTTP/1.1 200 OK\"\u001b[0m           \u001b[2m               \u001b[0m\n"
      ]
     },
     "metadata": {},
     "output_type": "display_data"
    },
    {
     "data": {
      "text/html": [
       "<pre style=\"white-space:pre;overflow-x:auto;line-height:normal;font-family:Menlo,'DejaVu Sans Mono',consolas,'Courier New',monospace\"><span style=\"color: #7fbfbf; text-decoration-color: #7fbfbf\">                    </span><span style=\"color: #000080; text-decoration-color: #000080\">INFO    </span> <span style=\"font-weight: bold\">[</span>_client.py:<span style=\"color: #008080; text-decoration-color: #008080; font-weight: bold\">1786</span><span style=\"font-weight: bold\">]</span> &gt;&gt; HTTP Request: <span style=\"color: #808000; text-decoration-color: #808000; font-weight: bold\">POST</span>                                <a href=\"file:///home/livin/anaconda3/envs/rag_pipeline/lib/python3.11/site-packages/httpx/_client.py\" target=\"_blank\"><span style=\"color: #7f7f7f; text-decoration-color: #7f7f7f\">_client.py</span></a><span style=\"color: #7f7f7f; text-decoration-color: #7f7f7f\">:</span><a href=\"file:///home/livin/anaconda3/envs/rag_pipeline/lib/python3.11/site-packages/httpx/_client.py#1786\" target=\"_blank\"><span style=\"color: #7f7f7f; text-decoration-color: #7f7f7f\">1786</span></a>\n",
       "<span style=\"color: #7fbfbf; text-decoration-color: #7fbfbf\">                    </span>         <span style=\"color: #0000ff; text-decoration-color: #0000ff; text-decoration: underline\">https://api.openai.com/v1/chat/completions</span> <span style=\"color: #008000; text-decoration-color: #008000\">\"HTTP/1.1 200 OK\"</span>           <span style=\"color: #7f7f7f; text-decoration-color: #7f7f7f\">               </span>\n",
       "</pre>\n"
      ],
      "text/plain": [
       "\u001b[2;36m                   \u001b[0m\u001b[2;36m \u001b[0m\u001b[34mINFO    \u001b[0m \u001b[1m[\u001b[0m_client.py:\u001b[1;36m1786\u001b[0m\u001b[1m]\u001b[0m >> HTTP Request: \u001b[1;33mPOST\u001b[0m                                \u001b]8;id=272743;file:///home/livin/anaconda3/envs/rag_pipeline/lib/python3.11/site-packages/httpx/_client.py\u001b\\\u001b[2m_client.py\u001b[0m\u001b]8;;\u001b\\\u001b[2m:\u001b[0m\u001b]8;id=812443;file:///home/livin/anaconda3/envs/rag_pipeline/lib/python3.11/site-packages/httpx/_client.py#1786\u001b\\\u001b[2m1786\u001b[0m\u001b]8;;\u001b\\\n",
       "\u001b[2;36m                    \u001b[0m         \u001b[4;94mhttps://api.openai.com/v1/chat/completions\u001b[0m \u001b[32m\"HTTP/1.1 200 OK\"\u001b[0m           \u001b[2m               \u001b[0m\n"
      ]
     },
     "metadata": {},
     "output_type": "display_data"
    },
    {
     "data": {
      "text/html": [
       "<pre style=\"white-space:pre;overflow-x:auto;line-height:normal;font-family:Menlo,'DejaVu Sans Mono',consolas,'Courier New',monospace\"><span style=\"color: #7fbfbf; text-decoration-color: #7fbfbf\">                    </span><span style=\"color: #000080; text-decoration-color: #000080\">INFO    </span> <span style=\"font-weight: bold\">[</span>_client.py:<span style=\"color: #008080; text-decoration-color: #008080; font-weight: bold\">1786</span><span style=\"font-weight: bold\">]</span> &gt;&gt; HTTP Request: <span style=\"color: #808000; text-decoration-color: #808000; font-weight: bold\">POST</span>                                <a href=\"file:///home/livin/anaconda3/envs/rag_pipeline/lib/python3.11/site-packages/httpx/_client.py\" target=\"_blank\"><span style=\"color: #7f7f7f; text-decoration-color: #7f7f7f\">_client.py</span></a><span style=\"color: #7f7f7f; text-decoration-color: #7f7f7f\">:</span><a href=\"file:///home/livin/anaconda3/envs/rag_pipeline/lib/python3.11/site-packages/httpx/_client.py#1786\" target=\"_blank\"><span style=\"color: #7f7f7f; text-decoration-color: #7f7f7f\">1786</span></a>\n",
       "<span style=\"color: #7fbfbf; text-decoration-color: #7fbfbf\">                    </span>         <span style=\"color: #0000ff; text-decoration-color: #0000ff; text-decoration: underline\">https://api.openai.com/v1/chat/completions</span> <span style=\"color: #008000; text-decoration-color: #008000\">\"HTTP/1.1 200 OK\"</span>           <span style=\"color: #7f7f7f; text-decoration-color: #7f7f7f\">               </span>\n",
       "</pre>\n"
      ],
      "text/plain": [
       "\u001b[2;36m                   \u001b[0m\u001b[2;36m \u001b[0m\u001b[34mINFO    \u001b[0m \u001b[1m[\u001b[0m_client.py:\u001b[1;36m1786\u001b[0m\u001b[1m]\u001b[0m >> HTTP Request: \u001b[1;33mPOST\u001b[0m                                \u001b]8;id=573507;file:///home/livin/anaconda3/envs/rag_pipeline/lib/python3.11/site-packages/httpx/_client.py\u001b\\\u001b[2m_client.py\u001b[0m\u001b]8;;\u001b\\\u001b[2m:\u001b[0m\u001b]8;id=597417;file:///home/livin/anaconda3/envs/rag_pipeline/lib/python3.11/site-packages/httpx/_client.py#1786\u001b\\\u001b[2m1786\u001b[0m\u001b]8;;\u001b\\\n",
       "\u001b[2;36m                    \u001b[0m         \u001b[4;94mhttps://api.openai.com/v1/chat/completions\u001b[0m \u001b[32m\"HTTP/1.1 200 OK\"\u001b[0m           \u001b[2m               \u001b[0m\n"
      ]
     },
     "metadata": {},
     "output_type": "display_data"
    },
    {
     "data": {
      "text/html": [
       "<pre style=\"white-space:pre;overflow-x:auto;line-height:normal;font-family:Menlo,'DejaVu Sans Mono',consolas,'Courier New',monospace\"><span style=\"color: #7fbfbf; text-decoration-color: #7fbfbf\">                    </span><span style=\"color: #000080; text-decoration-color: #000080\">INFO    </span> <span style=\"font-weight: bold\">[</span>_client.py:<span style=\"color: #008080; text-decoration-color: #008080; font-weight: bold\">1786</span><span style=\"font-weight: bold\">]</span> &gt;&gt; HTTP Request: <span style=\"color: #808000; text-decoration-color: #808000; font-weight: bold\">POST</span>                                <a href=\"file:///home/livin/anaconda3/envs/rag_pipeline/lib/python3.11/site-packages/httpx/_client.py\" target=\"_blank\"><span style=\"color: #7f7f7f; text-decoration-color: #7f7f7f\">_client.py</span></a><span style=\"color: #7f7f7f; text-decoration-color: #7f7f7f\">:</span><a href=\"file:///home/livin/anaconda3/envs/rag_pipeline/lib/python3.11/site-packages/httpx/_client.py#1786\" target=\"_blank\"><span style=\"color: #7f7f7f; text-decoration-color: #7f7f7f\">1786</span></a>\n",
       "<span style=\"color: #7fbfbf; text-decoration-color: #7fbfbf\">                    </span>         <span style=\"color: #0000ff; text-decoration-color: #0000ff; text-decoration: underline\">https://api.openai.com/v1/chat/completions</span> <span style=\"color: #008000; text-decoration-color: #008000\">\"HTTP/1.1 200 OK\"</span>           <span style=\"color: #7f7f7f; text-decoration-color: #7f7f7f\">               </span>\n",
       "</pre>\n"
      ],
      "text/plain": [
       "\u001b[2;36m                   \u001b[0m\u001b[2;36m \u001b[0m\u001b[34mINFO    \u001b[0m \u001b[1m[\u001b[0m_client.py:\u001b[1;36m1786\u001b[0m\u001b[1m]\u001b[0m >> HTTP Request: \u001b[1;33mPOST\u001b[0m                                \u001b]8;id=903228;file:///home/livin/anaconda3/envs/rag_pipeline/lib/python3.11/site-packages/httpx/_client.py\u001b\\\u001b[2m_client.py\u001b[0m\u001b]8;;\u001b\\\u001b[2m:\u001b[0m\u001b]8;id=980615;file:///home/livin/anaconda3/envs/rag_pipeline/lib/python3.11/site-packages/httpx/_client.py#1786\u001b\\\u001b[2m1786\u001b[0m\u001b]8;;\u001b\\\n",
       "\u001b[2;36m                    \u001b[0m         \u001b[4;94mhttps://api.openai.com/v1/chat/completions\u001b[0m \u001b[32m\"HTTP/1.1 200 OK\"\u001b[0m           \u001b[2m               \u001b[0m\n"
      ]
     },
     "metadata": {},
     "output_type": "display_data"
    },
    {
     "data": {
      "text/html": [
       "<pre style=\"white-space:pre;overflow-x:auto;line-height:normal;font-family:Menlo,'DejaVu Sans Mono',consolas,'Courier New',monospace\"><span style=\"color: #7fbfbf; text-decoration-color: #7fbfbf\">                    </span><span style=\"color: #000080; text-decoration-color: #000080\">INFO    </span> <span style=\"font-weight: bold\">[</span>_client.py:<span style=\"color: #008080; text-decoration-color: #008080; font-weight: bold\">1786</span><span style=\"font-weight: bold\">]</span> &gt;&gt; HTTP Request: <span style=\"color: #808000; text-decoration-color: #808000; font-weight: bold\">POST</span>                                <a href=\"file:///home/livin/anaconda3/envs/rag_pipeline/lib/python3.11/site-packages/httpx/_client.py\" target=\"_blank\"><span style=\"color: #7f7f7f; text-decoration-color: #7f7f7f\">_client.py</span></a><span style=\"color: #7f7f7f; text-decoration-color: #7f7f7f\">:</span><a href=\"file:///home/livin/anaconda3/envs/rag_pipeline/lib/python3.11/site-packages/httpx/_client.py#1786\" target=\"_blank\"><span style=\"color: #7f7f7f; text-decoration-color: #7f7f7f\">1786</span></a>\n",
       "<span style=\"color: #7fbfbf; text-decoration-color: #7fbfbf\">                    </span>         <span style=\"color: #0000ff; text-decoration-color: #0000ff; text-decoration: underline\">https://api.openai.com/v1/chat/completions</span> <span style=\"color: #008000; text-decoration-color: #008000\">\"HTTP/1.1 200 OK\"</span>           <span style=\"color: #7f7f7f; text-decoration-color: #7f7f7f\">               </span>\n",
       "</pre>\n"
      ],
      "text/plain": [
       "\u001b[2;36m                   \u001b[0m\u001b[2;36m \u001b[0m\u001b[34mINFO    \u001b[0m \u001b[1m[\u001b[0m_client.py:\u001b[1;36m1786\u001b[0m\u001b[1m]\u001b[0m >> HTTP Request: \u001b[1;33mPOST\u001b[0m                                \u001b]8;id=331689;file:///home/livin/anaconda3/envs/rag_pipeline/lib/python3.11/site-packages/httpx/_client.py\u001b\\\u001b[2m_client.py\u001b[0m\u001b]8;;\u001b\\\u001b[2m:\u001b[0m\u001b]8;id=206546;file:///home/livin/anaconda3/envs/rag_pipeline/lib/python3.11/site-packages/httpx/_client.py#1786\u001b\\\u001b[2m1786\u001b[0m\u001b]8;;\u001b\\\n",
       "\u001b[2;36m                    \u001b[0m         \u001b[4;94mhttps://api.openai.com/v1/chat/completions\u001b[0m \u001b[32m\"HTTP/1.1 200 OK\"\u001b[0m           \u001b[2m               \u001b[0m\n"
      ]
     },
     "metadata": {},
     "output_type": "display_data"
    },
    {
     "data": {
      "text/html": [
       "<pre style=\"white-space:pre;overflow-x:auto;line-height:normal;font-family:Menlo,'DejaVu Sans Mono',consolas,'Courier New',monospace\"><span style=\"color: #7fbfbf; text-decoration-color: #7fbfbf\">                    </span><span style=\"color: #000080; text-decoration-color: #000080\">INFO    </span> <span style=\"font-weight: bold\">[</span>_client.py:<span style=\"color: #008080; text-decoration-color: #008080; font-weight: bold\">1786</span><span style=\"font-weight: bold\">]</span> &gt;&gt; HTTP Request: <span style=\"color: #808000; text-decoration-color: #808000; font-weight: bold\">POST</span>                                <a href=\"file:///home/livin/anaconda3/envs/rag_pipeline/lib/python3.11/site-packages/httpx/_client.py\" target=\"_blank\"><span style=\"color: #7f7f7f; text-decoration-color: #7f7f7f\">_client.py</span></a><span style=\"color: #7f7f7f; text-decoration-color: #7f7f7f\">:</span><a href=\"file:///home/livin/anaconda3/envs/rag_pipeline/lib/python3.11/site-packages/httpx/_client.py#1786\" target=\"_blank\"><span style=\"color: #7f7f7f; text-decoration-color: #7f7f7f\">1786</span></a>\n",
       "<span style=\"color: #7fbfbf; text-decoration-color: #7fbfbf\">                    </span>         <span style=\"color: #0000ff; text-decoration-color: #0000ff; text-decoration: underline\">https://api.openai.com/v1/chat/completions</span> <span style=\"color: #008000; text-decoration-color: #008000\">\"HTTP/1.1 200 OK\"</span>           <span style=\"color: #7f7f7f; text-decoration-color: #7f7f7f\">               </span>\n",
       "</pre>\n"
      ],
      "text/plain": [
       "\u001b[2;36m                   \u001b[0m\u001b[2;36m \u001b[0m\u001b[34mINFO    \u001b[0m \u001b[1m[\u001b[0m_client.py:\u001b[1;36m1786\u001b[0m\u001b[1m]\u001b[0m >> HTTP Request: \u001b[1;33mPOST\u001b[0m                                \u001b]8;id=588713;file:///home/livin/anaconda3/envs/rag_pipeline/lib/python3.11/site-packages/httpx/_client.py\u001b\\\u001b[2m_client.py\u001b[0m\u001b]8;;\u001b\\\u001b[2m:\u001b[0m\u001b]8;id=643718;file:///home/livin/anaconda3/envs/rag_pipeline/lib/python3.11/site-packages/httpx/_client.py#1786\u001b\\\u001b[2m1786\u001b[0m\u001b]8;;\u001b\\\n",
       "\u001b[2;36m                    \u001b[0m         \u001b[4;94mhttps://api.openai.com/v1/chat/completions\u001b[0m \u001b[32m\"HTTP/1.1 200 OK\"\u001b[0m           \u001b[2m               \u001b[0m\n"
      ]
     },
     "metadata": {},
     "output_type": "display_data"
    },
    {
     "data": {
      "text/html": [
       "<pre style=\"white-space:pre;overflow-x:auto;line-height:normal;font-family:Menlo,'DejaVu Sans Mono',consolas,'Courier New',monospace\"><span style=\"color: #7fbfbf; text-decoration-color: #7fbfbf\">                    </span><span style=\"color: #000080; text-decoration-color: #000080\">INFO    </span> <span style=\"font-weight: bold\">[</span>_client.py:<span style=\"color: #008080; text-decoration-color: #008080; font-weight: bold\">1786</span><span style=\"font-weight: bold\">]</span> &gt;&gt; HTTP Request: <span style=\"color: #808000; text-decoration-color: #808000; font-weight: bold\">POST</span>                                <a href=\"file:///home/livin/anaconda3/envs/rag_pipeline/lib/python3.11/site-packages/httpx/_client.py\" target=\"_blank\"><span style=\"color: #7f7f7f; text-decoration-color: #7f7f7f\">_client.py</span></a><span style=\"color: #7f7f7f; text-decoration-color: #7f7f7f\">:</span><a href=\"file:///home/livin/anaconda3/envs/rag_pipeline/lib/python3.11/site-packages/httpx/_client.py#1786\" target=\"_blank\"><span style=\"color: #7f7f7f; text-decoration-color: #7f7f7f\">1786</span></a>\n",
       "<span style=\"color: #7fbfbf; text-decoration-color: #7fbfbf\">                    </span>         <span style=\"color: #0000ff; text-decoration-color: #0000ff; text-decoration: underline\">https://api.openai.com/v1/chat/completions</span> <span style=\"color: #008000; text-decoration-color: #008000\">\"HTTP/1.1 200 OK\"</span>           <span style=\"color: #7f7f7f; text-decoration-color: #7f7f7f\">               </span>\n",
       "</pre>\n"
      ],
      "text/plain": [
       "\u001b[2;36m                   \u001b[0m\u001b[2;36m \u001b[0m\u001b[34mINFO    \u001b[0m \u001b[1m[\u001b[0m_client.py:\u001b[1;36m1786\u001b[0m\u001b[1m]\u001b[0m >> HTTP Request: \u001b[1;33mPOST\u001b[0m                                \u001b]8;id=976873;file:///home/livin/anaconda3/envs/rag_pipeline/lib/python3.11/site-packages/httpx/_client.py\u001b\\\u001b[2m_client.py\u001b[0m\u001b]8;;\u001b\\\u001b[2m:\u001b[0m\u001b]8;id=521260;file:///home/livin/anaconda3/envs/rag_pipeline/lib/python3.11/site-packages/httpx/_client.py#1786\u001b\\\u001b[2m1786\u001b[0m\u001b]8;;\u001b\\\n",
       "\u001b[2;36m                    \u001b[0m         \u001b[4;94mhttps://api.openai.com/v1/chat/completions\u001b[0m \u001b[32m\"HTTP/1.1 200 OK\"\u001b[0m           \u001b[2m               \u001b[0m\n"
      ]
     },
     "metadata": {},
     "output_type": "display_data"
    },
    {
     "data": {
      "text/html": [
       "<pre style=\"white-space:pre;overflow-x:auto;line-height:normal;font-family:Menlo,'DejaVu Sans Mono',consolas,'Courier New',monospace\"><span style=\"color: #7fbfbf; text-decoration-color: #7fbfbf\">[10/16/24 13:59:48] </span><span style=\"color: #000080; text-decoration-color: #000080\">INFO    </span> <span style=\"font-weight: bold\">[</span>_client.py:<span style=\"color: #008080; text-decoration-color: #008080; font-weight: bold\">1786</span><span style=\"font-weight: bold\">]</span> &gt;&gt; HTTP Request: <span style=\"color: #808000; text-decoration-color: #808000; font-weight: bold\">POST</span>                                <a href=\"file:///home/livin/anaconda3/envs/rag_pipeline/lib/python3.11/site-packages/httpx/_client.py\" target=\"_blank\"><span style=\"color: #7f7f7f; text-decoration-color: #7f7f7f\">_client.py</span></a><span style=\"color: #7f7f7f; text-decoration-color: #7f7f7f\">:</span><a href=\"file:///home/livin/anaconda3/envs/rag_pipeline/lib/python3.11/site-packages/httpx/_client.py#1786\" target=\"_blank\"><span style=\"color: #7f7f7f; text-decoration-color: #7f7f7f\">1786</span></a>\n",
       "<span style=\"color: #7fbfbf; text-decoration-color: #7fbfbf\">                    </span>         <span style=\"color: #0000ff; text-decoration-color: #0000ff; text-decoration: underline\">https://api.openai.com/v1/chat/completions</span> <span style=\"color: #008000; text-decoration-color: #008000\">\"HTTP/1.1 200 OK\"</span>           <span style=\"color: #7f7f7f; text-decoration-color: #7f7f7f\">               </span>\n",
       "</pre>\n"
      ],
      "text/plain": [
       "\u001b[2;36m[10/16/24 13:59:48]\u001b[0m\u001b[2;36m \u001b[0m\u001b[34mINFO    \u001b[0m \u001b[1m[\u001b[0m_client.py:\u001b[1;36m1786\u001b[0m\u001b[1m]\u001b[0m >> HTTP Request: \u001b[1;33mPOST\u001b[0m                                \u001b]8;id=512061;file:///home/livin/anaconda3/envs/rag_pipeline/lib/python3.11/site-packages/httpx/_client.py\u001b\\\u001b[2m_client.py\u001b[0m\u001b]8;;\u001b\\\u001b[2m:\u001b[0m\u001b]8;id=983016;file:///home/livin/anaconda3/envs/rag_pipeline/lib/python3.11/site-packages/httpx/_client.py#1786\u001b\\\u001b[2m1786\u001b[0m\u001b]8;;\u001b\\\n",
       "\u001b[2;36m                    \u001b[0m         \u001b[4;94mhttps://api.openai.com/v1/chat/completions\u001b[0m \u001b[32m\"HTTP/1.1 200 OK\"\u001b[0m           \u001b[2m               \u001b[0m\n"
      ]
     },
     "metadata": {},
     "output_type": "display_data"
    },
    {
     "data": {
      "text/html": [
       "<pre style=\"white-space:pre;overflow-x:auto;line-height:normal;font-family:Menlo,'DejaVu Sans Mono',consolas,'Courier New',monospace\"><span style=\"color: #7fbfbf; text-decoration-color: #7fbfbf\">                    </span><span style=\"color: #000080; text-decoration-color: #000080\">INFO    </span> <span style=\"font-weight: bold\">[</span>_client.py:<span style=\"color: #008080; text-decoration-color: #008080; font-weight: bold\">1786</span><span style=\"font-weight: bold\">]</span> &gt;&gt; HTTP Request: <span style=\"color: #808000; text-decoration-color: #808000; font-weight: bold\">POST</span>                                <a href=\"file:///home/livin/anaconda3/envs/rag_pipeline/lib/python3.11/site-packages/httpx/_client.py\" target=\"_blank\"><span style=\"color: #7f7f7f; text-decoration-color: #7f7f7f\">_client.py</span></a><span style=\"color: #7f7f7f; text-decoration-color: #7f7f7f\">:</span><a href=\"file:///home/livin/anaconda3/envs/rag_pipeline/lib/python3.11/site-packages/httpx/_client.py#1786\" target=\"_blank\"><span style=\"color: #7f7f7f; text-decoration-color: #7f7f7f\">1786</span></a>\n",
       "<span style=\"color: #7fbfbf; text-decoration-color: #7fbfbf\">                    </span>         <span style=\"color: #0000ff; text-decoration-color: #0000ff; text-decoration: underline\">https://api.openai.com/v1/chat/completions</span> <span style=\"color: #008000; text-decoration-color: #008000\">\"HTTP/1.1 200 OK\"</span>           <span style=\"color: #7f7f7f; text-decoration-color: #7f7f7f\">               </span>\n",
       "</pre>\n"
      ],
      "text/plain": [
       "\u001b[2;36m                   \u001b[0m\u001b[2;36m \u001b[0m\u001b[34mINFO    \u001b[0m \u001b[1m[\u001b[0m_client.py:\u001b[1;36m1786\u001b[0m\u001b[1m]\u001b[0m >> HTTP Request: \u001b[1;33mPOST\u001b[0m                                \u001b]8;id=572447;file:///home/livin/anaconda3/envs/rag_pipeline/lib/python3.11/site-packages/httpx/_client.py\u001b\\\u001b[2m_client.py\u001b[0m\u001b]8;;\u001b\\\u001b[2m:\u001b[0m\u001b]8;id=642858;file:///home/livin/anaconda3/envs/rag_pipeline/lib/python3.11/site-packages/httpx/_client.py#1786\u001b\\\u001b[2m1786\u001b[0m\u001b]8;;\u001b\\\n",
       "\u001b[2;36m                    \u001b[0m         \u001b[4;94mhttps://api.openai.com/v1/chat/completions\u001b[0m \u001b[32m\"HTTP/1.1 200 OK\"\u001b[0m           \u001b[2m               \u001b[0m\n"
      ]
     },
     "metadata": {},
     "output_type": "display_data"
    },
    {
     "data": {
      "text/html": [
       "<pre style=\"white-space:pre;overflow-x:auto;line-height:normal;font-family:Menlo,'DejaVu Sans Mono',consolas,'Courier New',monospace\"><span style=\"color: #7fbfbf; text-decoration-color: #7fbfbf\">                    </span><span style=\"color: #000080; text-decoration-color: #000080\">INFO    </span> <span style=\"font-weight: bold\">[</span>_client.py:<span style=\"color: #008080; text-decoration-color: #008080; font-weight: bold\">1786</span><span style=\"font-weight: bold\">]</span> &gt;&gt; HTTP Request: <span style=\"color: #808000; text-decoration-color: #808000; font-weight: bold\">POST</span>                                <a href=\"file:///home/livin/anaconda3/envs/rag_pipeline/lib/python3.11/site-packages/httpx/_client.py\" target=\"_blank\"><span style=\"color: #7f7f7f; text-decoration-color: #7f7f7f\">_client.py</span></a><span style=\"color: #7f7f7f; text-decoration-color: #7f7f7f\">:</span><a href=\"file:///home/livin/anaconda3/envs/rag_pipeline/lib/python3.11/site-packages/httpx/_client.py#1786\" target=\"_blank\"><span style=\"color: #7f7f7f; text-decoration-color: #7f7f7f\">1786</span></a>\n",
       "<span style=\"color: #7fbfbf; text-decoration-color: #7fbfbf\">                    </span>         <span style=\"color: #0000ff; text-decoration-color: #0000ff; text-decoration: underline\">https://api.openai.com/v1/chat/completions</span> <span style=\"color: #008000; text-decoration-color: #008000\">\"HTTP/1.1 200 OK\"</span>           <span style=\"color: #7f7f7f; text-decoration-color: #7f7f7f\">               </span>\n",
       "</pre>\n"
      ],
      "text/plain": [
       "\u001b[2;36m                   \u001b[0m\u001b[2;36m \u001b[0m\u001b[34mINFO    \u001b[0m \u001b[1m[\u001b[0m_client.py:\u001b[1;36m1786\u001b[0m\u001b[1m]\u001b[0m >> HTTP Request: \u001b[1;33mPOST\u001b[0m                                \u001b]8;id=831855;file:///home/livin/anaconda3/envs/rag_pipeline/lib/python3.11/site-packages/httpx/_client.py\u001b\\\u001b[2m_client.py\u001b[0m\u001b]8;;\u001b\\\u001b[2m:\u001b[0m\u001b]8;id=837933;file:///home/livin/anaconda3/envs/rag_pipeline/lib/python3.11/site-packages/httpx/_client.py#1786\u001b\\\u001b[2m1786\u001b[0m\u001b]8;;\u001b\\\n",
       "\u001b[2;36m                    \u001b[0m         \u001b[4;94mhttps://api.openai.com/v1/chat/completions\u001b[0m \u001b[32m\"HTTP/1.1 200 OK\"\u001b[0m           \u001b[2m               \u001b[0m\n"
      ]
     },
     "metadata": {},
     "output_type": "display_data"
    },
    {
     "data": {
      "text/html": [
       "<pre style=\"white-space:pre;overflow-x:auto;line-height:normal;font-family:Menlo,'DejaVu Sans Mono',consolas,'Courier New',monospace\"><span style=\"color: #7fbfbf; text-decoration-color: #7fbfbf\">                    </span><span style=\"color: #000080; text-decoration-color: #000080\">INFO    </span> <span style=\"font-weight: bold\">[</span>_client.py:<span style=\"color: #008080; text-decoration-color: #008080; font-weight: bold\">1786</span><span style=\"font-weight: bold\">]</span> &gt;&gt; HTTP Request: <span style=\"color: #808000; text-decoration-color: #808000; font-weight: bold\">POST</span>                                <a href=\"file:///home/livin/anaconda3/envs/rag_pipeline/lib/python3.11/site-packages/httpx/_client.py\" target=\"_blank\"><span style=\"color: #7f7f7f; text-decoration-color: #7f7f7f\">_client.py</span></a><span style=\"color: #7f7f7f; text-decoration-color: #7f7f7f\">:</span><a href=\"file:///home/livin/anaconda3/envs/rag_pipeline/lib/python3.11/site-packages/httpx/_client.py#1786\" target=\"_blank\"><span style=\"color: #7f7f7f; text-decoration-color: #7f7f7f\">1786</span></a>\n",
       "<span style=\"color: #7fbfbf; text-decoration-color: #7fbfbf\">                    </span>         <span style=\"color: #0000ff; text-decoration-color: #0000ff; text-decoration: underline\">https://api.openai.com/v1/chat/completions</span> <span style=\"color: #008000; text-decoration-color: #008000\">\"HTTP/1.1 200 OK\"</span>           <span style=\"color: #7f7f7f; text-decoration-color: #7f7f7f\">               </span>\n",
       "</pre>\n"
      ],
      "text/plain": [
       "\u001b[2;36m                   \u001b[0m\u001b[2;36m \u001b[0m\u001b[34mINFO    \u001b[0m \u001b[1m[\u001b[0m_client.py:\u001b[1;36m1786\u001b[0m\u001b[1m]\u001b[0m >> HTTP Request: \u001b[1;33mPOST\u001b[0m                                \u001b]8;id=363413;file:///home/livin/anaconda3/envs/rag_pipeline/lib/python3.11/site-packages/httpx/_client.py\u001b\\\u001b[2m_client.py\u001b[0m\u001b]8;;\u001b\\\u001b[2m:\u001b[0m\u001b]8;id=811613;file:///home/livin/anaconda3/envs/rag_pipeline/lib/python3.11/site-packages/httpx/_client.py#1786\u001b\\\u001b[2m1786\u001b[0m\u001b]8;;\u001b\\\n",
       "\u001b[2;36m                    \u001b[0m         \u001b[4;94mhttps://api.openai.com/v1/chat/completions\u001b[0m \u001b[32m\"HTTP/1.1 200 OK\"\u001b[0m           \u001b[2m               \u001b[0m\n"
      ]
     },
     "metadata": {},
     "output_type": "display_data"
    },
    {
     "data": {
      "text/html": [
       "<pre style=\"white-space:pre;overflow-x:auto;line-height:normal;font-family:Menlo,'DejaVu Sans Mono',consolas,'Courier New',monospace\"><span style=\"color: #7fbfbf; text-decoration-color: #7fbfbf\">[10/16/24 13:59:49] </span><span style=\"color: #000080; text-decoration-color: #000080\">INFO    </span> <span style=\"font-weight: bold\">[</span>_client.py:<span style=\"color: #008080; text-decoration-color: #008080; font-weight: bold\">1786</span><span style=\"font-weight: bold\">]</span> &gt;&gt; HTTP Request: <span style=\"color: #808000; text-decoration-color: #808000; font-weight: bold\">POST</span>                                <a href=\"file:///home/livin/anaconda3/envs/rag_pipeline/lib/python3.11/site-packages/httpx/_client.py\" target=\"_blank\"><span style=\"color: #7f7f7f; text-decoration-color: #7f7f7f\">_client.py</span></a><span style=\"color: #7f7f7f; text-decoration-color: #7f7f7f\">:</span><a href=\"file:///home/livin/anaconda3/envs/rag_pipeline/lib/python3.11/site-packages/httpx/_client.py#1786\" target=\"_blank\"><span style=\"color: #7f7f7f; text-decoration-color: #7f7f7f\">1786</span></a>\n",
       "<span style=\"color: #7fbfbf; text-decoration-color: #7fbfbf\">                    </span>         <span style=\"color: #0000ff; text-decoration-color: #0000ff; text-decoration: underline\">https://api.openai.com/v1/chat/completions</span> <span style=\"color: #008000; text-decoration-color: #008000\">\"HTTP/1.1 200 OK\"</span>           <span style=\"color: #7f7f7f; text-decoration-color: #7f7f7f\">               </span>\n",
       "</pre>\n"
      ],
      "text/plain": [
       "\u001b[2;36m[10/16/24 13:59:49]\u001b[0m\u001b[2;36m \u001b[0m\u001b[34mINFO    \u001b[0m \u001b[1m[\u001b[0m_client.py:\u001b[1;36m1786\u001b[0m\u001b[1m]\u001b[0m >> HTTP Request: \u001b[1;33mPOST\u001b[0m                                \u001b]8;id=563803;file:///home/livin/anaconda3/envs/rag_pipeline/lib/python3.11/site-packages/httpx/_client.py\u001b\\\u001b[2m_client.py\u001b[0m\u001b]8;;\u001b\\\u001b[2m:\u001b[0m\u001b]8;id=660120;file:///home/livin/anaconda3/envs/rag_pipeline/lib/python3.11/site-packages/httpx/_client.py#1786\u001b\\\u001b[2m1786\u001b[0m\u001b]8;;\u001b\\\n",
       "\u001b[2;36m                    \u001b[0m         \u001b[4;94mhttps://api.openai.com/v1/chat/completions\u001b[0m \u001b[32m\"HTTP/1.1 200 OK\"\u001b[0m           \u001b[2m               \u001b[0m\n"
      ]
     },
     "metadata": {},
     "output_type": "display_data"
    },
    {
     "data": {
      "text/html": [
       "<pre style=\"white-space:pre;overflow-x:auto;line-height:normal;font-family:Menlo,'DejaVu Sans Mono',consolas,'Courier New',monospace\"><span style=\"color: #7fbfbf; text-decoration-color: #7fbfbf\">                    </span><span style=\"color: #000080; text-decoration-color: #000080\">INFO    </span> <span style=\"font-weight: bold\">[</span>_client.py:<span style=\"color: #008080; text-decoration-color: #008080; font-weight: bold\">1786</span><span style=\"font-weight: bold\">]</span> &gt;&gt; HTTP Request: <span style=\"color: #808000; text-decoration-color: #808000; font-weight: bold\">POST</span>                                <a href=\"file:///home/livin/anaconda3/envs/rag_pipeline/lib/python3.11/site-packages/httpx/_client.py\" target=\"_blank\"><span style=\"color: #7f7f7f; text-decoration-color: #7f7f7f\">_client.py</span></a><span style=\"color: #7f7f7f; text-decoration-color: #7f7f7f\">:</span><a href=\"file:///home/livin/anaconda3/envs/rag_pipeline/lib/python3.11/site-packages/httpx/_client.py#1786\" target=\"_blank\"><span style=\"color: #7f7f7f; text-decoration-color: #7f7f7f\">1786</span></a>\n",
       "<span style=\"color: #7fbfbf; text-decoration-color: #7fbfbf\">                    </span>         <span style=\"color: #0000ff; text-decoration-color: #0000ff; text-decoration: underline\">https://api.openai.com/v1/chat/completions</span> <span style=\"color: #008000; text-decoration-color: #008000\">\"HTTP/1.1 200 OK\"</span>           <span style=\"color: #7f7f7f; text-decoration-color: #7f7f7f\">               </span>\n",
       "</pre>\n"
      ],
      "text/plain": [
       "\u001b[2;36m                   \u001b[0m\u001b[2;36m \u001b[0m\u001b[34mINFO    \u001b[0m \u001b[1m[\u001b[0m_client.py:\u001b[1;36m1786\u001b[0m\u001b[1m]\u001b[0m >> HTTP Request: \u001b[1;33mPOST\u001b[0m                                \u001b]8;id=443601;file:///home/livin/anaconda3/envs/rag_pipeline/lib/python3.11/site-packages/httpx/_client.py\u001b\\\u001b[2m_client.py\u001b[0m\u001b]8;;\u001b\\\u001b[2m:\u001b[0m\u001b]8;id=46368;file:///home/livin/anaconda3/envs/rag_pipeline/lib/python3.11/site-packages/httpx/_client.py#1786\u001b\\\u001b[2m1786\u001b[0m\u001b]8;;\u001b\\\n",
       "\u001b[2;36m                    \u001b[0m         \u001b[4;94mhttps://api.openai.com/v1/chat/completions\u001b[0m \u001b[32m\"HTTP/1.1 200 OK\"\u001b[0m           \u001b[2m               \u001b[0m\n"
      ]
     },
     "metadata": {},
     "output_type": "display_data"
    },
    {
     "data": {
      "text/html": [
       "<pre style=\"white-space:pre;overflow-x:auto;line-height:normal;font-family:Menlo,'DejaVu Sans Mono',consolas,'Courier New',monospace\"><span style=\"color: #7fbfbf; text-decoration-color: #7fbfbf\">[10/16/24 13:59:50] </span><span style=\"color: #000080; text-decoration-color: #000080\">INFO    </span> <span style=\"font-weight: bold\">[</span>_client.py:<span style=\"color: #008080; text-decoration-color: #008080; font-weight: bold\">1786</span><span style=\"font-weight: bold\">]</span> &gt;&gt; HTTP Request: <span style=\"color: #808000; text-decoration-color: #808000; font-weight: bold\">POST</span>                                <a href=\"file:///home/livin/anaconda3/envs/rag_pipeline/lib/python3.11/site-packages/httpx/_client.py\" target=\"_blank\"><span style=\"color: #7f7f7f; text-decoration-color: #7f7f7f\">_client.py</span></a><span style=\"color: #7f7f7f; text-decoration-color: #7f7f7f\">:</span><a href=\"file:///home/livin/anaconda3/envs/rag_pipeline/lib/python3.11/site-packages/httpx/_client.py#1786\" target=\"_blank\"><span style=\"color: #7f7f7f; text-decoration-color: #7f7f7f\">1786</span></a>\n",
       "<span style=\"color: #7fbfbf; text-decoration-color: #7fbfbf\">                    </span>         <span style=\"color: #0000ff; text-decoration-color: #0000ff; text-decoration: underline\">https://api.openai.com/v1/chat/completions</span> <span style=\"color: #008000; text-decoration-color: #008000\">\"HTTP/1.1 200 OK\"</span>           <span style=\"color: #7f7f7f; text-decoration-color: #7f7f7f\">               </span>\n",
       "</pre>\n"
      ],
      "text/plain": [
       "\u001b[2;36m[10/16/24 13:59:50]\u001b[0m\u001b[2;36m \u001b[0m\u001b[34mINFO    \u001b[0m \u001b[1m[\u001b[0m_client.py:\u001b[1;36m1786\u001b[0m\u001b[1m]\u001b[0m >> HTTP Request: \u001b[1;33mPOST\u001b[0m                                \u001b]8;id=763858;file:///home/livin/anaconda3/envs/rag_pipeline/lib/python3.11/site-packages/httpx/_client.py\u001b\\\u001b[2m_client.py\u001b[0m\u001b]8;;\u001b\\\u001b[2m:\u001b[0m\u001b]8;id=891822;file:///home/livin/anaconda3/envs/rag_pipeline/lib/python3.11/site-packages/httpx/_client.py#1786\u001b\\\u001b[2m1786\u001b[0m\u001b]8;;\u001b\\\n",
       "\u001b[2;36m                    \u001b[0m         \u001b[4;94mhttps://api.openai.com/v1/chat/completions\u001b[0m \u001b[32m\"HTTP/1.1 200 OK\"\u001b[0m           \u001b[2m               \u001b[0m\n"
      ]
     },
     "metadata": {},
     "output_type": "display_data"
    },
    {
     "data": {
      "text/html": [
       "<pre style=\"white-space:pre;overflow-x:auto;line-height:normal;font-family:Menlo,'DejaVu Sans Mono',consolas,'Courier New',monospace\"><span style=\"color: #7fbfbf; text-decoration-color: #7fbfbf\">[10/16/24 13:59:52] </span><span style=\"color: #000080; text-decoration-color: #000080\">INFO    </span> <span style=\"font-weight: bold\">[</span>_client.py:<span style=\"color: #008080; text-decoration-color: #008080; font-weight: bold\">1786</span><span style=\"font-weight: bold\">]</span> &gt;&gt; HTTP Request: <span style=\"color: #808000; text-decoration-color: #808000; font-weight: bold\">POST</span>                                <a href=\"file:///home/livin/anaconda3/envs/rag_pipeline/lib/python3.11/site-packages/httpx/_client.py\" target=\"_blank\"><span style=\"color: #7f7f7f; text-decoration-color: #7f7f7f\">_client.py</span></a><span style=\"color: #7f7f7f; text-decoration-color: #7f7f7f\">:</span><a href=\"file:///home/livin/anaconda3/envs/rag_pipeline/lib/python3.11/site-packages/httpx/_client.py#1786\" target=\"_blank\"><span style=\"color: #7f7f7f; text-decoration-color: #7f7f7f\">1786</span></a>\n",
       "<span style=\"color: #7fbfbf; text-decoration-color: #7fbfbf\">                    </span>         <span style=\"color: #0000ff; text-decoration-color: #0000ff; text-decoration: underline\">https://api.openai.com/v1/chat/completions</span> <span style=\"color: #008000; text-decoration-color: #008000\">\"HTTP/1.1 200 OK\"</span>           <span style=\"color: #7f7f7f; text-decoration-color: #7f7f7f\">               </span>\n",
       "</pre>\n"
      ],
      "text/plain": [
       "\u001b[2;36m[10/16/24 13:59:52]\u001b[0m\u001b[2;36m \u001b[0m\u001b[34mINFO    \u001b[0m \u001b[1m[\u001b[0m_client.py:\u001b[1;36m1786\u001b[0m\u001b[1m]\u001b[0m >> HTTP Request: \u001b[1;33mPOST\u001b[0m                                \u001b]8;id=976250;file:///home/livin/anaconda3/envs/rag_pipeline/lib/python3.11/site-packages/httpx/_client.py\u001b\\\u001b[2m_client.py\u001b[0m\u001b]8;;\u001b\\\u001b[2m:\u001b[0m\u001b]8;id=601667;file:///home/livin/anaconda3/envs/rag_pipeline/lib/python3.11/site-packages/httpx/_client.py#1786\u001b\\\u001b[2m1786\u001b[0m\u001b]8;;\u001b\\\n",
       "\u001b[2;36m                    \u001b[0m         \u001b[4;94mhttps://api.openai.com/v1/chat/completions\u001b[0m \u001b[32m\"HTTP/1.1 200 OK\"\u001b[0m           \u001b[2m               \u001b[0m\n"
      ]
     },
     "metadata": {},
     "output_type": "display_data"
    },
    {
     "data": {
      "text/html": [
       "<pre style=\"white-space:pre;overflow-x:auto;line-height:normal;font-family:Menlo,'DejaVu Sans Mono',consolas,'Courier New',monospace\"><span style=\"color: #7fbfbf; text-decoration-color: #7fbfbf\">[10/16/24 13:59:54] </span><span style=\"color: #000080; text-decoration-color: #000080\">INFO    </span> <span style=\"font-weight: bold\">[</span>_client.py:<span style=\"color: #008080; text-decoration-color: #008080; font-weight: bold\">1786</span><span style=\"font-weight: bold\">]</span> &gt;&gt; HTTP Request: <span style=\"color: #808000; text-decoration-color: #808000; font-weight: bold\">POST</span>                                <a href=\"file:///home/livin/anaconda3/envs/rag_pipeline/lib/python3.11/site-packages/httpx/_client.py\" target=\"_blank\"><span style=\"color: #7f7f7f; text-decoration-color: #7f7f7f\">_client.py</span></a><span style=\"color: #7f7f7f; text-decoration-color: #7f7f7f\">:</span><a href=\"file:///home/livin/anaconda3/envs/rag_pipeline/lib/python3.11/site-packages/httpx/_client.py#1786\" target=\"_blank\"><span style=\"color: #7f7f7f; text-decoration-color: #7f7f7f\">1786</span></a>\n",
       "<span style=\"color: #7fbfbf; text-decoration-color: #7fbfbf\">                    </span>         <span style=\"color: #0000ff; text-decoration-color: #0000ff; text-decoration: underline\">https://api.openai.com/v1/chat/completions</span> <span style=\"color: #008000; text-decoration-color: #008000\">\"HTTP/1.1 200 OK\"</span>           <span style=\"color: #7f7f7f; text-decoration-color: #7f7f7f\">               </span>\n",
       "</pre>\n"
      ],
      "text/plain": [
       "\u001b[2;36m[10/16/24 13:59:54]\u001b[0m\u001b[2;36m \u001b[0m\u001b[34mINFO    \u001b[0m \u001b[1m[\u001b[0m_client.py:\u001b[1;36m1786\u001b[0m\u001b[1m]\u001b[0m >> HTTP Request: \u001b[1;33mPOST\u001b[0m                                \u001b]8;id=773972;file:///home/livin/anaconda3/envs/rag_pipeline/lib/python3.11/site-packages/httpx/_client.py\u001b\\\u001b[2m_client.py\u001b[0m\u001b]8;;\u001b\\\u001b[2m:\u001b[0m\u001b]8;id=618515;file:///home/livin/anaconda3/envs/rag_pipeline/lib/python3.11/site-packages/httpx/_client.py#1786\u001b\\\u001b[2m1786\u001b[0m\u001b]8;;\u001b\\\n",
       "\u001b[2;36m                    \u001b[0m         \u001b[4;94mhttps://api.openai.com/v1/chat/completions\u001b[0m \u001b[32m\"HTTP/1.1 200 OK\"\u001b[0m           \u001b[2m               \u001b[0m\n"
      ]
     },
     "metadata": {},
     "output_type": "display_data"
    },
    {
     "data": {
      "text/html": [
       "<pre style=\"white-space:pre;overflow-x:auto;line-height:normal;font-family:Menlo,'DejaVu Sans Mono',consolas,'Courier New',monospace\"><span style=\"color: #7fbfbf; text-decoration-color: #7fbfbf\">[10/16/24 13:59:59] </span><span style=\"color: #000080; text-decoration-color: #000080\">INFO    </span> <span style=\"font-weight: bold\">[</span>_client.py:<span style=\"color: #008080; text-decoration-color: #008080; font-weight: bold\">1786</span><span style=\"font-weight: bold\">]</span> &gt;&gt; HTTP Request: <span style=\"color: #808000; text-decoration-color: #808000; font-weight: bold\">POST</span>                                <a href=\"file:///home/livin/anaconda3/envs/rag_pipeline/lib/python3.11/site-packages/httpx/_client.py\" target=\"_blank\"><span style=\"color: #7f7f7f; text-decoration-color: #7f7f7f\">_client.py</span></a><span style=\"color: #7f7f7f; text-decoration-color: #7f7f7f\">:</span><a href=\"file:///home/livin/anaconda3/envs/rag_pipeline/lib/python3.11/site-packages/httpx/_client.py#1786\" target=\"_blank\"><span style=\"color: #7f7f7f; text-decoration-color: #7f7f7f\">1786</span></a>\n",
       "<span style=\"color: #7fbfbf; text-decoration-color: #7fbfbf\">                    </span>         <span style=\"color: #0000ff; text-decoration-color: #0000ff; text-decoration: underline\">https://api.openai.com/v1/chat/completions</span> <span style=\"color: #008000; text-decoration-color: #008000\">\"HTTP/1.1 200 OK\"</span>           <span style=\"color: #7f7f7f; text-decoration-color: #7f7f7f\">               </span>\n",
       "</pre>\n"
      ],
      "text/plain": [
       "\u001b[2;36m[10/16/24 13:59:59]\u001b[0m\u001b[2;36m \u001b[0m\u001b[34mINFO    \u001b[0m \u001b[1m[\u001b[0m_client.py:\u001b[1;36m1786\u001b[0m\u001b[1m]\u001b[0m >> HTTP Request: \u001b[1;33mPOST\u001b[0m                                \u001b]8;id=96179;file:///home/livin/anaconda3/envs/rag_pipeline/lib/python3.11/site-packages/httpx/_client.py\u001b\\\u001b[2m_client.py\u001b[0m\u001b]8;;\u001b\\\u001b[2m:\u001b[0m\u001b]8;id=77878;file:///home/livin/anaconda3/envs/rag_pipeline/lib/python3.11/site-packages/httpx/_client.py#1786\u001b\\\u001b[2m1786\u001b[0m\u001b]8;;\u001b\\\n",
       "\u001b[2;36m                    \u001b[0m         \u001b[4;94mhttps://api.openai.com/v1/chat/completions\u001b[0m \u001b[32m\"HTTP/1.1 200 OK\"\u001b[0m           \u001b[2m               \u001b[0m\n"
      ]
     },
     "metadata": {},
     "output_type": "display_data"
    }
   ],
   "source": [
    "# llm 선언\n",
    "llm = OpenAI(model=\"gpt-4o-mini\")\n",
    "\n",
    "# QA 데이터 생성 파이프라인\n",
    "initial_qa = (\n",
    "    corpus_instance.sample(random_single_hop, random_state=9999, n=20) # 몇개의 corpus를 뽑을지 결정\n",
    "    .map(\n",
    "        lambda df: df.reset_index(drop=True), # Drop index\n",
    "    )\n",
    "    .make_retrieval_gt_contents() # retrieval_gt_contents 생성\n",
    "    .batch_apply(\n",
    "        factoid_query_gen,  # query generation\n",
    "        llm=llm,\n",
    "        lang=\"ko\",\n",
    "    )\n",
    "    .batch_apply(\n",
    "        make_basic_gen_gt,  # answer generation (basic)\n",
    "        llm=llm,\n",
    "        lang=\"ko\",\n",
    "    )\n",
    "    .filter(\n",
    "        dontknow_filter_rule_based,  # unanswerable filter\n",
    "        lang=\"ko\",\n",
    "    )\n",
    ")\n",
    "\n",
    "\n",
    "# 생성된 qa 저장\n",
    "initial_qa.to_parquet('../results/qa/nursing/qa_6.parquet', '../results/qa/nursing/corpus.parquet')"
   ]
  },
  {
   "cell_type": "code",
   "execution_count": 6,
   "metadata": {},
   "outputs": [
    {
     "data": {
      "text/html": [
       "<div>\n",
       "<style scoped>\n",
       "    .dataframe tbody tr th:only-of-type {\n",
       "        vertical-align: middle;\n",
       "    }\n",
       "\n",
       "    .dataframe tbody tr th {\n",
       "        vertical-align: top;\n",
       "    }\n",
       "\n",
       "    .dataframe thead th {\n",
       "        text-align: right;\n",
       "    }\n",
       "</style>\n",
       "<table border=\"1\" class=\"dataframe\">\n",
       "  <thead>\n",
       "    <tr style=\"text-align: right;\">\n",
       "      <th></th>\n",
       "      <th>qid</th>\n",
       "      <th>retrieval_gt</th>\n",
       "      <th>retrieval_gt_contents</th>\n",
       "      <th>query</th>\n",
       "      <th>generation_gt</th>\n",
       "    </tr>\n",
       "  </thead>\n",
       "  <tbody>\n",
       "    <tr>\n",
       "      <th>0</th>\n",
       "      <td>8cc05e9e-b7aa-4ebf-a824-263380d9950e</td>\n",
       "      <td>[[3ea0aa60-7a9c-45ef-8538-cd9bff16b9b3]]</td>\n",
       "      <td>[[파일 제목: 15장 심장장애 대상자 간호-(2)\\n...</td>\n",
       "      <td>경피적 인공심박동기(Transcutaneous pacing, TCP)는 어떤 방법으...</td>\n",
       "      <td>[경피적 인공심박동기(Transcutaneous pacing, TCP)는 피부에 부...</td>\n",
       "    </tr>\n",
       "    <tr>\n",
       "      <th>1</th>\n",
       "      <td>07090ade-47ae-4bcf-a26c-b200f250d4a1</td>\n",
       "      <td>[[f72ed50c-8b79-4a08-b744-68cf4c39e68e]]</td>\n",
       "      <td>[[파일 제목: 21장 근골격계 장애\\n 내용: 간호&lt;/p&gt;&lt;...</td>\n",
       "      <td>고유의 구조와 기능을 가진 인간의 뼈는 총 몇 개입니까?</td>\n",
       "      <td>[인간의 뼈는 총 206개입니다.]</td>\n",
       "    </tr>\n",
       "  </tbody>\n",
       "</table>\n",
       "</div>"
      ],
      "text/plain": [
       "                                    qid  \\\n",
       "0  8cc05e9e-b7aa-4ebf-a824-263380d9950e   \n",
       "1  07090ade-47ae-4bcf-a26c-b200f250d4a1   \n",
       "\n",
       "                               retrieval_gt  \\\n",
       "0  [[3ea0aa60-7a9c-45ef-8538-cd9bff16b9b3]]   \n",
       "1  [[f72ed50c-8b79-4a08-b744-68cf4c39e68e]]   \n",
       "\n",
       "                               retrieval_gt_contents  \\\n",
       "0  [[파일 제목: 15장 심장장애 대상자 간호-(2)\\n...   \n",
       "1  [[파일 제목: 21장 근골격계 장애\\n 내용: 간호</p><...   \n",
       "\n",
       "                                               query  \\\n",
       "0  경피적 인공심박동기(Transcutaneous pacing, TCP)는 어떤 방법으...   \n",
       "1                    고유의 구조와 기능을 가진 인간의 뼈는 총 몇 개입니까?   \n",
       "\n",
       "                                       generation_gt  \n",
       "0  [경피적 인공심박동기(Transcutaneous pacing, TCP)는 피부에 부...  \n",
       "1                                [인간의 뼈는 총 206개입니다.]  "
      ]
     },
     "execution_count": 6,
     "metadata": {},
     "output_type": "execute_result"
    }
   ],
   "source": [
    "# 생성된 qa 확인\n",
    "initial_qa.data.head(2)"
   ]
  },
  {
   "cell_type": "code",
   "execution_count": 16,
   "metadata": {},
   "outputs": [
    {
     "data": {
      "text/html": [
       "<div>\n",
       "<style scoped>\n",
       "    .dataframe tbody tr th:only-of-type {\n",
       "        vertical-align: middle;\n",
       "    }\n",
       "\n",
       "    .dataframe tbody tr th {\n",
       "        vertical-align: top;\n",
       "    }\n",
       "\n",
       "    .dataframe thead th {\n",
       "        text-align: right;\n",
       "    }\n",
       "</style>\n",
       "<table border=\"1\" class=\"dataframe\">\n",
       "  <thead>\n",
       "    <tr style=\"text-align: right;\">\n",
       "      <th></th>\n",
       "      <th>qid</th>\n",
       "      <th>query</th>\n",
       "      <th>retrieval_gt</th>\n",
       "      <th>generation_gt</th>\n",
       "    </tr>\n",
       "  </thead>\n",
       "  <tbody>\n",
       "    <tr>\n",
       "      <th>0</th>\n",
       "      <td>052b323b-fa7f-41f0-9dd6-41791d2a5d6f</td>\n",
       "      <td>에어컨을 사용한 후 차량 밑바닥에서 물이 떨어지는 이유는 무엇인가요?</td>\n",
       "      <td>[[5d54c7a1-134d-4c29-a07f-68f68d7979a8]]</td>\n",
       "      <td>[에어컨을 사용한 후 차량 밑바닥에서 물이 떨어지는 것은 정상적인 현상입니다.]</td>\n",
       "    </tr>\n",
       "    <tr>\n",
       "      <th>1</th>\n",
       "      <td>3e372364-e950-41bb-beff-dad5cecfdedd</td>\n",
       "      <td>USB 충전 단자는 어떤 용도로 사용되며, 이 단자를 통해 미디어를 재생할 수 있습니까?</td>\n",
       "      <td>[[596ccf0f-1e57-41dc-908a-a3f99803ba80]]</td>\n",
       "      <td>[USB 충전 단자는 충전 전용으로 사용되며, 이 단자를 통해서는 인포테인먼트 시스...</td>\n",
       "    </tr>\n",
       "  </tbody>\n",
       "</table>\n",
       "</div>"
      ],
      "text/plain": [
       "                                    qid  \\\n",
       "0  052b323b-fa7f-41f0-9dd6-41791d2a5d6f   \n",
       "1  3e372364-e950-41bb-beff-dad5cecfdedd   \n",
       "\n",
       "                                               query  \\\n",
       "0             에어컨을 사용한 후 차량 밑바닥에서 물이 떨어지는 이유는 무엇인가요?   \n",
       "1  USB 충전 단자는 어떤 용도로 사용되며, 이 단자를 통해 미디어를 재생할 수 있습니까?   \n",
       "\n",
       "                               retrieval_gt  \\\n",
       "0  [[5d54c7a1-134d-4c29-a07f-68f68d7979a8]]   \n",
       "1  [[596ccf0f-1e57-41dc-908a-a3f99803ba80]]   \n",
       "\n",
       "                                       generation_gt  \n",
       "0       [에어컨을 사용한 후 차량 밑바닥에서 물이 떨어지는 것은 정상적인 현상입니다.]  \n",
       "1  [USB 충전 단자는 충전 전용으로 사용되며, 이 단자를 통해서는 인포테인먼트 시스...  "
      ]
     },
     "execution_count": 16,
     "metadata": {},
     "output_type": "execute_result"
    }
   ],
   "source": [
    "# Chunk 결과 확인\n",
    "corpus_df = pd.read_parquet(\"/home/livin/rag_pipeline/AutoRAG/results/qa/hyundai_upstage_qa_3.parquet\")\n",
    "corpus_df.head(2)"
   ]
  },
  {
   "cell_type": "markdown",
   "metadata": {},
   "source": [
    "# QA Integration\n",
    "* 다양한 QA 셋을 통합하여 하나의 QA 셋으로 만듦"
   ]
  },
  {
   "cell_type": "code",
   "execution_count": 7,
   "metadata": {},
   "outputs": [],
   "source": [
    "qa_list = [\"../results/qa/nursing/qa_1.parquet\", \"../results/qa/nursing/qa_2.parquet\",\"../results/qa/nursing/qa_3.parquet\",\"../results/qa/nursing/qa_4.parquet\",\"../results/qa/nursing/qa_5.parquet\",\"../results/qa/nursing/qa_6.parquet\"]"
   ]
  },
  {
   "cell_type": "code",
   "execution_count": 8,
   "metadata": {},
   "outputs": [],
   "source": [
    "# 여러 qa 파일을 하나의 qa 파일로 합치기\n",
    "qa_df = pd.concat([pd.read_parquet(qa) for qa in qa_list], ignore_index=True)\n",
    "\n",
    "# qa 저장\n",
    "qa_df.to_parquet(\"../results/qa/nursing/nursing_qa.parquet\")"
   ]
  },
  {
   "cell_type": "markdown",
   "metadata": {},
   "source": [
    "# Test"
   ]
  },
  {
   "cell_type": "code",
   "execution_count": 20,
   "metadata": {},
   "outputs": [],
   "source": [
    "qa_df = pd.read_parquet('../results/qa/hyundai_upstage_qa_1234.parquet')\n",
    "corpus_df = pd.read_parquet('../results/qa/hyundai_upstage_corpus.parquet')"
   ]
  },
  {
   "cell_type": "code",
   "execution_count": 21,
   "metadata": {},
   "outputs": [
    {
     "data": {
      "text/html": [
       "<div>\n",
       "<style scoped>\n",
       "    .dataframe tbody tr th:only-of-type {\n",
       "        vertical-align: middle;\n",
       "    }\n",
       "\n",
       "    .dataframe tbody tr th {\n",
       "        vertical-align: top;\n",
       "    }\n",
       "\n",
       "    .dataframe thead th {\n",
       "        text-align: right;\n",
       "    }\n",
       "</style>\n",
       "<table border=\"1\" class=\"dataframe\">\n",
       "  <thead>\n",
       "    <tr style=\"text-align: right;\">\n",
       "      <th></th>\n",
       "      <th>qid</th>\n",
       "      <th>query</th>\n",
       "      <th>retrieval_gt</th>\n",
       "      <th>generation_gt</th>\n",
       "    </tr>\n",
       "  </thead>\n",
       "  <tbody>\n",
       "    <tr>\n",
       "      <th>0</th>\n",
       "      <td>f81a5a16-1c6b-4e59-af51-6e4b0959b456</td>\n",
       "      <td>고속도로 주행 보조 설정은 몇 페이지에 나와 있습니까?</td>\n",
       "      <td>[[937e0eea-65b2-4195-b374-a72c6eccb872]]</td>\n",
       "      <td>[고속도로 주행 보조 설정은 7-81 페이지에 나와 있습니다.]</td>\n",
       "    </tr>\n",
       "    <tr>\n",
       "      <th>1</th>\n",
       "      <td>894f74ee-f5e1-41d8-a5ef-484b50f28bb0</td>\n",
       "      <td>디지털 센터 미러의 올바른 사용에 대한 경고 및 지침을 따르지 않으면 어떤 위험이 ...</td>\n",
       "      <td>[[05115da3-694b-49c1-9004-c59462259054]]</td>\n",
       "      <td>[디지털 센터 미러의 올바른 사용에 대한 경고 및 지침을 따르지 않으면 심각한 사고...</td>\n",
       "    </tr>\n",
       "  </tbody>\n",
       "</table>\n",
       "</div>"
      ],
      "text/plain": [
       "                                    qid  \\\n",
       "0  f81a5a16-1c6b-4e59-af51-6e4b0959b456   \n",
       "1  894f74ee-f5e1-41d8-a5ef-484b50f28bb0   \n",
       "\n",
       "                                               query  \\\n",
       "0                     고속도로 주행 보조 설정은 몇 페이지에 나와 있습니까?   \n",
       "1  디지털 센터 미러의 올바른 사용에 대한 경고 및 지침을 따르지 않으면 어떤 위험이 ...   \n",
       "\n",
       "                               retrieval_gt  \\\n",
       "0  [[937e0eea-65b2-4195-b374-a72c6eccb872]]   \n",
       "1  [[05115da3-694b-49c1-9004-c59462259054]]   \n",
       "\n",
       "                                       generation_gt  \n",
       "0                [고속도로 주행 보조 설정은 7-81 페이지에 나와 있습니다.]  \n",
       "1  [디지털 센터 미러의 올바른 사용에 대한 경고 및 지침을 따르지 않으면 심각한 사고...  "
      ]
     },
     "execution_count": 21,
     "metadata": {},
     "output_type": "execute_result"
    }
   ],
   "source": [
    "qa_df.head(2)"
   ]
  },
  {
   "cell_type": "code",
   "execution_count": 23,
   "metadata": {},
   "outputs": [
    {
     "data": {
      "text/plain": [
       "120"
      ]
     },
     "execution_count": 23,
     "metadata": {},
     "output_type": "execute_result"
    }
   ],
   "source": [
    "len(qa_df)"
   ]
  },
  {
   "cell_type": "code",
   "execution_count": 24,
   "metadata": {},
   "outputs": [
    {
     "data": {
      "text/html": [
       "<div>\n",
       "<style scoped>\n",
       "    .dataframe tbody tr th:only-of-type {\n",
       "        vertical-align: middle;\n",
       "    }\n",
       "\n",
       "    .dataframe tbody tr th {\n",
       "        vertical-align: top;\n",
       "    }\n",
       "\n",
       "    .dataframe thead th {\n",
       "        text-align: right;\n",
       "    }\n",
       "</style>\n",
       "<table border=\"1\" class=\"dataframe\">\n",
       "  <thead>\n",
       "    <tr style=\"text-align: right;\">\n",
       "      <th></th>\n",
       "      <th>doc_id</th>\n",
       "      <th>contents</th>\n",
       "      <th>metadata</th>\n",
       "    </tr>\n",
       "  </thead>\n",
       "  <tbody>\n",
       "    <tr>\n",
       "      <th>0</th>\n",
       "      <td>af0d9d7f-a1ca-40a9-9c16-67676f0bc620</td>\n",
       "      <td>파일 제목: hyndai.pdf\\n 내용: &lt;h1 id='0' style='font...</td>\n",
       "      <td>{'last_modified_datetime': '2024-09-06', 'next...</td>\n",
       "    </tr>\n",
       "    <tr>\n",
       "      <th>1</th>\n",
       "      <td>d982d5c6-41fb-4d96-ad9a-76929fe018b5</td>\n",
       "      <td>파일 제목: hyndai.pdf\\n 내용: 포 함 하 여 설 명&lt;br&gt;하 고 있 습...</td>\n",
       "      <td>{'last_modified_datetime': '2024-09-06', 'next...</td>\n",
       "    </tr>\n",
       "  </tbody>\n",
       "</table>\n",
       "</div>"
      ],
      "text/plain": [
       "                                 doc_id  \\\n",
       "0  af0d9d7f-a1ca-40a9-9c16-67676f0bc620   \n",
       "1  d982d5c6-41fb-4d96-ad9a-76929fe018b5   \n",
       "\n",
       "                                            contents  \\\n",
       "0  파일 제목: hyndai.pdf\\n 내용: <h1 id='0' style='font...   \n",
       "1  파일 제목: hyndai.pdf\\n 내용: 포 함 하 여 설 명<br>하 고 있 습...   \n",
       "\n",
       "                                            metadata  \n",
       "0  {'last_modified_datetime': '2024-09-06', 'next...  \n",
       "1  {'last_modified_datetime': '2024-09-06', 'next...  "
      ]
     },
     "execution_count": 24,
     "metadata": {},
     "output_type": "execute_result"
    }
   ],
   "source": [
    "corpus_df.head(2)"
   ]
  },
  {
   "cell_type": "code",
   "execution_count": 25,
   "metadata": {},
   "outputs": [
    {
     "name": "stdout",
     "output_type": "stream",
     "text": [
      "고속도로 주행 보조 설정은 몇 페이지에 나와 있습니까?\n",
      "['고속도로 주행 보조 설정은 7-81 페이지에 나와 있습니다.']\n"
     ]
    }
   ],
   "source": [
    "idx = 0\n",
    "print(qa_df.loc[idx, 'query'])\n",
    "print(qa_df.loc[idx, 'generation_gt'])"
   ]
  },
  {
   "cell_type": "code",
   "execution_count": 26,
   "metadata": {},
   "outputs": [
    {
     "data": {
      "text/plain": [
       "\"파일 제목: hyndai.pdf\\n 내용: 해제 기능 5-30<br>고속도로 주행 보조 설정 7-81<br>전자식 차일드 락 5-30<br>고속도로 주행 보조 이상 및 제한 사항 7-88<br>차 밖에서의 잠금/잠금 해제 5-26<br>고속도로 주행 보조 작동 7-82<br>차 안에서의 잠금/잠금 해제 5-28<br>공조 장치용 에어필터 9-20<br>차속 감응 자동 도어 잠금 장치 5-29<br>에어필터 교체 9-20<br>충돌 감지 자동 도어 잠금 해제 장치 5-29<br>에어필터 점검 9-20<br>도어/테일게이트/<br>교차로나 건널목에서의 긴급 상황 대처 2-9<br>유리창을 열고 닫을 때 조심 2-8<br>규격 타이어 장착 및 타이어 공기압 수시 점검<br>듀얼 와이드 선루프 5-59<br>2-4<br>물체 끼임 인식 기능 5-61<br>기타 주의 사항 2-11<br>선루프 열림 경고 5-62<br>선루프 초기화 5-62<br>나 선블라인드 (앞)/파워 선블라인드 (뒤) 5-59<br>슬라이드 열림/닫힘 (앞좌석) 5-60<br>내 비게이션 기반 스마트 크루즈 컨트롤 (NSCC)<br>틸트 열림/닫힘 (앞좌석) 5-60<br>7-71<br>내비게이션 기반 스마트 크루즈 컨트롤 설정<br>7-72 마<br>내비게이션 기반 스마트 크루즈 컨트롤 작동<br>7-72 무 선 소프트웨어 업데이트 5-85<br>작동 제한 사항 7-74 소프트웨어 업데이트 승인 5-85<br>냉각수 점검 9-15 소프트웨어 자동 다운로드 5-85<br>냉각수량 점검 및 보충 9-15 미러 5-42<br>냉각수의 교체 9-17 실내 미러 5-42<br>실외 미러 5-48</p><footer id='14' style='font-size:18px'>I-2</footer><br><h1 id='15' style='font-size:14px'>MX5HEV_ko_KR.book Page 3</h1><p id='16' data-category='paragraph' style='font-size:16px'>밀폐된 공간에서 엔진 시동 후 차량 점검 금지</p><br><h1 id='17' style='font-size:20px'>I</h1><p id='18' data-category='index' style='font-size:16px'>수동 속도 제한 보조 (MSLA) 7-43<br>2-9 수동 속도 제한 보조 작동 7-43<br>스마트 크루즈 컨트롤 (SCC) 7-57<br>바 스마트 크루즈\""
      ]
     },
     "execution_count": 26,
     "metadata": {},
     "output_type": "execute_result"
    }
   ],
   "source": [
    "corpus_df[corpus_df[\"doc_id\"] == qa_df.loc[idx, \"retrieval_gt\"][0][0]][\"contents\"].item()"
   ]
  }
 ],
 "metadata": {
  "kernelspec": {
   "display_name": "rag_pipeline",
   "language": "python",
   "name": "python3"
  },
  "language_info": {
   "codemirror_mode": {
    "name": "ipython",
    "version": 3
   },
   "file_extension": ".py",
   "mimetype": "text/x-python",
   "name": "python",
   "nbconvert_exporter": "python",
   "pygments_lexer": "ipython3",
   "version": "3.11.7"
  }
 },
 "nbformat": 4,
 "nbformat_minor": 2
}
